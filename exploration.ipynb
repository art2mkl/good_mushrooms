{
 "cells": [
  {
   "cell_type": "markdown",
   "id": "5df985b8",
   "metadata": {},
   "source": [
    "## Import des librairies"
   ]
  },
  {
   "cell_type": "code",
   "execution_count": 1,
   "id": "34f8ed4e",
   "metadata": {
    "ExecuteTime": {
     "end_time": "2022-08-27T10:19:23.587427Z",
     "start_time": "2022-08-27T10:18:52.741258Z"
    }
   },
   "outputs": [],
   "source": [
    "import pandas as pd\n",
    "import numpy as np\n",
    "import matplotlib.pyplot as plt\n",
    "import seaborn as sns\n",
    "\n",
    "#Display\n",
    "from IPython.core.display import HTML\n",
    "from IPython.display import display\n",
    "\n",
    "sns.set_theme(style=\"white\", rc={\n",
    "        \"axes.edgecolor\": \"black\",\n",
    "        \"ytick.color\":\"white\",\n",
    "        'axes.spines.left': False,      \n",
    "        'axes.spines.right': False,\n",
    "        'axes.spines.top': False})"
   ]
  },
  {
   "cell_type": "markdown",
   "id": "b091c0c4",
   "metadata": {},
   "source": [
    "<h2>Création de la classe de viz</h2>"
   ]
  },
  {
   "cell_type": "code",
   "execution_count": 26,
   "id": "ee6e0cf3",
   "metadata": {
    "ExecuteTime": {
     "end_time": "2022-05-23T09:56:48.929387Z",
     "start_time": "2022-05-23T09:56:48.888781Z"
    }
   },
   "outputs": [],
   "source": [
    "class Mushroom_viz():\n",
    "    \n",
    "    def __init__(self,df, target):\n",
    "         #--------------------------------------------------------\n",
    "        \"\"\" • Initialise with Data_ml\n",
    "            • Params = df, target\n",
    "            • Return None \"\"\"\n",
    "        #---------------------------------------------------------\n",
    "        self.df = df\n",
    "        self.target = target\n",
    "        \n",
    "    \n",
    "    def data_head(self):\n",
    "        #---------------------------------------------------------\n",
    "        \"\"\" • Shows 5 first lines of Dataset\n",
    "            • Return dataset \"\"\"\n",
    "        #---------------------------------------------------------       \n",
    "        return self.df.head()\n",
    "    \n",
    "    \n",
    "    def data_shape(self):\n",
    "        #---------------------------------------------------------\n",
    "        \"\"\" • Shows basics infos from dataset\n",
    "            • Return string \"\"\"\n",
    "        #---------------------------------------------------------\n",
    "        string = [f\"Nombre de lignes : {self.df.shape[0]} lignes\",\n",
    "        f\"Nombre de colonnes : {self.df.shape[1]} colonnes\",\n",
    "        f\"Nombre total de celulles non nulles : {self.df.notna().sum().sum()}\",\n",
    "        f\"Nombre total de cellules nulles : {self.df.isna().sum().sum()}\"]\n",
    "        \n",
    "        return string\n",
    "    \n",
    "    def data_sample(self):\n",
    "        #---------------------------------------------------------\n",
    "        \"\"\" • Shows samples of features from dataset\n",
    "            • Return dataset \"\"\"\n",
    "        #---------------------------------------------------------\n",
    "        samples = []\n",
    "        for i in self.df.columns:\n",
    "            samples.append(str(list(self.df[i].head(5))))\n",
    "\n",
    "        obs = pd.DataFrame({\n",
    "            'name' : self.df.columns,\n",
    "            'type':self.df.dtypes,\n",
    "            'sample':samples,\n",
    "            '% nulls':round((self.df.isnull().sum()/len(self.df))*100)   \n",
    "            })\n",
    "\n",
    "        return obs\n",
    "        \n",
    "    \n",
    "    def infos(self):\n",
    "        #---------------------------------------------------------\n",
    "        \"\"\" • Shows infos on self.df(lines, columns, nulls) \n",
    "            and make sample of features\n",
    "            • Return dataset \"\"\"\n",
    "        #---------------------------------------------------------             \n",
    "        print('')\n",
    "        display(HTML('<h2>INFOS DATASET</h2>'))\n",
    "        \n",
    "        display(HTML('<h3>Head dataset</h3>'))\n",
    "        display(self.data_head())\n",
    "        \n",
    "        display(HTML('<h3>Shape dataset</h3>'))\n",
    "        display(self.data_shape())\n",
    "\n",
    "        display(HTML('<h3>Sample dataset</h3>'))\n",
    "        display(self.data_sample())   \n",
    "    \n",
    "    \n",
    "    def look(self, target):\n",
    "        #---------------------------------------------------------\n",
    "        \"\"\" • Shows infos on self.df(lines, columns, nulls) \n",
    "            and make sample of features\n",
    "            • Return dataset \"\"\"\n",
    "        #---------------------------------------------------------       \n",
    "        display(HTML(f'<h3>Analysis of feature : \"{target}\"</h3>'))\n",
    "        display(self.df[target].describe())\n",
    "        \n",
    "        fig, ax = plt.subplots(figsize=(8,6))\n",
    "        plot = sns.histplot(data=self.df, x=target, shrink=.8, ax=ax)\n",
    "        ax.set_title(f'Distribution of {target}', size=20, weight='bold')\n",
    "        ax.bar_label(ax.containers[0])\n",
    "        return fig\n",
    "        \n",
    "    \n",
    "    def korr(self, target):\n",
    "        #---------------------------------------------------------\n",
    "        \"\"\" • Shows infos correlation between numeric targets\n",
    "            • Return plot \"\"\"\n",
    "        #---------------------------------------------------------            \n",
    "        temp_df = self.df.copy()\n",
    "        \n",
    "        if target in list(self.df.select_dtypes(exclude=[np.number]).columns):\n",
    "\n",
    "            listing = temp_df[target].unique()\n",
    "            replacing = list(range(1, len(listing)+1))\n",
    "            temp_df[target] = temp_df[target].replace(listing,replacing)\n",
    "            \n",
    "            df_corr = temp_df.corr()\n",
    "        else:\n",
    "            df_corr = self.df.corr()\n",
    "                    \n",
    "        corr_target = df_corr.sort_values(target, ascending=False)\n",
    "        \n",
    "        fig, ax = plt.subplots(figsize=(8,6))\n",
    "        plot = sns.barplot(x=corr_target[target], y=corr_target.index, ax=ax)\n",
    "        fig.suptitle(f'Correlation des features vis à vis de {target}')\n",
    "        return fig\n",
    "\n",
    "    \n",
    "    def kompare(self, x, y):\n",
    "        #---------------------------------------------------------\n",
    "        \"\"\" • Scatterplot with regression line between numeric targets\n",
    "            • Return plot \"\"\"\n",
    "        #---------------------------------------------------------    \n",
    "        \n",
    "        new_df = self.df.copy()\n",
    "        \n",
    "        if (x in list(self.df.select_dtypes(exclude=[np.number]).columns)):\n",
    "            listing = new_df[x].unique()\n",
    "            replacing = list(range(1, len(listing)+1))\n",
    "            new_df[x] = new_df[x].replace(listing,replacing)\n",
    "            \n",
    "        if (y in list(self.df.select_dtypes(exclude=[np.number]).columns)):\n",
    "            listing = new_df[y].unique()\n",
    "            replacing = list(range(1, len(listing)+1))\n",
    "            new_df[y] = new_df[y].replace(listing,replacing)\n",
    "        \n",
    "        fig, ax = plt.subplots(figsize=(8,6))\n",
    "        #plot = sns.lmplot(x=x, y=y, data=new_df, height=5, aspect=2)\n",
    "        plot = sns.regplot(x=x, y=y, data=new_df, ax=ax)\n",
    "        fig.suptitle(f'Comparaison de {x} en fonction de {y}');\n",
    "        return fig\n",
    "    \n",
    "    def focus(self, feature):\n",
    "        #---------------------------------------------------------\n",
    "        \"\"\" • analyses feature\n",
    "            • Return text \"\"\"\n",
    "        #---------------------------------------------------------    \n",
    "        \n",
    "        return self.df[feature].value_counts()"
   ]
  },
  {
   "cell_type": "markdown",
   "id": "45f783ef",
   "metadata": {
    "ExecuteTime": {
     "end_time": "2022-05-23T08:22:11.150206Z",
     "start_time": "2022-05-23T08:22:11.120486Z"
    }
   },
   "source": [
    "## Création de l'objet viz en associant la target class"
   ]
  },
  {
   "cell_type": "code",
   "execution_count": 27,
   "id": "6c0b689a",
   "metadata": {
    "ExecuteTime": {
     "end_time": "2022-05-23T09:56:49.002937Z",
     "start_time": "2022-05-23T09:56:48.933222Z"
    }
   },
   "outputs": [],
   "source": [
    "df = pd.read_csv('mushrooms.csv')\n",
    "mushroom = Mushroom_viz(df, 'class')"
   ]
  },
  {
   "cell_type": "markdown",
   "id": "688b11da",
   "metadata": {
    "ExecuteTime": {
     "end_time": "2022-05-23T09:01:15.701455Z",
     "start_time": "2022-05-23T09:01:15.622621Z"
    }
   },
   "source": [
    "## Visualiser les infos de bases"
   ]
  },
  {
   "cell_type": "code",
   "execution_count": 28,
   "id": "d35ef9ff",
   "metadata": {
    "ExecuteTime": {
     "end_time": "2022-05-23T09:56:49.277186Z",
     "start_time": "2022-05-23T09:56:49.014013Z"
    }
   },
   "outputs": [
    {
     "name": "stdout",
     "output_type": "stream",
     "text": [
      "\n"
     ]
    },
    {
     "data": {
      "text/html": [
       "<h2>INFOS DATASET</h2>"
      ],
      "text/plain": [
       "<IPython.core.display.HTML object>"
      ]
     },
     "metadata": {},
     "output_type": "display_data"
    },
    {
     "data": {
      "text/html": [
       "<h3>Head dataset</h3>"
      ],
      "text/plain": [
       "<IPython.core.display.HTML object>"
      ]
     },
     "metadata": {},
     "output_type": "display_data"
    },
    {
     "data": {
      "text/html": [
       "<div>\n",
       "<style scoped>\n",
       "    .dataframe tbody tr th:only-of-type {\n",
       "        vertical-align: middle;\n",
       "    }\n",
       "\n",
       "    .dataframe tbody tr th {\n",
       "        vertical-align: top;\n",
       "    }\n",
       "\n",
       "    .dataframe thead th {\n",
       "        text-align: right;\n",
       "    }\n",
       "</style>\n",
       "<table border=\"1\" class=\"dataframe\">\n",
       "  <thead>\n",
       "    <tr style=\"text-align: right;\">\n",
       "      <th></th>\n",
       "      <th>class</th>\n",
       "      <th>cap-shape</th>\n",
       "      <th>cap-surface</th>\n",
       "      <th>cap-color</th>\n",
       "      <th>bruises</th>\n",
       "      <th>odor</th>\n",
       "      <th>gill-attachment</th>\n",
       "      <th>gill-spacing</th>\n",
       "      <th>gill-size</th>\n",
       "      <th>gill-color</th>\n",
       "      <th>...</th>\n",
       "      <th>stalk-surface-below-ring</th>\n",
       "      <th>stalk-color-above-ring</th>\n",
       "      <th>stalk-color-below-ring</th>\n",
       "      <th>veil-type</th>\n",
       "      <th>veil-color</th>\n",
       "      <th>ring-number</th>\n",
       "      <th>ring-type</th>\n",
       "      <th>spore-print-color</th>\n",
       "      <th>population</th>\n",
       "      <th>habitat</th>\n",
       "    </tr>\n",
       "  </thead>\n",
       "  <tbody>\n",
       "    <tr>\n",
       "      <th>0</th>\n",
       "      <td>p</td>\n",
       "      <td>x</td>\n",
       "      <td>s</td>\n",
       "      <td>n</td>\n",
       "      <td>t</td>\n",
       "      <td>p</td>\n",
       "      <td>f</td>\n",
       "      <td>c</td>\n",
       "      <td>n</td>\n",
       "      <td>k</td>\n",
       "      <td>...</td>\n",
       "      <td>s</td>\n",
       "      <td>w</td>\n",
       "      <td>w</td>\n",
       "      <td>p</td>\n",
       "      <td>w</td>\n",
       "      <td>o</td>\n",
       "      <td>p</td>\n",
       "      <td>k</td>\n",
       "      <td>s</td>\n",
       "      <td>u</td>\n",
       "    </tr>\n",
       "    <tr>\n",
       "      <th>1</th>\n",
       "      <td>e</td>\n",
       "      <td>x</td>\n",
       "      <td>s</td>\n",
       "      <td>y</td>\n",
       "      <td>t</td>\n",
       "      <td>a</td>\n",
       "      <td>f</td>\n",
       "      <td>c</td>\n",
       "      <td>b</td>\n",
       "      <td>k</td>\n",
       "      <td>...</td>\n",
       "      <td>s</td>\n",
       "      <td>w</td>\n",
       "      <td>w</td>\n",
       "      <td>p</td>\n",
       "      <td>w</td>\n",
       "      <td>o</td>\n",
       "      <td>p</td>\n",
       "      <td>n</td>\n",
       "      <td>n</td>\n",
       "      <td>g</td>\n",
       "    </tr>\n",
       "    <tr>\n",
       "      <th>2</th>\n",
       "      <td>e</td>\n",
       "      <td>b</td>\n",
       "      <td>s</td>\n",
       "      <td>w</td>\n",
       "      <td>t</td>\n",
       "      <td>l</td>\n",
       "      <td>f</td>\n",
       "      <td>c</td>\n",
       "      <td>b</td>\n",
       "      <td>n</td>\n",
       "      <td>...</td>\n",
       "      <td>s</td>\n",
       "      <td>w</td>\n",
       "      <td>w</td>\n",
       "      <td>p</td>\n",
       "      <td>w</td>\n",
       "      <td>o</td>\n",
       "      <td>p</td>\n",
       "      <td>n</td>\n",
       "      <td>n</td>\n",
       "      <td>m</td>\n",
       "    </tr>\n",
       "    <tr>\n",
       "      <th>3</th>\n",
       "      <td>p</td>\n",
       "      <td>x</td>\n",
       "      <td>y</td>\n",
       "      <td>w</td>\n",
       "      <td>t</td>\n",
       "      <td>p</td>\n",
       "      <td>f</td>\n",
       "      <td>c</td>\n",
       "      <td>n</td>\n",
       "      <td>n</td>\n",
       "      <td>...</td>\n",
       "      <td>s</td>\n",
       "      <td>w</td>\n",
       "      <td>w</td>\n",
       "      <td>p</td>\n",
       "      <td>w</td>\n",
       "      <td>o</td>\n",
       "      <td>p</td>\n",
       "      <td>k</td>\n",
       "      <td>s</td>\n",
       "      <td>u</td>\n",
       "    </tr>\n",
       "    <tr>\n",
       "      <th>4</th>\n",
       "      <td>e</td>\n",
       "      <td>x</td>\n",
       "      <td>s</td>\n",
       "      <td>g</td>\n",
       "      <td>f</td>\n",
       "      <td>n</td>\n",
       "      <td>f</td>\n",
       "      <td>w</td>\n",
       "      <td>b</td>\n",
       "      <td>k</td>\n",
       "      <td>...</td>\n",
       "      <td>s</td>\n",
       "      <td>w</td>\n",
       "      <td>w</td>\n",
       "      <td>p</td>\n",
       "      <td>w</td>\n",
       "      <td>o</td>\n",
       "      <td>e</td>\n",
       "      <td>n</td>\n",
       "      <td>a</td>\n",
       "      <td>g</td>\n",
       "    </tr>\n",
       "  </tbody>\n",
       "</table>\n",
       "<p>5 rows × 23 columns</p>\n",
       "</div>"
      ],
      "text/plain": [
       "  class cap-shape cap-surface cap-color bruises odor gill-attachment  \\\n",
       "0     p         x           s         n       t    p               f   \n",
       "1     e         x           s         y       t    a               f   \n",
       "2     e         b           s         w       t    l               f   \n",
       "3     p         x           y         w       t    p               f   \n",
       "4     e         x           s         g       f    n               f   \n",
       "\n",
       "  gill-spacing gill-size gill-color  ... stalk-surface-below-ring  \\\n",
       "0            c         n          k  ...                        s   \n",
       "1            c         b          k  ...                        s   \n",
       "2            c         b          n  ...                        s   \n",
       "3            c         n          n  ...                        s   \n",
       "4            w         b          k  ...                        s   \n",
       "\n",
       "  stalk-color-above-ring stalk-color-below-ring veil-type veil-color  \\\n",
       "0                      w                      w         p          w   \n",
       "1                      w                      w         p          w   \n",
       "2                      w                      w         p          w   \n",
       "3                      w                      w         p          w   \n",
       "4                      w                      w         p          w   \n",
       "\n",
       "  ring-number ring-type spore-print-color population habitat  \n",
       "0           o         p                 k          s       u  \n",
       "1           o         p                 n          n       g  \n",
       "2           o         p                 n          n       m  \n",
       "3           o         p                 k          s       u  \n",
       "4           o         e                 n          a       g  \n",
       "\n",
       "[5 rows x 23 columns]"
      ]
     },
     "metadata": {},
     "output_type": "display_data"
    },
    {
     "data": {
      "text/html": [
       "<h3>Shape dataset</h3>"
      ],
      "text/plain": [
       "<IPython.core.display.HTML object>"
      ]
     },
     "metadata": {},
     "output_type": "display_data"
    },
    {
     "data": {
      "text/plain": [
       "['Nombre de lignes : 8124 lignes',\n",
       " 'Nombre de colonnes : 23 colonnes',\n",
       " 'Nombre total de celulles non nulles : 186852',\n",
       " 'Nombre total de cellules nulles : 0']"
      ]
     },
     "metadata": {},
     "output_type": "display_data"
    },
    {
     "data": {
      "text/html": [
       "<h3>Sample dataset</h3>"
      ],
      "text/plain": [
       "<IPython.core.display.HTML object>"
      ]
     },
     "metadata": {},
     "output_type": "display_data"
    },
    {
     "data": {
      "text/html": [
       "<div>\n",
       "<style scoped>\n",
       "    .dataframe tbody tr th:only-of-type {\n",
       "        vertical-align: middle;\n",
       "    }\n",
       "\n",
       "    .dataframe tbody tr th {\n",
       "        vertical-align: top;\n",
       "    }\n",
       "\n",
       "    .dataframe thead th {\n",
       "        text-align: right;\n",
       "    }\n",
       "</style>\n",
       "<table border=\"1\" class=\"dataframe\">\n",
       "  <thead>\n",
       "    <tr style=\"text-align: right;\">\n",
       "      <th></th>\n",
       "      <th>name</th>\n",
       "      <th>type</th>\n",
       "      <th>sample</th>\n",
       "      <th>% nulls</th>\n",
       "    </tr>\n",
       "  </thead>\n",
       "  <tbody>\n",
       "    <tr>\n",
       "      <th>class</th>\n",
       "      <td>class</td>\n",
       "      <td>object</td>\n",
       "      <td>['p', 'e', 'e', 'p', 'e']</td>\n",
       "      <td>0.0</td>\n",
       "    </tr>\n",
       "    <tr>\n",
       "      <th>cap-shape</th>\n",
       "      <td>cap-shape</td>\n",
       "      <td>object</td>\n",
       "      <td>['x', 'x', 'b', 'x', 'x']</td>\n",
       "      <td>0.0</td>\n",
       "    </tr>\n",
       "    <tr>\n",
       "      <th>cap-surface</th>\n",
       "      <td>cap-surface</td>\n",
       "      <td>object</td>\n",
       "      <td>['s', 's', 's', 'y', 's']</td>\n",
       "      <td>0.0</td>\n",
       "    </tr>\n",
       "    <tr>\n",
       "      <th>cap-color</th>\n",
       "      <td>cap-color</td>\n",
       "      <td>object</td>\n",
       "      <td>['n', 'y', 'w', 'w', 'g']</td>\n",
       "      <td>0.0</td>\n",
       "    </tr>\n",
       "    <tr>\n",
       "      <th>bruises</th>\n",
       "      <td>bruises</td>\n",
       "      <td>object</td>\n",
       "      <td>['t', 't', 't', 't', 'f']</td>\n",
       "      <td>0.0</td>\n",
       "    </tr>\n",
       "    <tr>\n",
       "      <th>odor</th>\n",
       "      <td>odor</td>\n",
       "      <td>object</td>\n",
       "      <td>['p', 'a', 'l', 'p', 'n']</td>\n",
       "      <td>0.0</td>\n",
       "    </tr>\n",
       "    <tr>\n",
       "      <th>gill-attachment</th>\n",
       "      <td>gill-attachment</td>\n",
       "      <td>object</td>\n",
       "      <td>['f', 'f', 'f', 'f', 'f']</td>\n",
       "      <td>0.0</td>\n",
       "    </tr>\n",
       "    <tr>\n",
       "      <th>gill-spacing</th>\n",
       "      <td>gill-spacing</td>\n",
       "      <td>object</td>\n",
       "      <td>['c', 'c', 'c', 'c', 'w']</td>\n",
       "      <td>0.0</td>\n",
       "    </tr>\n",
       "    <tr>\n",
       "      <th>gill-size</th>\n",
       "      <td>gill-size</td>\n",
       "      <td>object</td>\n",
       "      <td>['n', 'b', 'b', 'n', 'b']</td>\n",
       "      <td>0.0</td>\n",
       "    </tr>\n",
       "    <tr>\n",
       "      <th>gill-color</th>\n",
       "      <td>gill-color</td>\n",
       "      <td>object</td>\n",
       "      <td>['k', 'k', 'n', 'n', 'k']</td>\n",
       "      <td>0.0</td>\n",
       "    </tr>\n",
       "    <tr>\n",
       "      <th>stalk-shape</th>\n",
       "      <td>stalk-shape</td>\n",
       "      <td>object</td>\n",
       "      <td>['e', 'e', 'e', 'e', 't']</td>\n",
       "      <td>0.0</td>\n",
       "    </tr>\n",
       "    <tr>\n",
       "      <th>stalk-root</th>\n",
       "      <td>stalk-root</td>\n",
       "      <td>object</td>\n",
       "      <td>['e', 'c', 'c', 'e', 'e']</td>\n",
       "      <td>0.0</td>\n",
       "    </tr>\n",
       "    <tr>\n",
       "      <th>stalk-surface-above-ring</th>\n",
       "      <td>stalk-surface-above-ring</td>\n",
       "      <td>object</td>\n",
       "      <td>['s', 's', 's', 's', 's']</td>\n",
       "      <td>0.0</td>\n",
       "    </tr>\n",
       "    <tr>\n",
       "      <th>stalk-surface-below-ring</th>\n",
       "      <td>stalk-surface-below-ring</td>\n",
       "      <td>object</td>\n",
       "      <td>['s', 's', 's', 's', 's']</td>\n",
       "      <td>0.0</td>\n",
       "    </tr>\n",
       "    <tr>\n",
       "      <th>stalk-color-above-ring</th>\n",
       "      <td>stalk-color-above-ring</td>\n",
       "      <td>object</td>\n",
       "      <td>['w', 'w', 'w', 'w', 'w']</td>\n",
       "      <td>0.0</td>\n",
       "    </tr>\n",
       "    <tr>\n",
       "      <th>stalk-color-below-ring</th>\n",
       "      <td>stalk-color-below-ring</td>\n",
       "      <td>object</td>\n",
       "      <td>['w', 'w', 'w', 'w', 'w']</td>\n",
       "      <td>0.0</td>\n",
       "    </tr>\n",
       "    <tr>\n",
       "      <th>veil-type</th>\n",
       "      <td>veil-type</td>\n",
       "      <td>object</td>\n",
       "      <td>['p', 'p', 'p', 'p', 'p']</td>\n",
       "      <td>0.0</td>\n",
       "    </tr>\n",
       "    <tr>\n",
       "      <th>veil-color</th>\n",
       "      <td>veil-color</td>\n",
       "      <td>object</td>\n",
       "      <td>['w', 'w', 'w', 'w', 'w']</td>\n",
       "      <td>0.0</td>\n",
       "    </tr>\n",
       "    <tr>\n",
       "      <th>ring-number</th>\n",
       "      <td>ring-number</td>\n",
       "      <td>object</td>\n",
       "      <td>['o', 'o', 'o', 'o', 'o']</td>\n",
       "      <td>0.0</td>\n",
       "    </tr>\n",
       "    <tr>\n",
       "      <th>ring-type</th>\n",
       "      <td>ring-type</td>\n",
       "      <td>object</td>\n",
       "      <td>['p', 'p', 'p', 'p', 'e']</td>\n",
       "      <td>0.0</td>\n",
       "    </tr>\n",
       "    <tr>\n",
       "      <th>spore-print-color</th>\n",
       "      <td>spore-print-color</td>\n",
       "      <td>object</td>\n",
       "      <td>['k', 'n', 'n', 'k', 'n']</td>\n",
       "      <td>0.0</td>\n",
       "    </tr>\n",
       "    <tr>\n",
       "      <th>population</th>\n",
       "      <td>population</td>\n",
       "      <td>object</td>\n",
       "      <td>['s', 'n', 'n', 's', 'a']</td>\n",
       "      <td>0.0</td>\n",
       "    </tr>\n",
       "    <tr>\n",
       "      <th>habitat</th>\n",
       "      <td>habitat</td>\n",
       "      <td>object</td>\n",
       "      <td>['u', 'g', 'm', 'u', 'g']</td>\n",
       "      <td>0.0</td>\n",
       "    </tr>\n",
       "  </tbody>\n",
       "</table>\n",
       "</div>"
      ],
      "text/plain": [
       "                                              name    type  \\\n",
       "class                                        class  object   \n",
       "cap-shape                                cap-shape  object   \n",
       "cap-surface                            cap-surface  object   \n",
       "cap-color                                cap-color  object   \n",
       "bruises                                    bruises  object   \n",
       "odor                                          odor  object   \n",
       "gill-attachment                    gill-attachment  object   \n",
       "gill-spacing                          gill-spacing  object   \n",
       "gill-size                                gill-size  object   \n",
       "gill-color                              gill-color  object   \n",
       "stalk-shape                            stalk-shape  object   \n",
       "stalk-root                              stalk-root  object   \n",
       "stalk-surface-above-ring  stalk-surface-above-ring  object   \n",
       "stalk-surface-below-ring  stalk-surface-below-ring  object   \n",
       "stalk-color-above-ring      stalk-color-above-ring  object   \n",
       "stalk-color-below-ring      stalk-color-below-ring  object   \n",
       "veil-type                                veil-type  object   \n",
       "veil-color                              veil-color  object   \n",
       "ring-number                            ring-number  object   \n",
       "ring-type                                ring-type  object   \n",
       "spore-print-color                spore-print-color  object   \n",
       "population                              population  object   \n",
       "habitat                                    habitat  object   \n",
       "\n",
       "                                             sample  % nulls  \n",
       "class                     ['p', 'e', 'e', 'p', 'e']      0.0  \n",
       "cap-shape                 ['x', 'x', 'b', 'x', 'x']      0.0  \n",
       "cap-surface               ['s', 's', 's', 'y', 's']      0.0  \n",
       "cap-color                 ['n', 'y', 'w', 'w', 'g']      0.0  \n",
       "bruises                   ['t', 't', 't', 't', 'f']      0.0  \n",
       "odor                      ['p', 'a', 'l', 'p', 'n']      0.0  \n",
       "gill-attachment           ['f', 'f', 'f', 'f', 'f']      0.0  \n",
       "gill-spacing              ['c', 'c', 'c', 'c', 'w']      0.0  \n",
       "gill-size                 ['n', 'b', 'b', 'n', 'b']      0.0  \n",
       "gill-color                ['k', 'k', 'n', 'n', 'k']      0.0  \n",
       "stalk-shape               ['e', 'e', 'e', 'e', 't']      0.0  \n",
       "stalk-root                ['e', 'c', 'c', 'e', 'e']      0.0  \n",
       "stalk-surface-above-ring  ['s', 's', 's', 's', 's']      0.0  \n",
       "stalk-surface-below-ring  ['s', 's', 's', 's', 's']      0.0  \n",
       "stalk-color-above-ring    ['w', 'w', 'w', 'w', 'w']      0.0  \n",
       "stalk-color-below-ring    ['w', 'w', 'w', 'w', 'w']      0.0  \n",
       "veil-type                 ['p', 'p', 'p', 'p', 'p']      0.0  \n",
       "veil-color                ['w', 'w', 'w', 'w', 'w']      0.0  \n",
       "ring-number               ['o', 'o', 'o', 'o', 'o']      0.0  \n",
       "ring-type                 ['p', 'p', 'p', 'p', 'e']      0.0  \n",
       "spore-print-color         ['k', 'n', 'n', 'k', 'n']      0.0  \n",
       "population                ['s', 'n', 'n', 's', 'a']      0.0  \n",
       "habitat                   ['u', 'g', 'm', 'u', 'g']      0.0  "
      ]
     },
     "metadata": {},
     "output_type": "display_data"
    }
   ],
   "source": [
    "mushroom.infos()"
   ]
  },
  {
   "cell_type": "markdown",
   "id": "7ee2dcd9",
   "metadata": {},
   "source": [
    "* Absence de cellules non vides pas "
   ]
  },
  {
   "cell_type": "markdown",
   "id": "7d96c883",
   "metadata": {
    "ExecuteTime": {
     "end_time": "2022-05-23T09:10:18.756284Z",
     "start_time": "2022-05-23T09:10:18.707423Z"
    }
   },
   "source": [
    "## FOCUS FEATURES :"
   ]
  },
  {
   "cell_type": "code",
   "execution_count": 29,
   "id": "e3928e4e",
   "metadata": {
    "ExecuteTime": {
     "end_time": "2022-05-23T09:56:49.296355Z",
     "start_time": "2022-05-23T09:56:49.289650Z"
    }
   },
   "outputs": [],
   "source": [
    "#TARGET : CLASS"
   ]
  },
  {
   "cell_type": "code",
   "execution_count": 30,
   "id": "b46758d8",
   "metadata": {
    "ExecuteTime": {
     "end_time": "2022-05-23T09:56:49.326366Z",
     "start_time": "2022-05-23T09:56:49.301780Z"
    }
   },
   "outputs": [
    {
     "data": {
      "text/plain": [
       "e    4208\n",
       "p    3916\n",
       "Name: class, dtype: int64"
      ]
     },
     "execution_count": 30,
     "metadata": {},
     "output_type": "execute_result"
    }
   ],
   "source": [
    "mushroom.focus('class')"
   ]
  },
  {
   "cell_type": "code",
   "execution_count": 31,
   "id": "b1ca8836",
   "metadata": {
    "ExecuteTime": {
     "end_time": "2022-05-23T09:56:49.363329Z",
     "start_time": "2022-05-23T09:56:49.342368Z"
    }
   },
   "outputs": [
    {
     "data": {
      "text/plain": [
       "count     8124\n",
       "unique       2\n",
       "top          e\n",
       "freq      4208\n",
       "Name: class, dtype: object"
      ]
     },
     "execution_count": 31,
     "metadata": {},
     "output_type": "execute_result"
    }
   ],
   "source": [
    "mushroom.df['class'].describe()"
   ]
  },
  {
   "cell_type": "code",
   "execution_count": 32,
   "id": "5a28b1fb",
   "metadata": {
    "ExecuteTime": {
     "end_time": "2022-05-23T09:56:49.532897Z",
     "start_time": "2022-05-23T09:56:49.369317Z"
    }
   },
   "outputs": [],
   "source": [
    "class_dict = {'e': 'edible', 'p': 'poisoned'}\n",
    "cap_shape_dict = {'b' : 'bell', 'c' : 'conical', 'x':'convex', 'f':'flat', 'k' : 'knobbed', 's' : 'sunken'}\n",
    "cap_surface_dict = {'f' : 'fibrous', 'g' : 'grooves', 'y' : 'scaly', 's' : 'smooth'}\n",
    "cap_color_dict = {'n' : 'brown', 'b' : 'buff', 'c' : 'cinnamon', 'g' : 'gray', 'r' : 'green', 'p' : 'pink', 'u' : 'purple', 'e' : 'red', 'w' : 'white', 'y' : 'yellow'}\n",
    "bruises_dict = { 't' : 'bruises', 'f' : 'no' }\n",
    "odor_dict = {'a' : 'almond', 'l' : 'anise', 'c' : 'creosote', 'y' : 'fishy', 'f' : 'foul', 'm' : 'musty', 'n' : 'none', 'p' : 'pungent', 's' : 'spicy'} \n",
    "gill_attachment_dict = {'a' : 'attached', 'd' : 'descending', 'f' : 'free', 'n' : 'notched'}\n",
    "gill_spacing_dict = {'c' : 'close', 'w' : 'crowded', 'd' : 'distant'}\n",
    "gill_size_dict = {'b' : 'broad', 'n' : 'narrow'}\n",
    "gill_color_dict = { 'k' :'black', 'n' : 'brown', 'b' : 'buff', 'h' : 'chocolate', 'g' : 'gray', 'r' : 'green', 'o' : 'orange', 'p' : 'pink', 'u' : 'purple', 'e' : 'red', 'w' : 'white', 'y' : 'yellow'}\n",
    "stalk_shape_dict = {'e' : 'enlarging', 't' : 'tapering'}\n",
    "stalk_root_dict = {'b' : 'bulbous', 'c' : 'club', 'u' : 'cup', 'e' : 'equal', 'z' : 'rhizomorphs', 'r' : 'rooted', '?' : 'missing'}\n",
    "stalk_surface_above_ring_dict = {'f' : 'fibrous', 'y' : 'scaly', 'k' : 'silky', 's' : 'smooth'}\n",
    "stalk_surface_below_ring_dict = { 'f' : 'fibrous', 'y' : 'scaly', 'k' : 'silky', 's' : 'smooth'}\n",
    "stalk_color_above_ring_dict = {'n' : 'brown', 'b' : 'buff', 'c' : 'cinnamon', 'g' : 'gray', 'o' : 'orange', 'p' : 'pink','e' : 'red', 'w' : 'white', 'y' : 'yellow'}\n",
    "stalk_color_below_ring_dict = {'n' : 'brown', 'b' : 'buff', 'c' : 'cinnamon', 'g' : 'gray', 'o' : 'orange', 'p' : 'pink','e' : 'red', 'w' : 'white', 'y' : 'yellow'}\n",
    "veil_type_dict = {'p' : 'partial', 'u' : 'universal'}\n",
    "veil_color_dict = {'n' : 'brown', 'o' : 'orange', 'w' : 'white', 'y' : 'yellow'}\n",
    "ring_number_dict = {'n' : 'none', 'o' : 'one', 't' :'two'}\n",
    "ring_type_dict = {'c' : 'cobwebby', 'e' : 'evanescent', 'f' : 'flaring', 'l' : 'large', 'n' :'none', 'p' : 'pendant', 's' : 'sheathing', 'z' : 'zone'}\n",
    "spore_print_color_dict = {'k' :'black', 'n' : 'brown', 'b' :'buff', 'h' : 'chocolate', 'r' : 'green', 'o' : 'orange', 'u' : 'purple', 'w' :'white', 'y' : 'yellow'}\n",
    "population_dict = {'a' : 'abundant', 'c' : 'clustered', 'n' : 'numerous', 's' : 'scattered', 'v' : 'several', 'y' : 'solitary'}\n",
    "habitat_dict = {'g' : 'grasses', 'l' : 'leaves', 'm' : 'meadows', 'p' : 'paths', 'u' : 'urban', 'w' : 'waste', 'd' : 'woods'}\n",
    "\n",
    "mushroom.df['class'] = mushroom.df['class'].map(class_dict)\n",
    "mushroom.df['cap-shape'] = mushroom.df['cap-shape'].map(cap_shape_dict)\n",
    "mushroom.df['cap-surface'] = mushroom.df['cap-surface'].map(cap_surface_dict)\n",
    "mushroom.df['cap-color'] = mushroom.df['cap-color'].map(cap_color_dict)\n",
    "mushroom.df['bruises'] = mushroom.df['bruises'].map(bruises_dict)\n",
    "mushroom.df['odor'] = mushroom.df['odor'].map(odor_dict)\n",
    "mushroom.df['gill-attachment'] = mushroom.df['gill-attachment'].map(gill_attachment_dict)\n",
    "mushroom.df['gill-spacing'] = mushroom.df['gill-spacing'].map(gill_spacing_dict)\n",
    "mushroom.df['gill-size'] = mushroom.df['gill-size'].map(gill_size_dict)\n",
    "mushroom.df['gill-color'] = mushroom.df['gill-color'].map(gill_color_dict)\n",
    "mushroom.df['stalk-shape'] = mushroom.df['stalk-shape'].map(stalk_shape_dict)\n",
    "mushroom.df['stalk-root'] = mushroom.df['stalk-root'].map(stalk_root_dict)\n",
    "mushroom.df['stalk-surface-above-ring'] = mushroom.df['stalk-surface-above-ring'].map(stalk_surface_above_ring_dict)\n",
    "mushroom.df['stalk-surface-below-ring'] = mushroom.df['stalk-surface-below-ring'].map(stalk_surface_below_ring_dict)\n",
    "mushroom.df['stalk-color-above-ring'] = mushroom.df['stalk-color-above-ring'].map(stalk_color_above_ring_dict)\n",
    "mushroom.df['stalk-color-below-ring'] = mushroom.df['stalk-color-below-ring'].map(stalk_color_below_ring_dict)\n",
    "mushroom.df['veil-type'] = mushroom.df['veil-type'].map(veil_type_dict)\n",
    "mushroom.df['veil-color'] = mushroom.df['veil-color'].map(veil_color_dict)\n",
    "mushroom.df['ring-number'] = mushroom.df['ring-number'].map(ring_number_dict)\n",
    "mushroom.df['ring-type'] = mushroom.df['ring-type'].map(ring_type_dict)\n",
    "mushroom.df['spore-print-color'] = mushroom.df['spore-print-color'].map(spore_print_color_dict)\n",
    "mushroom.df['population'] = mushroom.df['population'].map(population_dict)\n",
    "mushroom.df['habitat'] = mushroom.df['habitat'].map(habitat_dict)"
   ]
  },
  {
   "cell_type": "code",
   "execution_count": 33,
   "id": "905883ce",
   "metadata": {
    "ExecuteTime": {
     "end_time": "2022-05-23T09:56:49.575595Z",
     "start_time": "2022-05-23T09:56:49.537014Z"
    }
   },
   "outputs": [
    {
     "data": {
      "text/html": [
       "<div>\n",
       "<style scoped>\n",
       "    .dataframe tbody tr th:only-of-type {\n",
       "        vertical-align: middle;\n",
       "    }\n",
       "\n",
       "    .dataframe tbody tr th {\n",
       "        vertical-align: top;\n",
       "    }\n",
       "\n",
       "    .dataframe thead th {\n",
       "        text-align: right;\n",
       "    }\n",
       "</style>\n",
       "<table border=\"1\" class=\"dataframe\">\n",
       "  <thead>\n",
       "    <tr style=\"text-align: right;\">\n",
       "      <th></th>\n",
       "      <th>class</th>\n",
       "      <th>cap-shape</th>\n",
       "      <th>cap-surface</th>\n",
       "      <th>cap-color</th>\n",
       "      <th>bruises</th>\n",
       "      <th>odor</th>\n",
       "      <th>gill-attachment</th>\n",
       "      <th>gill-spacing</th>\n",
       "      <th>gill-size</th>\n",
       "      <th>gill-color</th>\n",
       "      <th>...</th>\n",
       "      <th>stalk-surface-below-ring</th>\n",
       "      <th>stalk-color-above-ring</th>\n",
       "      <th>stalk-color-below-ring</th>\n",
       "      <th>veil-type</th>\n",
       "      <th>veil-color</th>\n",
       "      <th>ring-number</th>\n",
       "      <th>ring-type</th>\n",
       "      <th>spore-print-color</th>\n",
       "      <th>population</th>\n",
       "      <th>habitat</th>\n",
       "    </tr>\n",
       "  </thead>\n",
       "  <tbody>\n",
       "    <tr>\n",
       "      <th>0</th>\n",
       "      <td>poisoned</td>\n",
       "      <td>convex</td>\n",
       "      <td>smooth</td>\n",
       "      <td>brown</td>\n",
       "      <td>bruises</td>\n",
       "      <td>pungent</td>\n",
       "      <td>free</td>\n",
       "      <td>close</td>\n",
       "      <td>narrow</td>\n",
       "      <td>black</td>\n",
       "      <td>...</td>\n",
       "      <td>smooth</td>\n",
       "      <td>white</td>\n",
       "      <td>white</td>\n",
       "      <td>partial</td>\n",
       "      <td>white</td>\n",
       "      <td>one</td>\n",
       "      <td>pendant</td>\n",
       "      <td>black</td>\n",
       "      <td>scattered</td>\n",
       "      <td>urban</td>\n",
       "    </tr>\n",
       "    <tr>\n",
       "      <th>1</th>\n",
       "      <td>edible</td>\n",
       "      <td>convex</td>\n",
       "      <td>smooth</td>\n",
       "      <td>yellow</td>\n",
       "      <td>bruises</td>\n",
       "      <td>almond</td>\n",
       "      <td>free</td>\n",
       "      <td>close</td>\n",
       "      <td>broad</td>\n",
       "      <td>black</td>\n",
       "      <td>...</td>\n",
       "      <td>smooth</td>\n",
       "      <td>white</td>\n",
       "      <td>white</td>\n",
       "      <td>partial</td>\n",
       "      <td>white</td>\n",
       "      <td>one</td>\n",
       "      <td>pendant</td>\n",
       "      <td>brown</td>\n",
       "      <td>numerous</td>\n",
       "      <td>grasses</td>\n",
       "    </tr>\n",
       "    <tr>\n",
       "      <th>2</th>\n",
       "      <td>edible</td>\n",
       "      <td>bell</td>\n",
       "      <td>smooth</td>\n",
       "      <td>white</td>\n",
       "      <td>bruises</td>\n",
       "      <td>anise</td>\n",
       "      <td>free</td>\n",
       "      <td>close</td>\n",
       "      <td>broad</td>\n",
       "      <td>brown</td>\n",
       "      <td>...</td>\n",
       "      <td>smooth</td>\n",
       "      <td>white</td>\n",
       "      <td>white</td>\n",
       "      <td>partial</td>\n",
       "      <td>white</td>\n",
       "      <td>one</td>\n",
       "      <td>pendant</td>\n",
       "      <td>brown</td>\n",
       "      <td>numerous</td>\n",
       "      <td>meadows</td>\n",
       "    </tr>\n",
       "    <tr>\n",
       "      <th>3</th>\n",
       "      <td>poisoned</td>\n",
       "      <td>convex</td>\n",
       "      <td>scaly</td>\n",
       "      <td>white</td>\n",
       "      <td>bruises</td>\n",
       "      <td>pungent</td>\n",
       "      <td>free</td>\n",
       "      <td>close</td>\n",
       "      <td>narrow</td>\n",
       "      <td>brown</td>\n",
       "      <td>...</td>\n",
       "      <td>smooth</td>\n",
       "      <td>white</td>\n",
       "      <td>white</td>\n",
       "      <td>partial</td>\n",
       "      <td>white</td>\n",
       "      <td>one</td>\n",
       "      <td>pendant</td>\n",
       "      <td>black</td>\n",
       "      <td>scattered</td>\n",
       "      <td>urban</td>\n",
       "    </tr>\n",
       "    <tr>\n",
       "      <th>4</th>\n",
       "      <td>edible</td>\n",
       "      <td>convex</td>\n",
       "      <td>smooth</td>\n",
       "      <td>gray</td>\n",
       "      <td>no</td>\n",
       "      <td>none</td>\n",
       "      <td>free</td>\n",
       "      <td>crowded</td>\n",
       "      <td>broad</td>\n",
       "      <td>black</td>\n",
       "      <td>...</td>\n",
       "      <td>smooth</td>\n",
       "      <td>white</td>\n",
       "      <td>white</td>\n",
       "      <td>partial</td>\n",
       "      <td>white</td>\n",
       "      <td>one</td>\n",
       "      <td>evanescent</td>\n",
       "      <td>brown</td>\n",
       "      <td>abundant</td>\n",
       "      <td>grasses</td>\n",
       "    </tr>\n",
       "  </tbody>\n",
       "</table>\n",
       "<p>5 rows × 23 columns</p>\n",
       "</div>"
      ],
      "text/plain": [
       "      class cap-shape cap-surface cap-color  bruises     odor gill-attachment  \\\n",
       "0  poisoned    convex      smooth     brown  bruises  pungent            free   \n",
       "1    edible    convex      smooth    yellow  bruises   almond            free   \n",
       "2    edible      bell      smooth     white  bruises    anise            free   \n",
       "3  poisoned    convex       scaly     white  bruises  pungent            free   \n",
       "4    edible    convex      smooth      gray       no     none            free   \n",
       "\n",
       "  gill-spacing gill-size gill-color  ... stalk-surface-below-ring  \\\n",
       "0        close    narrow      black  ...                   smooth   \n",
       "1        close     broad      black  ...                   smooth   \n",
       "2        close     broad      brown  ...                   smooth   \n",
       "3        close    narrow      brown  ...                   smooth   \n",
       "4      crowded     broad      black  ...                   smooth   \n",
       "\n",
       "  stalk-color-above-ring stalk-color-below-ring veil-type veil-color  \\\n",
       "0                  white                  white   partial      white   \n",
       "1                  white                  white   partial      white   \n",
       "2                  white                  white   partial      white   \n",
       "3                  white                  white   partial      white   \n",
       "4                  white                  white   partial      white   \n",
       "\n",
       "  ring-number   ring-type spore-print-color population  habitat  \n",
       "0         one     pendant             black  scattered    urban  \n",
       "1         one     pendant             brown   numerous  grasses  \n",
       "2         one     pendant             brown   numerous  meadows  \n",
       "3         one     pendant             black  scattered    urban  \n",
       "4         one  evanescent             brown   abundant  grasses  \n",
       "\n",
       "[5 rows x 23 columns]"
      ]
     },
     "execution_count": 33,
     "metadata": {},
     "output_type": "execute_result"
    }
   ],
   "source": [
    "#Visualise le dataset\n",
    "mushroom.data_head()"
   ]
  },
  {
   "cell_type": "code",
   "execution_count": 34,
   "id": "88f48f45",
   "metadata": {
    "ExecuteTime": {
     "end_time": "2022-05-23T09:56:49.728150Z",
     "start_time": "2022-05-23T09:56:49.587871Z"
    }
   },
   "outputs": [
    {
     "data": {
      "text/plain": [
       "['Nombre de lignes : 8124 lignes',\n",
       " 'Nombre de colonnes : 23 colonnes',\n",
       " 'Nombre total de celulles non nulles : 186852',\n",
       " 'Nombre total de cellules nulles : 0']"
      ]
     },
     "execution_count": 34,
     "metadata": {},
     "output_type": "execute_result"
    }
   ],
   "source": [
    "mushroom.data_shape()"
   ]
  },
  {
   "cell_type": "code",
   "execution_count": 35,
   "id": "5140c0ce",
   "metadata": {
    "ExecuteTime": {
     "end_time": "2022-05-23T09:56:49.836751Z",
     "start_time": "2022-05-23T09:56:49.735137Z"
    }
   },
   "outputs": [
    {
     "data": {
      "text/html": [
       "<div>\n",
       "<style scoped>\n",
       "    .dataframe tbody tr th:only-of-type {\n",
       "        vertical-align: middle;\n",
       "    }\n",
       "\n",
       "    .dataframe tbody tr th {\n",
       "        vertical-align: top;\n",
       "    }\n",
       "\n",
       "    .dataframe thead th {\n",
       "        text-align: right;\n",
       "    }\n",
       "</style>\n",
       "<table border=\"1\" class=\"dataframe\">\n",
       "  <thead>\n",
       "    <tr style=\"text-align: right;\">\n",
       "      <th></th>\n",
       "      <th>name</th>\n",
       "      <th>type</th>\n",
       "      <th>sample</th>\n",
       "      <th>% nulls</th>\n",
       "    </tr>\n",
       "  </thead>\n",
       "  <tbody>\n",
       "    <tr>\n",
       "      <th>class</th>\n",
       "      <td>class</td>\n",
       "      <td>object</td>\n",
       "      <td>['poisoned', 'edible', 'edible', 'poisoned', '...</td>\n",
       "      <td>0.0</td>\n",
       "    </tr>\n",
       "    <tr>\n",
       "      <th>cap-shape</th>\n",
       "      <td>cap-shape</td>\n",
       "      <td>object</td>\n",
       "      <td>['convex', 'convex', 'bell', 'convex', 'convex']</td>\n",
       "      <td>0.0</td>\n",
       "    </tr>\n",
       "    <tr>\n",
       "      <th>cap-surface</th>\n",
       "      <td>cap-surface</td>\n",
       "      <td>object</td>\n",
       "      <td>['smooth', 'smooth', 'smooth', 'scaly', 'smooth']</td>\n",
       "      <td>0.0</td>\n",
       "    </tr>\n",
       "    <tr>\n",
       "      <th>cap-color</th>\n",
       "      <td>cap-color</td>\n",
       "      <td>object</td>\n",
       "      <td>['brown', 'yellow', 'white', 'white', 'gray']</td>\n",
       "      <td>0.0</td>\n",
       "    </tr>\n",
       "    <tr>\n",
       "      <th>bruises</th>\n",
       "      <td>bruises</td>\n",
       "      <td>object</td>\n",
       "      <td>['bruises', 'bruises', 'bruises', 'bruises', '...</td>\n",
       "      <td>0.0</td>\n",
       "    </tr>\n",
       "    <tr>\n",
       "      <th>odor</th>\n",
       "      <td>odor</td>\n",
       "      <td>object</td>\n",
       "      <td>['pungent', 'almond', 'anise', 'pungent', 'none']</td>\n",
       "      <td>0.0</td>\n",
       "    </tr>\n",
       "    <tr>\n",
       "      <th>gill-attachment</th>\n",
       "      <td>gill-attachment</td>\n",
       "      <td>object</td>\n",
       "      <td>['free', 'free', 'free', 'free', 'free']</td>\n",
       "      <td>0.0</td>\n",
       "    </tr>\n",
       "    <tr>\n",
       "      <th>gill-spacing</th>\n",
       "      <td>gill-spacing</td>\n",
       "      <td>object</td>\n",
       "      <td>['close', 'close', 'close', 'close', 'crowded']</td>\n",
       "      <td>0.0</td>\n",
       "    </tr>\n",
       "    <tr>\n",
       "      <th>gill-size</th>\n",
       "      <td>gill-size</td>\n",
       "      <td>object</td>\n",
       "      <td>['narrow', 'broad', 'broad', 'narrow', 'broad']</td>\n",
       "      <td>0.0</td>\n",
       "    </tr>\n",
       "    <tr>\n",
       "      <th>gill-color</th>\n",
       "      <td>gill-color</td>\n",
       "      <td>object</td>\n",
       "      <td>['black', 'black', 'brown', 'brown', 'black']</td>\n",
       "      <td>0.0</td>\n",
       "    </tr>\n",
       "    <tr>\n",
       "      <th>stalk-shape</th>\n",
       "      <td>stalk-shape</td>\n",
       "      <td>object</td>\n",
       "      <td>['enlarging', 'enlarging', 'enlarging', 'enlar...</td>\n",
       "      <td>0.0</td>\n",
       "    </tr>\n",
       "    <tr>\n",
       "      <th>stalk-root</th>\n",
       "      <td>stalk-root</td>\n",
       "      <td>object</td>\n",
       "      <td>['equal', 'club', 'club', 'equal', 'equal']</td>\n",
       "      <td>0.0</td>\n",
       "    </tr>\n",
       "    <tr>\n",
       "      <th>stalk-surface-above-ring</th>\n",
       "      <td>stalk-surface-above-ring</td>\n",
       "      <td>object</td>\n",
       "      <td>['smooth', 'smooth', 'smooth', 'smooth', 'smoo...</td>\n",
       "      <td>0.0</td>\n",
       "    </tr>\n",
       "    <tr>\n",
       "      <th>stalk-surface-below-ring</th>\n",
       "      <td>stalk-surface-below-ring</td>\n",
       "      <td>object</td>\n",
       "      <td>['smooth', 'smooth', 'smooth', 'smooth', 'smoo...</td>\n",
       "      <td>0.0</td>\n",
       "    </tr>\n",
       "    <tr>\n",
       "      <th>stalk-color-above-ring</th>\n",
       "      <td>stalk-color-above-ring</td>\n",
       "      <td>object</td>\n",
       "      <td>['white', 'white', 'white', 'white', 'white']</td>\n",
       "      <td>0.0</td>\n",
       "    </tr>\n",
       "    <tr>\n",
       "      <th>stalk-color-below-ring</th>\n",
       "      <td>stalk-color-below-ring</td>\n",
       "      <td>object</td>\n",
       "      <td>['white', 'white', 'white', 'white', 'white']</td>\n",
       "      <td>0.0</td>\n",
       "    </tr>\n",
       "    <tr>\n",
       "      <th>veil-type</th>\n",
       "      <td>veil-type</td>\n",
       "      <td>object</td>\n",
       "      <td>['partial', 'partial', 'partial', 'partial', '...</td>\n",
       "      <td>0.0</td>\n",
       "    </tr>\n",
       "    <tr>\n",
       "      <th>veil-color</th>\n",
       "      <td>veil-color</td>\n",
       "      <td>object</td>\n",
       "      <td>['white', 'white', 'white', 'white', 'white']</td>\n",
       "      <td>0.0</td>\n",
       "    </tr>\n",
       "    <tr>\n",
       "      <th>ring-number</th>\n",
       "      <td>ring-number</td>\n",
       "      <td>object</td>\n",
       "      <td>['one', 'one', 'one', 'one', 'one']</td>\n",
       "      <td>0.0</td>\n",
       "    </tr>\n",
       "    <tr>\n",
       "      <th>ring-type</th>\n",
       "      <td>ring-type</td>\n",
       "      <td>object</td>\n",
       "      <td>['pendant', 'pendant', 'pendant', 'pendant', '...</td>\n",
       "      <td>0.0</td>\n",
       "    </tr>\n",
       "    <tr>\n",
       "      <th>spore-print-color</th>\n",
       "      <td>spore-print-color</td>\n",
       "      <td>object</td>\n",
       "      <td>['black', 'brown', 'brown', 'black', 'brown']</td>\n",
       "      <td>0.0</td>\n",
       "    </tr>\n",
       "    <tr>\n",
       "      <th>population</th>\n",
       "      <td>population</td>\n",
       "      <td>object</td>\n",
       "      <td>['scattered', 'numerous', 'numerous', 'scatter...</td>\n",
       "      <td>0.0</td>\n",
       "    </tr>\n",
       "    <tr>\n",
       "      <th>habitat</th>\n",
       "      <td>habitat</td>\n",
       "      <td>object</td>\n",
       "      <td>['urban', 'grasses', 'meadows', 'urban', 'gras...</td>\n",
       "      <td>0.0</td>\n",
       "    </tr>\n",
       "  </tbody>\n",
       "</table>\n",
       "</div>"
      ],
      "text/plain": [
       "                                              name    type  \\\n",
       "class                                        class  object   \n",
       "cap-shape                                cap-shape  object   \n",
       "cap-surface                            cap-surface  object   \n",
       "cap-color                                cap-color  object   \n",
       "bruises                                    bruises  object   \n",
       "odor                                          odor  object   \n",
       "gill-attachment                    gill-attachment  object   \n",
       "gill-spacing                          gill-spacing  object   \n",
       "gill-size                                gill-size  object   \n",
       "gill-color                              gill-color  object   \n",
       "stalk-shape                            stalk-shape  object   \n",
       "stalk-root                              stalk-root  object   \n",
       "stalk-surface-above-ring  stalk-surface-above-ring  object   \n",
       "stalk-surface-below-ring  stalk-surface-below-ring  object   \n",
       "stalk-color-above-ring      stalk-color-above-ring  object   \n",
       "stalk-color-below-ring      stalk-color-below-ring  object   \n",
       "veil-type                                veil-type  object   \n",
       "veil-color                              veil-color  object   \n",
       "ring-number                            ring-number  object   \n",
       "ring-type                                ring-type  object   \n",
       "spore-print-color                spore-print-color  object   \n",
       "population                              population  object   \n",
       "habitat                                    habitat  object   \n",
       "\n",
       "                                                                     sample  \\\n",
       "class                     ['poisoned', 'edible', 'edible', 'poisoned', '...   \n",
       "cap-shape                  ['convex', 'convex', 'bell', 'convex', 'convex']   \n",
       "cap-surface               ['smooth', 'smooth', 'smooth', 'scaly', 'smooth']   \n",
       "cap-color                     ['brown', 'yellow', 'white', 'white', 'gray']   \n",
       "bruises                   ['bruises', 'bruises', 'bruises', 'bruises', '...   \n",
       "odor                      ['pungent', 'almond', 'anise', 'pungent', 'none']   \n",
       "gill-attachment                    ['free', 'free', 'free', 'free', 'free']   \n",
       "gill-spacing                ['close', 'close', 'close', 'close', 'crowded']   \n",
       "gill-size                   ['narrow', 'broad', 'broad', 'narrow', 'broad']   \n",
       "gill-color                    ['black', 'black', 'brown', 'brown', 'black']   \n",
       "stalk-shape               ['enlarging', 'enlarging', 'enlarging', 'enlar...   \n",
       "stalk-root                      ['equal', 'club', 'club', 'equal', 'equal']   \n",
       "stalk-surface-above-ring  ['smooth', 'smooth', 'smooth', 'smooth', 'smoo...   \n",
       "stalk-surface-below-ring  ['smooth', 'smooth', 'smooth', 'smooth', 'smoo...   \n",
       "stalk-color-above-ring        ['white', 'white', 'white', 'white', 'white']   \n",
       "stalk-color-below-ring        ['white', 'white', 'white', 'white', 'white']   \n",
       "veil-type                 ['partial', 'partial', 'partial', 'partial', '...   \n",
       "veil-color                    ['white', 'white', 'white', 'white', 'white']   \n",
       "ring-number                             ['one', 'one', 'one', 'one', 'one']   \n",
       "ring-type                 ['pendant', 'pendant', 'pendant', 'pendant', '...   \n",
       "spore-print-color             ['black', 'brown', 'brown', 'black', 'brown']   \n",
       "population                ['scattered', 'numerous', 'numerous', 'scatter...   \n",
       "habitat                   ['urban', 'grasses', 'meadows', 'urban', 'gras...   \n",
       "\n",
       "                          % nulls  \n",
       "class                         0.0  \n",
       "cap-shape                     0.0  \n",
       "cap-surface                   0.0  \n",
       "cap-color                     0.0  \n",
       "bruises                       0.0  \n",
       "odor                          0.0  \n",
       "gill-attachment               0.0  \n",
       "gill-spacing                  0.0  \n",
       "gill-size                     0.0  \n",
       "gill-color                    0.0  \n",
       "stalk-shape                   0.0  \n",
       "stalk-root                    0.0  \n",
       "stalk-surface-above-ring      0.0  \n",
       "stalk-surface-below-ring      0.0  \n",
       "stalk-color-above-ring        0.0  \n",
       "stalk-color-below-ring        0.0  \n",
       "veil-type                     0.0  \n",
       "veil-color                    0.0  \n",
       "ring-number                   0.0  \n",
       "ring-type                     0.0  \n",
       "spore-print-color             0.0  \n",
       "population                    0.0  \n",
       "habitat                       0.0  "
      ]
     },
     "execution_count": 35,
     "metadata": {},
     "output_type": "execute_result"
    }
   ],
   "source": [
    "mushroom.data_sample()"
   ]
  },
  {
   "cell_type": "code",
   "execution_count": 36,
   "id": "f07b713e",
   "metadata": {
    "ExecuteTime": {
     "end_time": "2022-05-23T09:56:49.888250Z",
     "start_time": "2022-05-23T09:56:49.849521Z"
    }
   },
   "outputs": [
    {
     "data": {
      "text/plain": [
       "0       poisoned\n",
       "1         edible\n",
       "2         edible\n",
       "3       poisoned\n",
       "4         edible\n",
       "          ...   \n",
       "8119      edible\n",
       "8120      edible\n",
       "8121      edible\n",
       "8122    poisoned\n",
       "8123      edible\n",
       "Name: class, Length: 8124, dtype: object"
      ]
     },
     "execution_count": 36,
     "metadata": {},
     "output_type": "execute_result"
    }
   ],
   "source": [
    "mushroom.df['class']"
   ]
  },
  {
   "cell_type": "code",
   "execution_count": 37,
   "id": "404f5dab",
   "metadata": {
    "ExecuteTime": {
     "end_time": "2022-05-23T09:56:49.985546Z",
     "start_time": "2022-05-23T09:56:49.894572Z"
    }
   },
   "outputs": [
    {
     "data": {
      "text/html": [
       "<div>\n",
       "<style scoped>\n",
       "    .dataframe tbody tr th:only-of-type {\n",
       "        vertical-align: middle;\n",
       "    }\n",
       "\n",
       "    .dataframe tbody tr th {\n",
       "        vertical-align: top;\n",
       "    }\n",
       "\n",
       "    .dataframe thead th {\n",
       "        text-align: right;\n",
       "    }\n",
       "</style>\n",
       "<table border=\"1\" class=\"dataframe\">\n",
       "  <thead>\n",
       "    <tr style=\"text-align: right;\">\n",
       "      <th></th>\n",
       "      <th>name</th>\n",
       "      <th>type</th>\n",
       "      <th>sample</th>\n",
       "      <th>% nulls</th>\n",
       "    </tr>\n",
       "  </thead>\n",
       "  <tbody>\n",
       "    <tr>\n",
       "      <th>class</th>\n",
       "      <td>class</td>\n",
       "      <td>object</td>\n",
       "      <td>['poisoned', 'edible', 'edible', 'poisoned', '...</td>\n",
       "      <td>0.0</td>\n",
       "    </tr>\n",
       "    <tr>\n",
       "      <th>cap-shape</th>\n",
       "      <td>cap-shape</td>\n",
       "      <td>object</td>\n",
       "      <td>['convex', 'convex', 'bell', 'convex', 'convex']</td>\n",
       "      <td>0.0</td>\n",
       "    </tr>\n",
       "    <tr>\n",
       "      <th>cap-surface</th>\n",
       "      <td>cap-surface</td>\n",
       "      <td>object</td>\n",
       "      <td>['smooth', 'smooth', 'smooth', 'scaly', 'smooth']</td>\n",
       "      <td>0.0</td>\n",
       "    </tr>\n",
       "    <tr>\n",
       "      <th>cap-color</th>\n",
       "      <td>cap-color</td>\n",
       "      <td>object</td>\n",
       "      <td>['brown', 'yellow', 'white', 'white', 'gray']</td>\n",
       "      <td>0.0</td>\n",
       "    </tr>\n",
       "    <tr>\n",
       "      <th>bruises</th>\n",
       "      <td>bruises</td>\n",
       "      <td>object</td>\n",
       "      <td>['bruises', 'bruises', 'bruises', 'bruises', '...</td>\n",
       "      <td>0.0</td>\n",
       "    </tr>\n",
       "    <tr>\n",
       "      <th>odor</th>\n",
       "      <td>odor</td>\n",
       "      <td>object</td>\n",
       "      <td>['pungent', 'almond', 'anise', 'pungent', 'none']</td>\n",
       "      <td>0.0</td>\n",
       "    </tr>\n",
       "    <tr>\n",
       "      <th>gill-attachment</th>\n",
       "      <td>gill-attachment</td>\n",
       "      <td>object</td>\n",
       "      <td>['free', 'free', 'free', 'free', 'free']</td>\n",
       "      <td>0.0</td>\n",
       "    </tr>\n",
       "    <tr>\n",
       "      <th>gill-spacing</th>\n",
       "      <td>gill-spacing</td>\n",
       "      <td>object</td>\n",
       "      <td>['close', 'close', 'close', 'close', 'crowded']</td>\n",
       "      <td>0.0</td>\n",
       "    </tr>\n",
       "    <tr>\n",
       "      <th>gill-size</th>\n",
       "      <td>gill-size</td>\n",
       "      <td>object</td>\n",
       "      <td>['narrow', 'broad', 'broad', 'narrow', 'broad']</td>\n",
       "      <td>0.0</td>\n",
       "    </tr>\n",
       "    <tr>\n",
       "      <th>gill-color</th>\n",
       "      <td>gill-color</td>\n",
       "      <td>object</td>\n",
       "      <td>['black', 'black', 'brown', 'brown', 'black']</td>\n",
       "      <td>0.0</td>\n",
       "    </tr>\n",
       "    <tr>\n",
       "      <th>stalk-shape</th>\n",
       "      <td>stalk-shape</td>\n",
       "      <td>object</td>\n",
       "      <td>['enlarging', 'enlarging', 'enlarging', 'enlar...</td>\n",
       "      <td>0.0</td>\n",
       "    </tr>\n",
       "    <tr>\n",
       "      <th>stalk-root</th>\n",
       "      <td>stalk-root</td>\n",
       "      <td>object</td>\n",
       "      <td>['equal', 'club', 'club', 'equal', 'equal']</td>\n",
       "      <td>0.0</td>\n",
       "    </tr>\n",
       "    <tr>\n",
       "      <th>stalk-surface-above-ring</th>\n",
       "      <td>stalk-surface-above-ring</td>\n",
       "      <td>object</td>\n",
       "      <td>['smooth', 'smooth', 'smooth', 'smooth', 'smoo...</td>\n",
       "      <td>0.0</td>\n",
       "    </tr>\n",
       "    <tr>\n",
       "      <th>stalk-surface-below-ring</th>\n",
       "      <td>stalk-surface-below-ring</td>\n",
       "      <td>object</td>\n",
       "      <td>['smooth', 'smooth', 'smooth', 'smooth', 'smoo...</td>\n",
       "      <td>0.0</td>\n",
       "    </tr>\n",
       "    <tr>\n",
       "      <th>stalk-color-above-ring</th>\n",
       "      <td>stalk-color-above-ring</td>\n",
       "      <td>object</td>\n",
       "      <td>['white', 'white', 'white', 'white', 'white']</td>\n",
       "      <td>0.0</td>\n",
       "    </tr>\n",
       "    <tr>\n",
       "      <th>stalk-color-below-ring</th>\n",
       "      <td>stalk-color-below-ring</td>\n",
       "      <td>object</td>\n",
       "      <td>['white', 'white', 'white', 'white', 'white']</td>\n",
       "      <td>0.0</td>\n",
       "    </tr>\n",
       "    <tr>\n",
       "      <th>veil-type</th>\n",
       "      <td>veil-type</td>\n",
       "      <td>object</td>\n",
       "      <td>['partial', 'partial', 'partial', 'partial', '...</td>\n",
       "      <td>0.0</td>\n",
       "    </tr>\n",
       "    <tr>\n",
       "      <th>veil-color</th>\n",
       "      <td>veil-color</td>\n",
       "      <td>object</td>\n",
       "      <td>['white', 'white', 'white', 'white', 'white']</td>\n",
       "      <td>0.0</td>\n",
       "    </tr>\n",
       "    <tr>\n",
       "      <th>ring-number</th>\n",
       "      <td>ring-number</td>\n",
       "      <td>object</td>\n",
       "      <td>['one', 'one', 'one', 'one', 'one']</td>\n",
       "      <td>0.0</td>\n",
       "    </tr>\n",
       "    <tr>\n",
       "      <th>ring-type</th>\n",
       "      <td>ring-type</td>\n",
       "      <td>object</td>\n",
       "      <td>['pendant', 'pendant', 'pendant', 'pendant', '...</td>\n",
       "      <td>0.0</td>\n",
       "    </tr>\n",
       "    <tr>\n",
       "      <th>spore-print-color</th>\n",
       "      <td>spore-print-color</td>\n",
       "      <td>object</td>\n",
       "      <td>['black', 'brown', 'brown', 'black', 'brown']</td>\n",
       "      <td>0.0</td>\n",
       "    </tr>\n",
       "    <tr>\n",
       "      <th>population</th>\n",
       "      <td>population</td>\n",
       "      <td>object</td>\n",
       "      <td>['scattered', 'numerous', 'numerous', 'scatter...</td>\n",
       "      <td>0.0</td>\n",
       "    </tr>\n",
       "    <tr>\n",
       "      <th>habitat</th>\n",
       "      <td>habitat</td>\n",
       "      <td>object</td>\n",
       "      <td>['urban', 'grasses', 'meadows', 'urban', 'gras...</td>\n",
       "      <td>0.0</td>\n",
       "    </tr>\n",
       "  </tbody>\n",
       "</table>\n",
       "</div>"
      ],
      "text/plain": [
       "                                              name    type  \\\n",
       "class                                        class  object   \n",
       "cap-shape                                cap-shape  object   \n",
       "cap-surface                            cap-surface  object   \n",
       "cap-color                                cap-color  object   \n",
       "bruises                                    bruises  object   \n",
       "odor                                          odor  object   \n",
       "gill-attachment                    gill-attachment  object   \n",
       "gill-spacing                          gill-spacing  object   \n",
       "gill-size                                gill-size  object   \n",
       "gill-color                              gill-color  object   \n",
       "stalk-shape                            stalk-shape  object   \n",
       "stalk-root                              stalk-root  object   \n",
       "stalk-surface-above-ring  stalk-surface-above-ring  object   \n",
       "stalk-surface-below-ring  stalk-surface-below-ring  object   \n",
       "stalk-color-above-ring      stalk-color-above-ring  object   \n",
       "stalk-color-below-ring      stalk-color-below-ring  object   \n",
       "veil-type                                veil-type  object   \n",
       "veil-color                              veil-color  object   \n",
       "ring-number                            ring-number  object   \n",
       "ring-type                                ring-type  object   \n",
       "spore-print-color                spore-print-color  object   \n",
       "population                              population  object   \n",
       "habitat                                    habitat  object   \n",
       "\n",
       "                                                                     sample  \\\n",
       "class                     ['poisoned', 'edible', 'edible', 'poisoned', '...   \n",
       "cap-shape                  ['convex', 'convex', 'bell', 'convex', 'convex']   \n",
       "cap-surface               ['smooth', 'smooth', 'smooth', 'scaly', 'smooth']   \n",
       "cap-color                     ['brown', 'yellow', 'white', 'white', 'gray']   \n",
       "bruises                   ['bruises', 'bruises', 'bruises', 'bruises', '...   \n",
       "odor                      ['pungent', 'almond', 'anise', 'pungent', 'none']   \n",
       "gill-attachment                    ['free', 'free', 'free', 'free', 'free']   \n",
       "gill-spacing                ['close', 'close', 'close', 'close', 'crowded']   \n",
       "gill-size                   ['narrow', 'broad', 'broad', 'narrow', 'broad']   \n",
       "gill-color                    ['black', 'black', 'brown', 'brown', 'black']   \n",
       "stalk-shape               ['enlarging', 'enlarging', 'enlarging', 'enlar...   \n",
       "stalk-root                      ['equal', 'club', 'club', 'equal', 'equal']   \n",
       "stalk-surface-above-ring  ['smooth', 'smooth', 'smooth', 'smooth', 'smoo...   \n",
       "stalk-surface-below-ring  ['smooth', 'smooth', 'smooth', 'smooth', 'smoo...   \n",
       "stalk-color-above-ring        ['white', 'white', 'white', 'white', 'white']   \n",
       "stalk-color-below-ring        ['white', 'white', 'white', 'white', 'white']   \n",
       "veil-type                 ['partial', 'partial', 'partial', 'partial', '...   \n",
       "veil-color                    ['white', 'white', 'white', 'white', 'white']   \n",
       "ring-number                             ['one', 'one', 'one', 'one', 'one']   \n",
       "ring-type                 ['pendant', 'pendant', 'pendant', 'pendant', '...   \n",
       "spore-print-color             ['black', 'brown', 'brown', 'black', 'brown']   \n",
       "population                ['scattered', 'numerous', 'numerous', 'scatter...   \n",
       "habitat                   ['urban', 'grasses', 'meadows', 'urban', 'gras...   \n",
       "\n",
       "                          % nulls  \n",
       "class                         0.0  \n",
       "cap-shape                     0.0  \n",
       "cap-surface                   0.0  \n",
       "cap-color                     0.0  \n",
       "bruises                       0.0  \n",
       "odor                          0.0  \n",
       "gill-attachment               0.0  \n",
       "gill-spacing                  0.0  \n",
       "gill-size                     0.0  \n",
       "gill-color                    0.0  \n",
       "stalk-shape                   0.0  \n",
       "stalk-root                    0.0  \n",
       "stalk-surface-above-ring      0.0  \n",
       "stalk-surface-below-ring      0.0  \n",
       "stalk-color-above-ring        0.0  \n",
       "stalk-color-below-ring        0.0  \n",
       "veil-type                     0.0  \n",
       "veil-color                    0.0  \n",
       "ring-number                   0.0  \n",
       "ring-type                     0.0  \n",
       "spore-print-color             0.0  \n",
       "population                    0.0  \n",
       "habitat                       0.0  "
      ]
     },
     "execution_count": 37,
     "metadata": {},
     "output_type": "execute_result"
    }
   ],
   "source": [
    "mushroom.data_sample()"
   ]
  },
  {
   "cell_type": "code",
   "execution_count": 38,
   "id": "f434e0f0",
   "metadata": {
    "ExecuteTime": {
     "end_time": "2022-05-23T09:56:50.445458Z",
     "start_time": "2022-05-23T09:56:49.990510Z"
    }
   },
   "outputs": [
    {
     "data": {
      "text/html": [
       "<h3>Analysis of feature : \"class\"</h3>"
      ],
      "text/plain": [
       "<IPython.core.display.HTML object>"
      ]
     },
     "metadata": {},
     "output_type": "display_data"
    },
    {
     "data": {
      "text/plain": [
       "count       8124\n",
       "unique         2\n",
       "top       edible\n",
       "freq        4208\n",
       "Name: class, dtype: object"
      ]
     },
     "metadata": {},
     "output_type": "display_data"
    },
    {
     "data": {
      "image/png": "[encoded data removed]",
      "text/plain": [
       "<Figure size 576x432 with 1 Axes>"
      ]
     },
     "metadata": {},
     "output_type": "display_data"
    }
   ],
   "source": [
    "b = mushroom.look(mushroom.target)"
   ]
  },
  {
   "cell_type": "code",
   "execution_count": 39,
   "id": "234d7065",
   "metadata": {
    "ExecuteTime": {
     "end_time": "2022-05-23T09:56:57.567320Z",
     "start_time": "2022-05-23T09:56:50.452397Z"
    }
   },
   "outputs": [
    {
     "data": {
      "text/html": [
       "<h3>Analysis of feature : \"class\"</h3>"
      ],
      "text/plain": [
       "<IPython.core.display.HTML object>"
      ]
     },
     "metadata": {},
     "output_type": "display_data"
    },
    {
     "data": {
      "text/plain": [
       "count       8124\n",
       "unique         2\n",
       "top       edible\n",
       "freq        4208\n",
       "Name: class, dtype: object"
      ]
     },
     "metadata": {},
     "output_type": "display_data"
    },
    {
     "data": {
      "text/html": [
       "<h3>Analysis of feature : \"cap-shape\"</h3>"
      ],
      "text/plain": [
       "<IPython.core.display.HTML object>"
      ]
     },
     "metadata": {},
     "output_type": "display_data"
    },
    {
     "data": {
      "text/plain": [
       "count       8124\n",
       "unique         6\n",
       "top       convex\n",
       "freq        3656\n",
       "Name: cap-shape, dtype: object"
      ]
     },
     "metadata": {},
     "output_type": "display_data"
    },
    {
     "data": {
      "text/html": [
       "<h3>Analysis of feature : \"cap-surface\"</h3>"
      ],
      "text/plain": [
       "<IPython.core.display.HTML object>"
      ]
     },
     "metadata": {},
     "output_type": "display_data"
    },
    {
     "data": {
      "text/plain": [
       "count      8124\n",
       "unique        4\n",
       "top       scaly\n",
       "freq       3244\n",
       "Name: cap-surface, dtype: object"
      ]
     },
     "metadata": {},
     "output_type": "display_data"
    },
    {
     "data": {
      "text/html": [
       "<h3>Analysis of feature : \"cap-color\"</h3>"
      ],
      "text/plain": [
       "<IPython.core.display.HTML object>"
      ]
     },
     "metadata": {},
     "output_type": "display_data"
    },
    {
     "data": {
      "text/plain": [
       "count      8124\n",
       "unique       10\n",
       "top       brown\n",
       "freq       2284\n",
       "Name: cap-color, dtype: object"
      ]
     },
     "metadata": {},
     "output_type": "display_data"
    },
    {
     "data": {
      "text/html": [
       "<h3>Analysis of feature : \"bruises\"</h3>"
      ],
      "text/plain": [
       "<IPython.core.display.HTML object>"
      ]
     },
     "metadata": {},
     "output_type": "display_data"
    },
    {
     "data": {
      "text/plain": [
       "count     8124\n",
       "unique       2\n",
       "top         no\n",
       "freq      4748\n",
       "Name: bruises, dtype: object"
      ]
     },
     "metadata": {},
     "output_type": "display_data"
    },
    {
     "data": {
      "text/html": [
       "<h3>Analysis of feature : \"odor\"</h3>"
      ],
      "text/plain": [
       "<IPython.core.display.HTML object>"
      ]
     },
     "metadata": {},
     "output_type": "display_data"
    },
    {
     "data": {
      "text/plain": [
       "count     8124\n",
       "unique       9\n",
       "top       none\n",
       "freq      3528\n",
       "Name: odor, dtype: object"
      ]
     },
     "metadata": {},
     "output_type": "display_data"
    },
    {
     "data": {
      "text/html": [
       "<h3>Analysis of feature : \"gill-attachment\"</h3>"
      ],
      "text/plain": [
       "<IPython.core.display.HTML object>"
      ]
     },
     "metadata": {},
     "output_type": "display_data"
    },
    {
     "data": {
      "text/plain": [
       "count     8124\n",
       "unique       2\n",
       "top       free\n",
       "freq      7914\n",
       "Name: gill-attachment, dtype: object"
      ]
     },
     "metadata": {},
     "output_type": "display_data"
    },
    {
     "data": {
      "text/html": [
       "<h3>Analysis of feature : \"gill-spacing\"</h3>"
      ],
      "text/plain": [
       "<IPython.core.display.HTML object>"
      ]
     },
     "metadata": {},
     "output_type": "display_data"
    },
    {
     "data": {
      "text/plain": [
       "count      8124\n",
       "unique        2\n",
       "top       close\n",
       "freq       6812\n",
       "Name: gill-spacing, dtype: object"
      ]
     },
     "metadata": {},
     "output_type": "display_data"
    },
    {
     "data": {
      "text/html": [
       "<h3>Analysis of feature : \"gill-size\"</h3>"
      ],
      "text/plain": [
       "<IPython.core.display.HTML object>"
      ]
     },
     "metadata": {},
     "output_type": "display_data"
    },
    {
     "data": {
      "text/plain": [
       "count      8124\n",
       "unique        2\n",
       "top       broad\n",
       "freq       5612\n",
       "Name: gill-size, dtype: object"
      ]
     },
     "metadata": {},
     "output_type": "display_data"
    },
    {
     "data": {
      "text/html": [
       "<h3>Analysis of feature : \"gill-color\"</h3>"
      ],
      "text/plain": [
       "<IPython.core.display.HTML object>"
      ]
     },
     "metadata": {},
     "output_type": "display_data"
    },
    {
     "data": {
      "text/plain": [
       "count     8124\n",
       "unique      12\n",
       "top       buff\n",
       "freq      1728\n",
       "Name: gill-color, dtype: object"
      ]
     },
     "metadata": {},
     "output_type": "display_data"
    },
    {
     "data": {
      "text/html": [
       "<h3>Analysis of feature : \"stalk-shape\"</h3>"
      ],
      "text/plain": [
       "<IPython.core.display.HTML object>"
      ]
     },
     "metadata": {},
     "output_type": "display_data"
    },
    {
     "data": {
      "text/plain": [
       "count         8124\n",
       "unique           2\n",
       "top       tapering\n",
       "freq          4608\n",
       "Name: stalk-shape, dtype: object"
      ]
     },
     "metadata": {},
     "output_type": "display_data"
    },
    {
     "data": {
      "text/html": [
       "<h3>Analysis of feature : \"stalk-root\"</h3>"
      ],
      "text/plain": [
       "<IPython.core.display.HTML object>"
      ]
     },
     "metadata": {},
     "output_type": "display_data"
    },
    {
     "data": {
      "text/plain": [
       "count        8124\n",
       "unique          5\n",
       "top       bulbous\n",
       "freq         3776\n",
       "Name: stalk-root, dtype: object"
      ]
     },
     "metadata": {},
     "output_type": "display_data"
    },
    {
     "data": {
      "text/html": [
       "<h3>Analysis of feature : \"stalk-surface-above-ring\"</h3>"
      ],
      "text/plain": [
       "<IPython.core.display.HTML object>"
      ]
     },
     "metadata": {},
     "output_type": "display_data"
    },
    {
     "data": {
      "text/plain": [
       "count       8124\n",
       "unique         4\n",
       "top       smooth\n",
       "freq        5176\n",
       "Name: stalk-surface-above-ring, dtype: object"
      ]
     },
     "metadata": {},
     "output_type": "display_data"
    },
    {
     "data": {
      "text/html": [
       "<h3>Analysis of feature : \"stalk-surface-below-ring\"</h3>"
      ],
      "text/plain": [
       "<IPython.core.display.HTML object>"
      ]
     },
     "metadata": {},
     "output_type": "display_data"
    },
    {
     "data": {
      "text/plain": [
       "count       8124\n",
       "unique         4\n",
       "top       smooth\n",
       "freq        4936\n",
       "Name: stalk-surface-below-ring, dtype: object"
      ]
     },
     "metadata": {},
     "output_type": "display_data"
    },
    {
     "data": {
      "text/html": [
       "<h3>Analysis of feature : \"stalk-color-above-ring\"</h3>"
      ],
      "text/plain": [
       "<IPython.core.display.HTML object>"
      ]
     },
     "metadata": {},
     "output_type": "display_data"
    },
    {
     "data": {
      "text/plain": [
       "count      8124\n",
       "unique        9\n",
       "top       white\n",
       "freq       4464\n",
       "Name: stalk-color-above-ring, dtype: object"
      ]
     },
     "metadata": {},
     "output_type": "display_data"
    },
    {
     "data": {
      "text/html": [
       "<h3>Analysis of feature : \"stalk-color-below-ring\"</h3>"
      ],
      "text/plain": [
       "<IPython.core.display.HTML object>"
      ]
     },
     "metadata": {},
     "output_type": "display_data"
    },
    {
     "data": {
      "text/plain": [
       "count      8124\n",
       "unique        9\n",
       "top       white\n",
       "freq       4384\n",
       "Name: stalk-color-below-ring, dtype: object"
      ]
     },
     "metadata": {},
     "output_type": "display_data"
    },
    {
     "data": {
      "text/html": [
       "<h3>Analysis of feature : \"veil-type\"</h3>"
      ],
      "text/plain": [
       "<IPython.core.display.HTML object>"
      ]
     },
     "metadata": {},
     "output_type": "display_data"
    },
    {
     "data": {
      "text/plain": [
       "count        8124\n",
       "unique          1\n",
       "top       partial\n",
       "freq         8124\n",
       "Name: veil-type, dtype: object"
      ]
     },
     "metadata": {},
     "output_type": "display_data"
    },
    {
     "data": {
      "text/html": [
       "<h3>Analysis of feature : \"veil-color\"</h3>"
      ],
      "text/plain": [
       "<IPython.core.display.HTML object>"
      ]
     },
     "metadata": {},
     "output_type": "display_data"
    },
    {
     "data": {
      "text/plain": [
       "count      8124\n",
       "unique        4\n",
       "top       white\n",
       "freq       7924\n",
       "Name: veil-color, dtype: object"
      ]
     },
     "metadata": {},
     "output_type": "display_data"
    },
    {
     "data": {
      "text/html": [
       "<h3>Analysis of feature : \"ring-number\"</h3>"
      ],
      "text/plain": [
       "<IPython.core.display.HTML object>"
      ]
     },
     "metadata": {},
     "output_type": "display_data"
    },
    {
     "data": {
      "text/plain": [
       "count     8124\n",
       "unique       3\n",
       "top        one\n",
       "freq      7488\n",
       "Name: ring-number, dtype: object"
      ]
     },
     "metadata": {},
     "output_type": "display_data"
    },
    {
     "data": {
      "text/html": [
       "<h3>Analysis of feature : \"ring-type\"</h3>"
      ],
      "text/plain": [
       "<IPython.core.display.HTML object>"
      ]
     },
     "metadata": {},
     "output_type": "display_data"
    },
    {
     "data": {
      "text/plain": [
       "count        8124\n",
       "unique          5\n",
       "top       pendant\n",
       "freq         3968\n",
       "Name: ring-type, dtype: object"
      ]
     },
     "metadata": {},
     "output_type": "display_data"
    },
    {
     "data": {
      "text/html": [
       "<h3>Analysis of feature : \"spore-print-color\"</h3>"
      ],
      "text/plain": [
       "<IPython.core.display.HTML object>"
      ]
     },
     "metadata": {},
     "output_type": "display_data"
    },
    {
     "data": {
      "text/plain": [
       "count      8124\n",
       "unique        9\n",
       "top       white\n",
       "freq       2388\n",
       "Name: spore-print-color, dtype: object"
      ]
     },
     "metadata": {},
     "output_type": "display_data"
    },
    {
     "name": "stderr",
     "output_type": "stream",
     "text": [
      "/var/folders/f7/wyfz6tkx04s_89djz6vy473r0000gn/T/ipykernel_30662/618271484.py:80: RuntimeWarning: More than 20 figures have been opened. Figures created through the pyplot interface (`matplotlib.pyplot.figure`) are retained until explicitly closed and may consume too much memory. (To control this warning, see the rcParam `figure.max_open_warning`).\n",
      "  fig, ax = plt.subplots(figsize=(8,6))\n"
     ]
    },
    {
     "data": {
      "text/html": [
       "<h3>Analysis of feature : \"population\"</h3>"
      ],
      "text/plain": [
       "<IPython.core.display.HTML object>"
      ]
     },
     "metadata": {},
     "output_type": "display_data"
    },
    {
     "data": {
      "text/plain": [
       "count        8124\n",
       "unique          6\n",
       "top       several\n",
       "freq         4040\n",
       "Name: population, dtype: object"
      ]
     },
     "metadata": {},
     "output_type": "display_data"
    },
    {
     "data": {
      "text/html": [
       "<h3>Analysis of feature : \"habitat\"</h3>"
      ],
      "text/plain": [
       "<IPython.core.display.HTML object>"
      ]
     },
     "metadata": {},
     "output_type": "display_data"
    },
    {
     "data": {
      "text/plain": [
       "count      8124\n",
       "unique        7\n",
       "top       woods\n",
       "freq       3148\n",
       "Name: habitat, dtype: object"
      ]
     },
     "metadata": {},
     "output_type": "display_data"
    },
    {
     "data": {
      "image/png": "[encoded data removed]",
      "text/plain": [
       "<Figure size 576x432 with 1 Axes>"
      ]
     },
     "metadata": {},
     "output_type": "display_data"
    },
    {
     "data": {
      "image/png": "[encoded data removed]",
      "text/plain": [
       "<Figure size 576x432 with 1 Axes>"
      ]
     },
     "metadata": {},
     "output_type": "display_data"
    },
    {
     "data": {
      "image/png": "[encoded data removed]",
      "text/plain": [
       "<Figure size 576x432 with 1 Axes>"
      ]
     },
     "metadata": {},
     "output_type": "display_data"
    },
    {
     "data": {
      "image/png": "[encoded data removed]",
      "text/plain": [
       "<Figure size 576x432 with 1 Axes>"
      ]
     },
     "metadata": {},
     "output_type": "display_data"
    },
    {
     "data": {
      "image/png": "[encoded data removed]",
      "text/plain": [
       "<Figure size 576x432 with 1 Axes>"
      ]
     },
     "metadata": {},
     "output_type": "display_data"
    },
    {
     "data": {
      "image/png": "[encoded data removed]",
      "text/plain": [
       "<Figure size 576x432 with 1 Axes>"
      ]
     },
     "metadata": {},
     "output_type": "display_data"
    },
    {
     "data": {
      "image/png": "[encoded data removed]",
      "text/plain": [
       "<Figure size 576x432 with 1 Axes>"
      ]
     },
     "metadata": {},
     "output_type": "display_data"
    },
    {
     "data": {
      "image/png": "[encoded data removed]",
      "text/plain": [
       "<Figure size 576x432 with 1 Axes>"
      ]
     },
     "metadata": {},
     "output_type": "display_data"
    },
    {
     "data": {
      "image/png": "[encoded data removed]",
      "text/plain": [
       "<Figure size 576x432 with 1 Axes>"
      ]
     },
     "metadata": {},
     "output_type": "display_data"
    },
    {
     "data": {
      "image/png": "[encoded data removed]",
      "text/plain": [
       "<Figure size 576x432 with 1 Axes>"
      ]
     },
     "metadata": {},
     "output_type": "display_data"
    },
    {
     "data": {
      "image/png": "[encoded data removed]",
      "text/plain": [
       "<Figure size 576x432 with 1 Axes>"
      ]
     },
     "metadata": {},
     "output_type": "display_data"
    },
    {
     "data": {
      "image/png": "[encoded data removed]",
      "text/plain": [
       "<Figure size 576x432 with 1 Axes>"
      ]
     },
     "metadata": {},
     "output_type": "display_data"
    },
    {
     "data": {
      "image/png": "[encoded data removed]",
      "text/plain": [
       "<Figure size 576x432 with 1 Axes>"
      ]
     },
     "metadata": {},
     "output_type": "display_data"
    },
    {
     "data": {
      "image/png": "[encoded data removed]",
      "text/plain": [
       "<Figure size 576x432 with 1 Axes>"
      ]
     },
     "metadata": {},
     "output_type": "display_data"
    },
    {
     "data": {
      "image/png": "[encoded data removed]",
      "text/plain": [
       "<Figure size 576x432 with 1 Axes>"
      ]
     },
     "metadata": {},
     "output_type": "display_data"
    },
    {
     "data": {
      "image/png": "[encoded data removed]",
      "text/plain": [
       "<Figure size 576x432 with 1 Axes>"
      ]
     },
     "metadata": {},
     "output_type": "display_data"
    },
    {
     "data": {
      "image/png": "[encoded data removed]",
      "text/plain": [
       "<Figure size 576x432 with 1 Axes>"
      ]
     },
     "metadata": {},
     "output_type": "display_data"
    },
    {
     "data": {
      "image/png": "[encoded data removed]",
      "text/plain": [
       "<Figure size 576x432 with 1 Axes>"
      ]
     },
     "metadata": {},
     "output_type": "display_data"
    },
    {
     "data": {
      "image/png": "[encoded data removed]",
      "text/plain": [
       "<Figure size 576x432 with 1 Axes>"
      ]
     },
     "metadata": {},
     "output_type": "display_data"
    },
    {
     "data": {
      "image/png": "[encoded data removed]",
      "text/plain": [
       "<Figure size 576x432 with 1 Axes>"
      ]
     },
     "metadata": {},
     "output_type": "display_data"
    },
    {
     "data": {
      "image/png": "[encoded data removed]",
      "text/plain": [
       "<Figure size 576x432 with 1 Axes>"
      ]
     },
     "metadata": {},
     "output_type": "display_data"
    },
    {
     "data": {
      "image/png": "[encoded data removed]",
      "text/plain": [
       "<Figure size 576x432 with 1 Axes>"
      ]
     },
     "metadata": {},
     "output_type": "display_data"
    },
    {
     "data": {
      "image/png": "[encoded data removed]",
      "text/plain": [
       "<Figure size 576x432 with 1 Axes>"
      ]
     },
     "metadata": {},
     "output_type": "display_data"
    }
   ],
   "source": [
    "for col in mushroom.df.columns:\n",
    "    mushroom.look(col)"
   ]
  },
  {
   "cell_type": "code",
   "execution_count": 41,
   "id": "45d478a2",
   "metadata": {
    "ExecuteTime": {
     "end_time": "2022-05-23T09:57:19.141985Z",
     "start_time": "2022-05-23T09:57:19.074300Z"
    }
   },
   "outputs": [
    {
     "data": {
      "text/html": [
       "<div>\n",
       "<style scoped>\n",
       "    .dataframe tbody tr th:only-of-type {\n",
       "        vertical-align: middle;\n",
       "    }\n",
       "\n",
       "    .dataframe tbody tr th {\n",
       "        vertical-align: top;\n",
       "    }\n",
       "\n",
       "    .dataframe thead th {\n",
       "        text-align: right;\n",
       "    }\n",
       "</style>\n",
       "<table border=\"1\" class=\"dataframe\">\n",
       "  <thead>\n",
       "    <tr style=\"text-align: right;\">\n",
       "      <th></th>\n",
       "      <th>class</th>\n",
       "      <th>cap-shape</th>\n",
       "      <th>cap-surface</th>\n",
       "      <th>cap-color</th>\n",
       "      <th>bruises</th>\n",
       "      <th>odor</th>\n",
       "      <th>gill-attachment</th>\n",
       "      <th>gill-spacing</th>\n",
       "      <th>gill-size</th>\n",
       "      <th>gill-color</th>\n",
       "      <th>...</th>\n",
       "      <th>stalk-surface-below-ring</th>\n",
       "      <th>stalk-color-above-ring</th>\n",
       "      <th>stalk-color-below-ring</th>\n",
       "      <th>veil-type</th>\n",
       "      <th>veil-color</th>\n",
       "      <th>ring-number</th>\n",
       "      <th>ring-type</th>\n",
       "      <th>spore-print-color</th>\n",
       "      <th>population</th>\n",
       "      <th>habitat</th>\n",
       "    </tr>\n",
       "  </thead>\n",
       "  <tbody>\n",
       "    <tr>\n",
       "      <th>0</th>\n",
       "      <td>poisoned</td>\n",
       "      <td>convex</td>\n",
       "      <td>smooth</td>\n",
       "      <td>brown</td>\n",
       "      <td>bruises</td>\n",
       "      <td>pungent</td>\n",
       "      <td>free</td>\n",
       "      <td>close</td>\n",
       "      <td>narrow</td>\n",
       "      <td>black</td>\n",
       "      <td>...</td>\n",
       "      <td>smooth</td>\n",
       "      <td>white</td>\n",
       "      <td>white</td>\n",
       "      <td>partial</td>\n",
       "      <td>white</td>\n",
       "      <td>one</td>\n",
       "      <td>pendant</td>\n",
       "      <td>black</td>\n",
       "      <td>scattered</td>\n",
       "      <td>urban</td>\n",
       "    </tr>\n",
       "    <tr>\n",
       "      <th>1</th>\n",
       "      <td>edible</td>\n",
       "      <td>convex</td>\n",
       "      <td>smooth</td>\n",
       "      <td>yellow</td>\n",
       "      <td>bruises</td>\n",
       "      <td>almond</td>\n",
       "      <td>free</td>\n",
       "      <td>close</td>\n",
       "      <td>broad</td>\n",
       "      <td>black</td>\n",
       "      <td>...</td>\n",
       "      <td>smooth</td>\n",
       "      <td>white</td>\n",
       "      <td>white</td>\n",
       "      <td>partial</td>\n",
       "      <td>white</td>\n",
       "      <td>one</td>\n",
       "      <td>pendant</td>\n",
       "      <td>brown</td>\n",
       "      <td>numerous</td>\n",
       "      <td>grasses</td>\n",
       "    </tr>\n",
       "    <tr>\n",
       "      <th>2</th>\n",
       "      <td>edible</td>\n",
       "      <td>bell</td>\n",
       "      <td>smooth</td>\n",
       "      <td>white</td>\n",
       "      <td>bruises</td>\n",
       "      <td>anise</td>\n",
       "      <td>free</td>\n",
       "      <td>close</td>\n",
       "      <td>broad</td>\n",
       "      <td>brown</td>\n",
       "      <td>...</td>\n",
       "      <td>smooth</td>\n",
       "      <td>white</td>\n",
       "      <td>white</td>\n",
       "      <td>partial</td>\n",
       "      <td>white</td>\n",
       "      <td>one</td>\n",
       "      <td>pendant</td>\n",
       "      <td>brown</td>\n",
       "      <td>numerous</td>\n",
       "      <td>meadows</td>\n",
       "    </tr>\n",
       "    <tr>\n",
       "      <th>3</th>\n",
       "      <td>poisoned</td>\n",
       "      <td>convex</td>\n",
       "      <td>scaly</td>\n",
       "      <td>white</td>\n",
       "      <td>bruises</td>\n",
       "      <td>pungent</td>\n",
       "      <td>free</td>\n",
       "      <td>close</td>\n",
       "      <td>narrow</td>\n",
       "      <td>brown</td>\n",
       "      <td>...</td>\n",
       "      <td>smooth</td>\n",
       "      <td>white</td>\n",
       "      <td>white</td>\n",
       "      <td>partial</td>\n",
       "      <td>white</td>\n",
       "      <td>one</td>\n",
       "      <td>pendant</td>\n",
       "      <td>black</td>\n",
       "      <td>scattered</td>\n",
       "      <td>urban</td>\n",
       "    </tr>\n",
       "    <tr>\n",
       "      <th>4</th>\n",
       "      <td>edible</td>\n",
       "      <td>convex</td>\n",
       "      <td>smooth</td>\n",
       "      <td>gray</td>\n",
       "      <td>no</td>\n",
       "      <td>none</td>\n",
       "      <td>free</td>\n",
       "      <td>crowded</td>\n",
       "      <td>broad</td>\n",
       "      <td>black</td>\n",
       "      <td>...</td>\n",
       "      <td>smooth</td>\n",
       "      <td>white</td>\n",
       "      <td>white</td>\n",
       "      <td>partial</td>\n",
       "      <td>white</td>\n",
       "      <td>one</td>\n",
       "      <td>evanescent</td>\n",
       "      <td>brown</td>\n",
       "      <td>abundant</td>\n",
       "      <td>grasses</td>\n",
       "    </tr>\n",
       "    <tr>\n",
       "      <th>...</th>\n",
       "      <td>...</td>\n",
       "      <td>...</td>\n",
       "      <td>...</td>\n",
       "      <td>...</td>\n",
       "      <td>...</td>\n",
       "      <td>...</td>\n",
       "      <td>...</td>\n",
       "      <td>...</td>\n",
       "      <td>...</td>\n",
       "      <td>...</td>\n",
       "      <td>...</td>\n",
       "      <td>...</td>\n",
       "      <td>...</td>\n",
       "      <td>...</td>\n",
       "      <td>...</td>\n",
       "      <td>...</td>\n",
       "      <td>...</td>\n",
       "      <td>...</td>\n",
       "      <td>...</td>\n",
       "      <td>...</td>\n",
       "      <td>...</td>\n",
       "    </tr>\n",
       "    <tr>\n",
       "      <th>8119</th>\n",
       "      <td>edible</td>\n",
       "      <td>knobbed</td>\n",
       "      <td>smooth</td>\n",
       "      <td>brown</td>\n",
       "      <td>no</td>\n",
       "      <td>none</td>\n",
       "      <td>attached</td>\n",
       "      <td>close</td>\n",
       "      <td>broad</td>\n",
       "      <td>yellow</td>\n",
       "      <td>...</td>\n",
       "      <td>smooth</td>\n",
       "      <td>orange</td>\n",
       "      <td>orange</td>\n",
       "      <td>partial</td>\n",
       "      <td>orange</td>\n",
       "      <td>one</td>\n",
       "      <td>pendant</td>\n",
       "      <td>buff</td>\n",
       "      <td>clustered</td>\n",
       "      <td>leaves</td>\n",
       "    </tr>\n",
       "    <tr>\n",
       "      <th>8120</th>\n",
       "      <td>edible</td>\n",
       "      <td>convex</td>\n",
       "      <td>smooth</td>\n",
       "      <td>brown</td>\n",
       "      <td>no</td>\n",
       "      <td>none</td>\n",
       "      <td>attached</td>\n",
       "      <td>close</td>\n",
       "      <td>broad</td>\n",
       "      <td>yellow</td>\n",
       "      <td>...</td>\n",
       "      <td>smooth</td>\n",
       "      <td>orange</td>\n",
       "      <td>orange</td>\n",
       "      <td>partial</td>\n",
       "      <td>brown</td>\n",
       "      <td>one</td>\n",
       "      <td>pendant</td>\n",
       "      <td>buff</td>\n",
       "      <td>several</td>\n",
       "      <td>leaves</td>\n",
       "    </tr>\n",
       "    <tr>\n",
       "      <th>8121</th>\n",
       "      <td>edible</td>\n",
       "      <td>flat</td>\n",
       "      <td>smooth</td>\n",
       "      <td>brown</td>\n",
       "      <td>no</td>\n",
       "      <td>none</td>\n",
       "      <td>attached</td>\n",
       "      <td>close</td>\n",
       "      <td>broad</td>\n",
       "      <td>brown</td>\n",
       "      <td>...</td>\n",
       "      <td>smooth</td>\n",
       "      <td>orange</td>\n",
       "      <td>orange</td>\n",
       "      <td>partial</td>\n",
       "      <td>orange</td>\n",
       "      <td>one</td>\n",
       "      <td>pendant</td>\n",
       "      <td>buff</td>\n",
       "      <td>clustered</td>\n",
       "      <td>leaves</td>\n",
       "    </tr>\n",
       "    <tr>\n",
       "      <th>8122</th>\n",
       "      <td>poisoned</td>\n",
       "      <td>knobbed</td>\n",
       "      <td>scaly</td>\n",
       "      <td>brown</td>\n",
       "      <td>no</td>\n",
       "      <td>fishy</td>\n",
       "      <td>free</td>\n",
       "      <td>close</td>\n",
       "      <td>narrow</td>\n",
       "      <td>buff</td>\n",
       "      <td>...</td>\n",
       "      <td>silky</td>\n",
       "      <td>white</td>\n",
       "      <td>white</td>\n",
       "      <td>partial</td>\n",
       "      <td>white</td>\n",
       "      <td>one</td>\n",
       "      <td>evanescent</td>\n",
       "      <td>white</td>\n",
       "      <td>several</td>\n",
       "      <td>leaves</td>\n",
       "    </tr>\n",
       "    <tr>\n",
       "      <th>8123</th>\n",
       "      <td>edible</td>\n",
       "      <td>convex</td>\n",
       "      <td>smooth</td>\n",
       "      <td>brown</td>\n",
       "      <td>no</td>\n",
       "      <td>none</td>\n",
       "      <td>attached</td>\n",
       "      <td>close</td>\n",
       "      <td>broad</td>\n",
       "      <td>yellow</td>\n",
       "      <td>...</td>\n",
       "      <td>smooth</td>\n",
       "      <td>orange</td>\n",
       "      <td>orange</td>\n",
       "      <td>partial</td>\n",
       "      <td>orange</td>\n",
       "      <td>one</td>\n",
       "      <td>pendant</td>\n",
       "      <td>orange</td>\n",
       "      <td>clustered</td>\n",
       "      <td>leaves</td>\n",
       "    </tr>\n",
       "  </tbody>\n",
       "</table>\n",
       "<p>8124 rows × 23 columns</p>\n",
       "</div>"
      ],
      "text/plain": [
       "         class cap-shape cap-surface cap-color  bruises     odor  \\\n",
       "0     poisoned    convex      smooth     brown  bruises  pungent   \n",
       "1       edible    convex      smooth    yellow  bruises   almond   \n",
       "2       edible      bell      smooth     white  bruises    anise   \n",
       "3     poisoned    convex       scaly     white  bruises  pungent   \n",
       "4       edible    convex      smooth      gray       no     none   \n",
       "...        ...       ...         ...       ...      ...      ...   \n",
       "8119    edible   knobbed      smooth     brown       no     none   \n",
       "8120    edible    convex      smooth     brown       no     none   \n",
       "8121    edible      flat      smooth     brown       no     none   \n",
       "8122  poisoned   knobbed       scaly     brown       no    fishy   \n",
       "8123    edible    convex      smooth     brown       no     none   \n",
       "\n",
       "     gill-attachment gill-spacing gill-size gill-color  ...  \\\n",
       "0               free        close    narrow      black  ...   \n",
       "1               free        close     broad      black  ...   \n",
       "2               free        close     broad      brown  ...   \n",
       "3               free        close    narrow      brown  ...   \n",
       "4               free      crowded     broad      black  ...   \n",
       "...              ...          ...       ...        ...  ...   \n",
       "8119        attached        close     broad     yellow  ...   \n",
       "8120        attached        close     broad     yellow  ...   \n",
       "8121        attached        close     broad      brown  ...   \n",
       "8122            free        close    narrow       buff  ...   \n",
       "8123        attached        close     broad     yellow  ...   \n",
       "\n",
       "     stalk-surface-below-ring stalk-color-above-ring stalk-color-below-ring  \\\n",
       "0                      smooth                  white                  white   \n",
       "1                      smooth                  white                  white   \n",
       "2                      smooth                  white                  white   \n",
       "3                      smooth                  white                  white   \n",
       "4                      smooth                  white                  white   \n",
       "...                       ...                    ...                    ...   \n",
       "8119                   smooth                 orange                 orange   \n",
       "8120                   smooth                 orange                 orange   \n",
       "8121                   smooth                 orange                 orange   \n",
       "8122                    silky                  white                  white   \n",
       "8123                   smooth                 orange                 orange   \n",
       "\n",
       "     veil-type veil-color ring-number   ring-type spore-print-color  \\\n",
       "0      partial      white         one     pendant             black   \n",
       "1      partial      white         one     pendant             brown   \n",
       "2      partial      white         one     pendant             brown   \n",
       "3      partial      white         one     pendant             black   \n",
       "4      partial      white         one  evanescent             brown   \n",
       "...        ...        ...         ...         ...               ...   \n",
       "8119   partial     orange         one     pendant              buff   \n",
       "8120   partial      brown         one     pendant              buff   \n",
       "8121   partial     orange         one     pendant              buff   \n",
       "8122   partial      white         one  evanescent             white   \n",
       "8123   partial     orange         one     pendant            orange   \n",
       "\n",
       "     population  habitat  \n",
       "0     scattered    urban  \n",
       "1      numerous  grasses  \n",
       "2      numerous  meadows  \n",
       "3     scattered    urban  \n",
       "4      abundant  grasses  \n",
       "...         ...      ...  \n",
       "8119  clustered   leaves  \n",
       "8120    several   leaves  \n",
       "8121  clustered   leaves  \n",
       "8122    several   leaves  \n",
       "8123  clustered   leaves  \n",
       "\n",
       "[8124 rows x 23 columns]"
      ]
     },
     "execution_count": 41,
     "metadata": {},
     "output_type": "execute_result"
    }
   ],
   "source": [
    "df"
   ]
  }
 ],
 "metadata": {
  "hide_input": false,
  "kernelspec": {
   "display_name": "project",
   "language": "python",
   "name": "project"
  },
  "language_info": {
   "codemirror_mode": {
    "name": "ipython",
    "version": 3
   },
   "file_extension": ".py",
   "mimetype": "text/x-python",
   "name": "python",
   "nbconvert_exporter": "python",
   "pygments_lexer": "ipython3",
   "version": "3.9.4"
  },
  "toc": {
   "base_numbering": 1,
   "nav_menu": {},
   "number_sections": false,
   "sideBar": true,
   "skip_h1_title": false,
   "title_cell": "Table of Contents",
   "title_sidebar": "Contents",
   "toc_cell": false,
   "toc_position": {},
   "toc_section_display": true,
   "toc_window_display": false
  },
  "varInspector": {
   "cols": {
    "lenName": 16,
    "lenType": 16,
    "lenVar": 40
   },
   "kernels_config": {
    "python": {
     "delete_cmd_postfix": "",
     "delete_cmd_prefix": "del ",
     "library": "var_list.py",
     "varRefreshCmd": "print(var_dic_list())"
    },
    "r": {
     "delete_cmd_postfix": ") ",
     "delete_cmd_prefix": "rm(",
     "library": "var_list.r",
     "varRefreshCmd": "cat(var_dic_list()) "
    }
   },
   "types_to_exclude": [
    "module",
    "function",
    "builtin_function_or_method",
    "instance",
    "_Feature"
   ],
   "window_display": false
  }
 },
 "nbformat": 4,
 "nbformat_minor": 5
}
