{
 "cells": [
  {
   "cell_type": "code",
   "execution_count": 1,
   "id": "726b0356",
   "metadata": {
    "ExecuteTime": {
     "end_time": "2022-08-28T17:58:22.263843Z",
     "start_time": "2022-08-28T17:58:14.987029Z"
    }
   },
   "outputs": [],
   "source": [
    "import pandas as pd\n",
    "import os\n",
    "import json\n",
    "import time\n",
    "from urllib.parse import urlparse\n",
    "\n",
    "import matplotlib\n",
    "#matplotlib.use('AGG')\n",
    "import matplotlib.pyplot as plt\n",
    "\n",
    "import numpy as np\n",
    "import seaborn as sns\n",
    "sns.set_theme(style=\"white\", rc={\n",
    "        \"axes.edgecolor\": \"black\",\n",
    "        \"ytick.color\":\"black\",\n",
    "        'axes.spines.left': False,      \n",
    "        'axes.spines.right': False,\n",
    "        'axes.spines.top': False})\n",
    "\n",
    "#ml process\n",
    "from sklearn.model_selection import train_test_split, GridSearchCV, cross_val_score, validation_curve, learning_curve\n",
    "from sklearn.pipeline import make_pipeline\n",
    "from sklearn.compose import make_column_transformer\n",
    "\n",
    "#preprocessing\n",
    "from sklearn.preprocessing import OrdinalEncoder, OneHotEncoder\n",
    "\n",
    "#models\n",
    "import graphviz\n",
    "from sklearn.tree import DecisionTreeClassifier, export_text, plot_tree, export_graphviz\n",
    "from sklearn.svm import LinearSVC\n",
    "from sklearn.neighbors import KNeighborsClassifier\n",
    "from sklearn.linear_model import SGDClassifier, LogisticRegression, RidgeClassifierCV\n",
    "from sklearn.ensemble import StackingClassifier, RandomForestClassifier, GradientBoostingClassifier, AdaBoostClassifier\n",
    "\n",
    "#metrics\n",
    "from sklearn.metrics import confusion_matrix, accuracy_score, precision_score, recall_score, make_scorer, confusion_matrix, ConfusionMatrixDisplay\n",
    "\n",
    "#save\n",
    "from joblib import dump, load\n",
    "\n",
    "import mlflow\n",
    "import mlflow.sklearn"
   ]
  },
  {
   "cell_type": "code",
   "execution_count": 2,
   "id": "6539e6f8",
   "metadata": {
    "ExecuteTime": {
     "end_time": "2022-08-28T17:58:22.494061Z",
     "start_time": "2022-08-28T17:58:22.272704Z"
    }
   },
   "outputs": [],
   "source": [
    "import sqlite3\n",
    "# Read sqlite query results into a pandas DataFrame\n",
    "conn = sqlite3.connect(\"mushrooms.sqlite\")\n",
    "df = pd.read_sql_query(\"SELECT * from data\", conn)"
   ]
  },
  {
   "cell_type": "code",
   "execution_count": 3,
   "id": "d2e0080b",
   "metadata": {
    "ExecuteTime": {
     "end_time": "2022-08-28T17:58:22.600729Z",
     "start_time": "2022-08-28T17:58:22.501064Z"
    }
   },
   "outputs": [],
   "source": [
    "class Mushroom_ml():\n",
    "    \n",
    "    \n",
    "    def __init__(self,df, target):\n",
    "        \"\"\"--------------------------------------------------------\n",
    "        Initialize Object with Data\n",
    "\n",
    "            Parameters\n",
    "            df, target\n",
    "\n",
    "            Returns\n",
    "            None \n",
    "        ---------------------------------------------------------\"\"\"\n",
    "        self.df = df\n",
    "        self.X = df.drop(target, axis = 1)\n",
    "        self.y = df[target]\n",
    "        self.target = target\n",
    "        self.list_models = [\n",
    "            LogisticRegression(),\n",
    "            SGDClassifier(),\n",
    "            RidgeClassifierCV(),\n",
    "            LinearSVC(),\n",
    "            KNeighborsClassifier(),\n",
    "            DecisionTreeClassifier(),\n",
    "            StackingClassifier([\n",
    "                    ('model_1', KNeighborsClassifier(n_neighbors=10)),('model_2', RandomForestClassifier())\n",
    "                ], final_estimator=DecisionTreeClassifier()),\n",
    "            AdaBoostClassifier(),\n",
    "            GradientBoostingClassifier(),\n",
    "            RandomForestClassifier(n_estimators=10)\n",
    "        ]\n",
    "        self.precision_scorer = make_scorer(self.score_precision, greater_is_better = True) \n",
    "#--------------------------------------------------------------------\n",
    "#--------------------------------------------------------------------\n",
    "\n",
    "    def df_to_html(self, df, df_name:str, lines:int = 5, columns:int = 5):\n",
    "        \"\"\"--------------------------------------------------------\n",
    "        Transform df to HTML string\n",
    "            Parameters\n",
    "            dataframe, sample, nb_lines displayed, nb_column displayed\n",
    "\n",
    "            Returns\n",
    "            dict with target name and string of buffer img source\n",
    "        ---------------------------------------------------------\"\"\"\n",
    "\n",
    "        return df.to_html(max_rows=lines, max_cols=columns) \n",
    "    \n",
    "#--------------------------------------------------------------------\n",
    "#--------------------------------------------------------------------\n",
    "\n",
    "    def score_precision(self, y, y_pred):\n",
    "        \"\"\"--------------------------------------------------------\n",
    "        Define function precision in order to be used with a make_scorer function\n",
    "        included precision label target(\"enible\")\n",
    "\n",
    "        Parameters\n",
    "        y and y_pred\n",
    "\n",
    "        Returns\n",
    "        precision score\n",
    "        ---------------------------------------------------------\"\"\"\n",
    "        return precision_score(y, y_pred, average = \"binary\", pos_label=\"edible\")\n",
    "    \n",
    "    #--------------------------------------------------------------------\n",
    "    #--------------------------------------------------------------------\n",
    "\n",
    "    def train_test_split(self, X, y):\n",
    "        \"\"\"--------------------------------------------------------\n",
    "        separate dataset in training and testing sets\n",
    "\n",
    "            Parameters\n",
    "            X(features), y(target)\n",
    "\n",
    "            Returns\n",
    "            datasets: X_train, X_test, y_train, y_test\n",
    "        ---------------------------------------------------------\"\"\"\n",
    "        X_train, X_test, y_train, y_test = train_test_split(X, y, test_size=0.33, random_state=42)\n",
    "\n",
    "        return X_train, X_test, y_train, y_test\n",
    "#--------------------------------------------------------------------\n",
    "#--------------------------------------------------------------------\n",
    "\n",
    "    def test_models(self, list_models='default', encoder=OneHotEncoder(handle_unknown='ignore'), scoring='default', show=False):\n",
    "        \"\"\"--------------------------------------------------------\n",
    "        Test list of models and give mean accuracy after a cross validation\n",
    "            \n",
    "            Parameters\n",
    "            list of models, Encoder, scoring\n",
    "\n",
    "            Returns\n",
    "            String of\n",
    "        ---------------------------------------------------------\"\"\"\n",
    "        if list_models == 'default':\n",
    "            list_models=self.list_models\n",
    "            \n",
    "        if scoring == 'default':\n",
    "            scoring = self.precision_scorer\n",
    "            \n",
    "        X_train, X_test, y_train, y_test = self.train_test_split(self.X, self.y)\n",
    "        \n",
    "        cat = X_train.select_dtypes(exclude = [np.number]).columns\n",
    "        transformer = make_column_transformer((encoder, cat))\n",
    "            \n",
    "        final_string=\"\"\n",
    "        for model in list_models:\n",
    "            \n",
    "            final_model = make_pipeline(transformer, model)\n",
    "            string=f\"model : {model} => {cross_val_score(final_model, X_train, y_train, cv=4, scoring=scoring).mean()}\"\n",
    "            \n",
    "            if show:\n",
    "                print(string)\n",
    "                \n",
    "            final_string+= (\"\\n\" + string)\n",
    "            \n",
    "\n",
    "        return final_string\n",
    "    \n",
    "#--------------------------------------------------------------------\n",
    "#--------------------------------------------------------------------\n",
    "\n",
    "    def score_model(self, sendmodel=DecisionTreeClassifier(), encoder=OneHotEncoder(handle_unknown='ignore'), display=True):\n",
    "        \"\"\"--------------------------------------------------------\n",
    "        Train a Model and Score Metrics. Add Monitoring parameters and launch save models\n",
    "\n",
    "            Parameters\n",
    "            Model, Encoder, Display\n",
    "\n",
    "            Returns\n",
    "            String of\n",
    "        ---------------------------------------------------------\"\"\"\n",
    "\n",
    "        X_train, X_test, y_train, y_test = self.train_test_split(self.X, self.y)\n",
    "        \n",
    "        cat = X_train.select_dtypes(exclude = [np.number]).columns\n",
    "        transformer = make_column_transformer((encoder, cat))\n",
    "        \n",
    "        with mlflow.start_run():\n",
    "            model = make_pipeline(transformer, sendmodel)\n",
    "            self.fit_model = model.fit(X_train, y_train)\n",
    "            y_pred = model.predict(X_test)\n",
    "\n",
    "            precision=precision_score(y_test, y_pred, average = \"binary\", pos_label=\"edible\")\n",
    "            accuracy=accuracy_score(y_test, y_pred)\n",
    "            \n",
    "            mlflow.log_param(\"cols\", ('||').join(self.X.columns))\n",
    "            mlflow.log_param(\"parameters\", json.dumps(self.fit_model.steps[1][1].get_params()))\n",
    "            mlflow.log_metric(\"accuracy\", accuracy)\n",
    "            mlflow.log_metric(\"precision\", precision)\n",
    "            \n",
    " \n",
    "                            \n",
    "        results = [f'accuracy : {accuracy}',\n",
    "        f'precision : {precision}',\n",
    "        ]\n",
    "        for result in results:\n",
    "            print(result)\n",
    "\n",
    "        listing = list(y_test.unique())\n",
    "        listing.sort()\n",
    "        cm = confusion_matrix(y_test, y_pred, labels=listing)\n",
    "        fig, ax = plt.subplots(figsize=(8,6))\n",
    "        disp = ConfusionMatrixDisplay(confusion_matrix=cm, display_labels=listing, )\n",
    "        disp.plot(cmap=plt.cm.Blues, ax=ax)\n",
    "        fig.suptitle(f'{sendmodel} Confusion matrix', fontweight='bold', fontsize=20);\n",
    "        plt.show()\n",
    "             \n",
    "        #create in db\n",
    "        name_model=f'{str(sendmodel)}_{int(time.time())}'\n",
    "        ml_path=f'/models/load_models/{name_model}'\n",
    "        cursor = conn.cursor()\n",
    "        cursor.execute(\"\"\"\n",
    "        INSERT INTO ml(\n",
    "        name,\n",
    "        cols,\n",
    "        model,\n",
    "        parameters,\n",
    "        accuracy,\n",
    "        precision,\n",
    "        path,\n",
    "        display) \n",
    "        VALUES (?,?,?,?,?,?,?,?)\n",
    "        \"\"\",(\n",
    "            f'{str(sendmodel)}_{int(time.time())}',\n",
    "            ('||').join(self.X.columns),\n",
    "            str(sendmodel),\n",
    "            json.dumps(self.fit_model.steps[1][1].get_params()),\n",
    "            float(precision),\n",
    "            float(accuracy),\n",
    "            ml_path,\n",
    "            display         \n",
    "        ))\n",
    "\n",
    "        conn.commit()\n",
    "        self.save_model(sendmodel, encoder, ml_path)\n",
    "        \n",
    "\n",
    "    #--------------------------------------------------------------------\n",
    "    #--------------------------------------------------------------------\n",
    "    \n",
    "    \n",
    "    \n",
    "    def save_model(self, sendmodel, encoder, ml_path):\n",
    "        \"\"\"--------------------------------------------------------\n",
    "        Create fit_model with full X and y parameters and dump model \n",
    "\n",
    "            Parameters\n",
    "            Model\n",
    "            Encoder\n",
    "            ml_path\n",
    "\n",
    "            Returns\n",
    "            String\n",
    "        ---------------------------------------------------------\"\"\"\n",
    "                \n",
    "        model = make_pipeline(encoder, sendmodel)\n",
    "        full_model = model.fit(self.X, self.y)\n",
    "        \n",
    "        dump(full_model, f'app/{ml_path}')       \n",
    "        \n",
    "        return 'Save Model Successfully'\n",
    "        \n",
    "    \n",
    "    def features_importances(self, encoder=OneHotEncoder()):\n",
    "        \"\"\"--------------------------------------------------------\n",
    "        Train a Model of RandomForestClassificator and catch predict important_features\n",
    "\n",
    "            Parameters\n",
    "            Encoder\n",
    "\n",
    "            Returns\n",
    "            Dataframe\n",
    "        ---------------------------------------------------------\"\"\"\n",
    "        \n",
    "        #split\n",
    "        X_train, X_test, y_train, y_test = self.train_test_split(self.X, self.y)\n",
    "\n",
    "        #define model and encode\n",
    "        sendmodel=DecisionTreeClassifier()\n",
    "        \n",
    "        cat = X_train.select_dtypes(exclude = [np.number]).columns\n",
    "        transformer = make_column_transformer((encoder, cat))\n",
    "        \n",
    "        model = make_pipeline(transformer, sendmodel)\n",
    "                \n",
    "        #fit\n",
    "        fit_model = model.fit(X_train, y_train)\n",
    "        \n",
    "\n",
    "        #create fi(dataframe) with features importances of encoding\n",
    "        fi = pd.DataFrame(list(zip(fit_model.steps[0][1].get_feature_names_out(),\n",
    "                               fit_model.steps[1][1].feature_importances_)))\n",
    "\n",
    "        sumdf=pd.DataFrame([[]])\n",
    "        for col in list(fit_model.steps[0][1].feature_names_in_):\n",
    "            somme=[]\n",
    "            resultat=0\n",
    "\n",
    "            for i in range(len(fi)):\n",
    "\n",
    "                if col in fi.iloc[i][0]:\n",
    "                    somme.append(pow((fi.iloc[i][1]), 2))\n",
    "                    resultat=sum(somme)\n",
    "\n",
    "                sumdf[col]=np.sqrt(resultat)\n",
    "\n",
    "        sumdf = sumdf.T\n",
    "        sumdf.columns = ['feature_importance']\n",
    "        sumdf['name']=sumdf.index\n",
    "        sumdf.sort_values(by = 'feature_importance', ascending = False, inplace=True)\n",
    "        \n",
    "        fig, ax = plt.subplots(figsize=(7, 7))\n",
    "        \n",
    "        plot = sns.barplot(x='feature_importance', y='name', data=sumdf, color=\"r\", ax=ax, orient='h')\n",
    "        plt.show()\n",
    "        \n",
    "        return sumdf\n",
    "    \n",
    "    #--------------------------------------------------------------------\n",
    "    #-------------------------------------------------------------------- \n",
    "    \n",
    "    \n",
    "    def feature_selection(self, list_val_features=[], sendmodel=DecisionTreeClassifier(), plot_df=False):\n",
    "        \"\"\"--------------------------------------------------------\n",
    "        Evaluate witch feature have the better score and plot results\n",
    "\n",
    "            Parameters\n",
    "            sendmodel, list of validate other features\n",
    "\n",
    "            Returns\n",
    "            dataset\n",
    "        ---------------------------------------------------------\"\"\"\n",
    "    \n",
    "        liste = self.df.drop(['_class'] + list_val_features, axis=1).columns\n",
    "\n",
    "        results_test_models = []\n",
    "        for col in liste:\n",
    "            df_test = Mushroom_ml(df[['_class', col] + list_val_features], '_class')\n",
    "            results_test_models.append(float((df_test.test_models([DecisionTreeClassifier()])).split(' => ')[1]))\n",
    "\n",
    "        df_results = pd.DataFrame({'feature':liste, 'results':results_test_models}).sort_values(by = 'results', ascending = False)\n",
    "        if plot_df:\n",
    "            fig, ax = plt.subplots(figsize=(7, 7))\n",
    "\n",
    "            plot = sns.barplot(x='results', y='feature', data=df_results, color=\"r\", ax=ax, orient='h')\n",
    "            plt.show()\n",
    "            \n",
    "        return df_results\n",
    "    \n",
    "    #--------------------------------------------------------------------\n",
    "    #--------------------------------------------------------------------\n",
    "    \n",
    "    def tree_vis(self, sendmodel=DecisionTreeClassifier(), encoder=OneHotEncoder()):\n",
    "        \"\"\"--------------------------------------------------------\n",
    "        Train a Model of DecisionTreeClassifier and viz decision tree of features\n",
    "\n",
    "            Parameters\n",
    "            Encoder\n",
    "\n",
    "            Returns\n",
    "            graphique in .dot format\n",
    "        ---------------------------------------------------------\"\"\"\n",
    "        \n",
    "        #split\n",
    "        X_train, X_test, y_train, y_test = self.train_test_split(self.X, self.y)\n",
    "              \n",
    "        #model = make_pipeline(transformer, sendmodel)\n",
    "        preprocessing=encoder.fit_transform(X_train)\n",
    "\n",
    "        #fit\n",
    "        tree_ml = sendmodel.fit(preprocessing, y_train)\n",
    "\n",
    "        features = encoder.get_feature_names_out()\n",
    "        \n",
    "        dot_data = export_graphviz(tree_ml, out_file=None, \n",
    "                                        feature_names=features,  \n",
    "                                        class_names=tree_ml.classes_,  \n",
    "                                        filled=True, rounded=True,  \n",
    "                                        special_characters=True)\n",
    "        graph = graphviz.Source(dot_data)\n",
    "        self.text_tree = export_text(tree_ml, feature_names=list(features))\n",
    "\n",
    "        return graph\n",
    "    \n",
    "    #--------------------------------------------------------------------\n",
    "    #--------------------------------------------------------------------\n",
    "    \n",
    "       \n",
    "    def grid_model(self, model, params, scoring='default'):\n",
    "        \"\"\"--------------------------------------------------------\n",
    "        Evaluate better params for a model scoring send it\n",
    "\n",
    "            Parameters\n",
    "            model\n",
    "            params\n",
    "            scoring\n",
    "\n",
    "            Returns\n",
    "            String with best params\n",
    "        ---------------------------------------------------------\"\"\"\n",
    "        \n",
    "        if scoring == 'default':\n",
    "            scoring = {\n",
    "                \"precision_score\": self.precision_scorer,\n",
    "                \"accuracy\": \"accuracy\"\n",
    "            }\n",
    "        \n",
    "        X_train, X_test, y_train, y_test = self.train_test_split(self.X, self.y)\n",
    "\n",
    "        #define model and encode\n",
    "        encoder=OneHotEncoder()\n",
    "\n",
    "        #encode\n",
    "        preprocessing = encoder.fit_transform(X_train)\n",
    "\n",
    "        # Instantiate the RandomizedSearchCV object: tree_cv\n",
    "        model_cv = GridSearchCV(model, params, cv=5, scoring = scoring, refit=\"precision_score\")\n",
    "\n",
    "        # Fit it to the data\n",
    "        model_cv.fit(preprocessing,y_train)\n",
    "\n",
    "        # Print the tuned parameters and score\n",
    "        print(\"Tuned Decision Tree Parameters: {}\".format(model_cv.best_params_))\n",
    "        print(\"Best score is {}\".format(model_cv.best_score_))\n",
    "        \n",
    "        return model_cv.best_params_\n",
    "    \n",
    "    #--------------------------------------------------------------------\n",
    "    #-------------------------------------------------------------------- \n",
    "    \n",
    "    def learning_graph(self, sendmodel=DecisionTreeClassifier(), encoder=OneHotEncoder()):\n",
    "\n",
    "        \"\"\"--------------------------------------------------------\n",
    "        Graph learning curve for better sample of records\n",
    "\n",
    "        Parameters\n",
    "        model\n",
    "        encoder\n",
    "\n",
    "        Returns\n",
    "        None\n",
    "        ---------------------------------------------------------\"\"\"\n",
    "\n",
    "        #split\n",
    "        X_train, X_test, y_train, y_test = self.train_test_split(self.X, self.y)\n",
    "\n",
    "        #encode\n",
    "        preprocessing = encoder.fit_transform(X_train)          \n",
    "\n",
    "        N, train_score, val_score = learning_curve(sendmodel,\n",
    "                                                   preprocessing,\n",
    "                                                   y_train,\n",
    "                                                   train_sizes = np.linspace(0.2, 1.0, 10),\n",
    "                                                   cv = 5)\n",
    "\n",
    "        plt.plot(N, train_score.mean(axis = 1), label = 'train')\n",
    "        plt.plot(N, val_score.mean(axis = 1), label = 'validation')\n",
    "        plt.xlabel('train_sizes')\n",
    "        plt.legend()\n",
    "\n",
    "        return None\n",
    "            \n",
    "    #--------------------------------------------------------------------\n",
    "    #-------------------------------------------------------------------- "
   ]
  },
  {
   "cell_type": "markdown",
   "id": "d07264f1",
   "metadata": {},
   "source": [
    "# Analyse de la précision des models selon une CROSS VALIDATION (encoder=OneHotEncoder())"
   ]
  },
  {
   "cell_type": "code",
   "execution_count": 4,
   "id": "d2041892",
   "metadata": {
    "ExecuteTime": {
     "end_time": "2022-08-28T17:58:22.670091Z",
     "start_time": "2022-08-28T17:58:22.626017Z"
    }
   },
   "outputs": [],
   "source": [
    "mushroom = Mushroom_ml(df.drop(['_id'], axis=1), '_class')"
   ]
  },
  {
   "cell_type": "code",
   "execution_count": 5,
   "id": "48088e23",
   "metadata": {
    "ExecuteTime": {
     "end_time": "2022-08-28T17:58:53.063035Z",
     "start_time": "2022-08-28T17:58:22.676055Z"
    }
   },
   "outputs": [
    {
     "name": "stdout",
     "output_type": "stream",
     "text": [
      "model : LogisticRegression() => 0.9992947813822285\n",
      "model : SGDClassifier() => 1.0\n",
      "model : RidgeClassifierCV() => 0.9992947813822285\n",
      "model : LinearSVC() => 1.0\n",
      "model : KNeighborsClassifier() => 0.9992947813822285\n",
      "model : DecisionTreeClassifier() => 0.9992947813822285\n",
      "model : StackingClassifier(estimators=[('model_1',\n",
      "                                KNeighborsClassifier(n_neighbors=10)),\n",
      "                               ('model_2', RandomForestClassifier())],\n",
      "                   final_estimator=DecisionTreeClassifier()) => 1.0\n",
      "model : AdaBoostClassifier() => 1.0\n",
      "model : GradientBoostingClassifier() => 0.9992947813822285\n",
      "model : RandomForestClassifier(n_estimators=10) => 1.0\n"
     ]
    }
   ],
   "source": [
    "a = mushroom.test_models(show=True)"
   ]
  },
  {
   "cell_type": "markdown",
   "id": "5b31c297",
   "metadata": {},
   "source": [
    "# FEATURE SELECTION (MODEL:DECISIONTREE, ENCODER:ONEHOTENCODER)"
   ]
  },
  {
   "cell_type": "markdown",
   "id": "a6113582",
   "metadata": {},
   "source": [
    "## Features_importances (distance euclidienne) des coefficients"
   ]
  },
  {
   "cell_type": "code",
   "execution_count": 6,
   "id": "b60ddd9a",
   "metadata": {
    "ExecuteTime": {
     "end_time": "2022-08-28T17:58:54.553331Z",
     "start_time": "2022-08-28T17:58:53.071132Z"
    }
   },
   "outputs": [
    {
     "data": {
      "image/png": "[encoded data removed]",
      "text/plain": [
       "<Figure size 504x504 with 1 Axes>"
      ]
     },
     "metadata": {
      "needs_background": "light"
     },
     "output_type": "display_data"
    }
   ],
   "source": [
    "a = mushroom.features_importances()"
   ]
  },
  {
   "cell_type": "markdown",
   "id": "dd960b88",
   "metadata": {},
   "source": [
    "## Evaluations des features offrants les meilleurs résultats en matière de Précision"
   ]
  },
  {
   "cell_type": "code",
   "execution_count": 7,
   "id": "e059b0e7",
   "metadata": {
    "ExecuteTime": {
     "end_time": "2022-08-28T17:58:58.665439Z",
     "start_time": "2022-08-28T17:58:54.558831Z"
    }
   },
   "outputs": [
    {
     "data": {
      "text/html": [
       "<div>\n",
       "<style scoped>\n",
       "    .dataframe tbody tr th:only-of-type {\n",
       "        vertical-align: middle;\n",
       "    }\n",
       "\n",
       "    .dataframe tbody tr th {\n",
       "        vertical-align: top;\n",
       "    }\n",
       "\n",
       "    .dataframe thead th {\n",
       "        text-align: right;\n",
       "    }\n",
       "</style>\n",
       "<table border=\"1\" class=\"dataframe\">\n",
       "  <thead>\n",
       "    <tr style=\"text-align: right;\">\n",
       "      <th></th>\n",
       "      <th>feature</th>\n",
       "      <th>results</th>\n",
       "    </tr>\n",
       "  </thead>\n",
       "  <tbody>\n",
       "    <tr>\n",
       "      <th>4</th>\n",
       "      <td>_odor</td>\n",
       "      <td>0.973518</td>\n",
       "    </tr>\n",
       "    <tr>\n",
       "      <th>6</th>\n",
       "      <td>_gill_spacing</td>\n",
       "      <td>0.913931</td>\n",
       "    </tr>\n",
       "    <tr>\n",
       "      <th>19</th>\n",
       "      <td>_spore_print_color</td>\n",
       "      <td>0.892613</td>\n",
       "    </tr>\n",
       "    <tr>\n",
       "      <th>17</th>\n",
       "      <td>_ring_number</td>\n",
       "      <td>0.883749</td>\n",
       "    </tr>\n",
       "    <tr>\n",
       "      <th>3</th>\n",
       "      <td>_bruises</td>\n",
       "      <td>0.821513</td>\n",
       "    </tr>\n",
       "  </tbody>\n",
       "</table>\n",
       "</div>"
      ],
      "text/plain": [
       "               feature   results\n",
       "4                _odor  0.973518\n",
       "6        _gill_spacing  0.913931\n",
       "19  _spore_print_color  0.892613\n",
       "17        _ring_number  0.883749\n",
       "3             _bruises  0.821513"
      ]
     },
     "execution_count": 7,
     "metadata": {},
     "output_type": "execute_result"
    }
   ],
   "source": [
    "mushroom.feature_selection(sendmodel=DecisionTreeClassifier()).head()"
   ]
  },
  {
   "cell_type": "code",
   "execution_count": 8,
   "id": "189caa44",
   "metadata": {
    "ExecuteTime": {
     "end_time": "2022-08-28T17:59:02.955366Z",
     "start_time": "2022-08-28T17:58:58.671768Z"
    }
   },
   "outputs": [
    {
     "data": {
      "text/html": [
       "<div>\n",
       "<style scoped>\n",
       "    .dataframe tbody tr th:only-of-type {\n",
       "        vertical-align: middle;\n",
       "    }\n",
       "\n",
       "    .dataframe tbody tr th {\n",
       "        vertical-align: top;\n",
       "    }\n",
       "\n",
       "    .dataframe thead th {\n",
       "        text-align: right;\n",
       "    }\n",
       "</style>\n",
       "<table border=\"1\" class=\"dataframe\">\n",
       "  <thead>\n",
       "    <tr style=\"text-align: right;\">\n",
       "      <th></th>\n",
       "      <th>feature</th>\n",
       "      <th>results</th>\n",
       "    </tr>\n",
       "  </thead>\n",
       "  <tbody>\n",
       "    <tr>\n",
       "      <th>18</th>\n",
       "      <td>_spore_print_color</td>\n",
       "      <td>0.989512</td>\n",
       "    </tr>\n",
       "    <tr>\n",
       "      <th>11</th>\n",
       "      <td>_stalk_surface_below_ring</td>\n",
       "      <td>0.981894</td>\n",
       "    </tr>\n",
       "    <tr>\n",
       "      <th>20</th>\n",
       "      <td>_habitat</td>\n",
       "      <td>0.981617</td>\n",
       "    </tr>\n",
       "    <tr>\n",
       "      <th>2</th>\n",
       "      <td>_cap_color</td>\n",
       "      <td>0.979252</td>\n",
       "    </tr>\n",
       "    <tr>\n",
       "      <th>13</th>\n",
       "      <td>_stalk_color_below_ring</td>\n",
       "      <td>0.978906</td>\n",
       "    </tr>\n",
       "  </tbody>\n",
       "</table>\n",
       "</div>"
      ],
      "text/plain": [
       "                      feature   results\n",
       "18         _spore_print_color  0.989512\n",
       "11  _stalk_surface_below_ring  0.981894\n",
       "20                   _habitat  0.981617\n",
       "2                  _cap_color  0.979252\n",
       "13    _stalk_color_below_ring  0.978906"
      ]
     },
     "execution_count": 8,
     "metadata": {},
     "output_type": "execute_result"
    }
   ],
   "source": [
    "mushroom.feature_selection(['_odor'],sendmodel=DecisionTreeClassifier()).head()"
   ]
  },
  {
   "cell_type": "code",
   "execution_count": 9,
   "id": "80c25500",
   "metadata": {
    "ExecuteTime": {
     "end_time": "2022-08-28T17:59:07.539226Z",
     "start_time": "2022-08-28T17:59:02.961628Z"
    }
   },
   "outputs": [
    {
     "data": {
      "text/html": [
       "<div>\n",
       "<style scoped>\n",
       "    .dataframe tbody tr th:only-of-type {\n",
       "        vertical-align: middle;\n",
       "    }\n",
       "\n",
       "    .dataframe tbody tr th {\n",
       "        vertical-align: top;\n",
       "    }\n",
       "\n",
       "    .dataframe thead th {\n",
       "        text-align: right;\n",
       "    }\n",
       "</style>\n",
       "<table border=\"1\" class=\"dataframe\">\n",
       "  <thead>\n",
       "    <tr style=\"text-align: right;\">\n",
       "      <th></th>\n",
       "      <th>feature</th>\n",
       "      <th>results</th>\n",
       "    </tr>\n",
       "  </thead>\n",
       "  <tbody>\n",
       "    <tr>\n",
       "      <th>18</th>\n",
       "      <td>_spore_print_color</td>\n",
       "      <td>0.995769</td>\n",
       "    </tr>\n",
       "    <tr>\n",
       "      <th>2</th>\n",
       "      <td>_cap_color</td>\n",
       "      <td>0.993682</td>\n",
       "    </tr>\n",
       "    <tr>\n",
       "      <th>9</th>\n",
       "      <td>_stalk_root</td>\n",
       "      <td>0.991946</td>\n",
       "    </tr>\n",
       "    <tr>\n",
       "      <th>3</th>\n",
       "      <td>_bruises</td>\n",
       "      <td>0.991247</td>\n",
       "    </tr>\n",
       "    <tr>\n",
       "      <th>10</th>\n",
       "      <td>_stalk_surface_above_ring</td>\n",
       "      <td>0.990205</td>\n",
       "    </tr>\n",
       "  </tbody>\n",
       "</table>\n",
       "</div>"
      ],
      "text/plain": [
       "                      feature   results\n",
       "18         _spore_print_color  0.995769\n",
       "2                  _cap_color  0.993682\n",
       "9                 _stalk_root  0.991946\n",
       "3                    _bruises  0.991247\n",
       "10  _stalk_surface_above_ring  0.990205"
      ]
     },
     "execution_count": 9,
     "metadata": {},
     "output_type": "execute_result"
    }
   ],
   "source": [
    "mushroom.feature_selection(['_odor', '_habitat'],sendmodel=DecisionTreeClassifier()).head()"
   ]
  },
  {
   "cell_type": "code",
   "execution_count": 10,
   "id": "18a3bbfe",
   "metadata": {
    "ExecuteTime": {
     "end_time": "2022-08-28T17:59:12.179571Z",
     "start_time": "2022-08-28T17:59:07.551351Z"
    }
   },
   "outputs": [
    {
     "data": {
      "text/html": [
       "<div>\n",
       "<style scoped>\n",
       "    .dataframe tbody tr th:only-of-type {\n",
       "        vertical-align: middle;\n",
       "    }\n",
       "\n",
       "    .dataframe tbody tr th {\n",
       "        vertical-align: top;\n",
       "    }\n",
       "\n",
       "    .dataframe thead th {\n",
       "        text-align: right;\n",
       "    }\n",
       "</style>\n",
       "<table border=\"1\" class=\"dataframe\">\n",
       "  <thead>\n",
       "    <tr style=\"text-align: right;\">\n",
       "      <th></th>\n",
       "      <th>feature</th>\n",
       "      <th>results</th>\n",
       "    </tr>\n",
       "  </thead>\n",
       "  <tbody>\n",
       "    <tr>\n",
       "      <th>8</th>\n",
       "      <td>_stalk_root</td>\n",
       "      <td>1.000000</td>\n",
       "    </tr>\n",
       "    <tr>\n",
       "      <th>2</th>\n",
       "      <td>_bruises</td>\n",
       "      <td>0.998239</td>\n",
       "    </tr>\n",
       "    <tr>\n",
       "      <th>17</th>\n",
       "      <td>_spore_print_color</td>\n",
       "      <td>0.998239</td>\n",
       "    </tr>\n",
       "    <tr>\n",
       "      <th>18</th>\n",
       "      <td>_population</td>\n",
       "      <td>0.997182</td>\n",
       "    </tr>\n",
       "    <tr>\n",
       "      <th>4</th>\n",
       "      <td>_gill_spacing</td>\n",
       "      <td>0.997182</td>\n",
       "    </tr>\n",
       "  </tbody>\n",
       "</table>\n",
       "</div>"
      ],
      "text/plain": [
       "               feature   results\n",
       "8          _stalk_root  1.000000\n",
       "2             _bruises  0.998239\n",
       "17  _spore_print_color  0.998239\n",
       "18         _population  0.997182\n",
       "4        _gill_spacing  0.997182"
      ]
     },
     "execution_count": 10,
     "metadata": {},
     "output_type": "execute_result"
    }
   ],
   "source": [
    "mushroom.feature_selection(['_odor', '_habitat', '_cap_color'],sendmodel=DecisionTreeClassifier()).head()"
   ]
  },
  {
   "cell_type": "markdown",
   "id": "d692a809",
   "metadata": {},
   "source": [
    "# CONSTRUCTIONS DE MODELS"
   ]
  },
  {
   "cell_type": "markdown",
   "id": "5ec696e2",
   "metadata": {},
   "source": [
    "## Evaluation de la sélection avec les modèles"
   ]
  },
  {
   "cell_type": "code",
   "execution_count": 11,
   "id": "d5a7e456",
   "metadata": {
    "ExecuteTime": {
     "end_time": "2022-08-28T17:59:12.207834Z",
     "start_time": "2022-08-28T17:59:12.185753Z"
    }
   },
   "outputs": [],
   "source": [
    "mushroom=Mushroom_ml(df[['_class','_odor', '_habitat', '_cap_color', '_bruises']],'_class')"
   ]
  },
  {
   "cell_type": "code",
   "execution_count": 12,
   "id": "bdceab13",
   "metadata": {
    "ExecuteTime": {
     "end_time": "2022-08-28T17:59:31.212562Z",
     "start_time": "2022-08-28T17:59:12.213307Z"
    }
   },
   "outputs": [
    {
     "name": "stdout",
     "output_type": "stream",
     "text": [
      "model : LogisticRegression() => 0.9785492964791251\n",
      "model : SGDClassifier() => 0.9943740931575085\n",
      "model : RidgeClassifierCV() => 0.973517888699717\n",
      "model : LinearSVC() => 0.9926361461089682\n",
      "model : KNeighborsClassifier() => 1.0\n",
      "model : DecisionTreeClassifier() => 0.9982394366197183\n",
      "model : StackingClassifier(estimators=[('model_1',\n",
      "                                KNeighborsClassifier(n_neighbors=10)),\n",
      "                               ('model_2', RandomForestClassifier())],\n",
      "                   final_estimator=DecisionTreeClassifier()) => 0.9978863292750855\n",
      "model : AdaBoostClassifier() => 0.9919472078549135\n",
      "model : GradientBoostingClassifier() => 0.9936822250933147\n",
      "model : RandomForestClassifier(n_estimators=10) => 0.9992957746478873\n"
     ]
    }
   ],
   "source": [
    "a = mushroom.test_models(show=True)"
   ]
  },
  {
   "cell_type": "markdown",
   "id": "7e79bcb7",
   "metadata": {},
   "source": [
    "## KNeighborsClassifier"
   ]
  },
  {
   "cell_type": "code",
   "execution_count": 13,
   "id": "3dab689a",
   "metadata": {
    "ExecuteTime": {
     "end_time": "2022-08-28T17:59:32.726576Z",
     "start_time": "2022-08-28T17:59:31.217434Z"
    }
   },
   "outputs": [
    {
     "name": "stdout",
     "output_type": "stream",
     "text": [
      "model : KNeighborsClassifier() => 1.0\n"
     ]
    }
   ],
   "source": [
    "a = mushroom.test_models([KNeighborsClassifier()], show=True)"
   ]
  },
  {
   "cell_type": "markdown",
   "id": "b58be72a",
   "metadata": {
    "ExecuteTime": {
     "end_time": "2022-07-29T11:58:32.871346Z",
     "start_time": "2022-07-29T11:58:32.864095Z"
    }
   },
   "source": [
    "### SCORE Model avec KNeighborsClassifier"
   ]
  },
  {
   "cell_type": "code",
   "execution_count": 14,
   "id": "ca2cf183",
   "metadata": {
    "ExecuteTime": {
     "end_time": "2022-08-28T17:59:35.562004Z",
     "start_time": "2022-08-28T17:59:32.731831Z"
    }
   },
   "outputs": [
    {
     "name": "stdout",
     "output_type": "stream",
     "text": [
      "accuracy : 0.999627004848937\n",
      "precision : 1.0\n"
     ]
    },
    {
     "data": {
      "image/png": "[encoded data removed]",
      "text/plain": [
       "<Figure size 576x432 with 2 Axes>"
      ]
     },
     "metadata": {
      "needs_background": "light"
     },
     "output_type": "display_data"
    }
   ],
   "source": [
    "mushroom.score_model(KNeighborsClassifier())"
   ]
  },
  {
   "cell_type": "markdown",
   "id": "22719f10",
   "metadata": {},
   "source": [
    "### GRIDSEARCH pour saisir les meilleurs hyper parametres (métrique précision)"
   ]
  },
  {
   "cell_type": "code",
   "execution_count": 15,
   "id": "31b5dff6",
   "metadata": {
    "ExecuteTime": {
     "end_time": "2022-08-28T18:00:08.781483Z",
     "start_time": "2022-08-28T17:59:35.567783Z"
    }
   },
   "outputs": [
    {
     "name": "stdout",
     "output_type": "stream",
     "text": [
      "Tuned Decision Tree Parameters: {'metric': 'euclidean', 'n_neighbors': 1}\n",
      "Best score is 1.0\n"
     ]
    },
    {
     "data": {
      "text/plain": [
       "{'metric': 'euclidean', 'n_neighbors': 1}"
      ]
     },
     "execution_count": 15,
     "metadata": {},
     "output_type": "execute_result"
    }
   ],
   "source": [
    "mushroom.grid_model(KNeighborsClassifier(), {\n",
    "    \"n_neighbors\" : range(1,10),\n",
    "    \"metric\": [\"euclidean\", \"manhattan\", \"minkowski\"]\n",
    "})"
   ]
  },
  {
   "cell_type": "markdown",
   "id": "bf235c3f",
   "metadata": {
    "ExecuteTime": {
     "end_time": "2022-07-29T11:58:32.871346Z",
     "start_time": "2022-07-29T11:58:32.864095Z"
    }
   },
   "source": [
    "### SCORE Model avec KNeighborsClassifier(meilleurs parametres)"
   ]
  },
  {
   "cell_type": "code",
   "execution_count": 16,
   "id": "eb58d899",
   "metadata": {
    "ExecuteTime": {
     "end_time": "2022-08-28T18:00:10.466559Z",
     "start_time": "2022-08-28T18:00:08.786240Z"
    }
   },
   "outputs": [
    {
     "name": "stdout",
     "output_type": "stream",
     "text": [
      "accuracy : 0.999627004848937\n",
      "precision : 1.0\n"
     ]
    },
    {
     "data": {
      "image/png": "[encoded data removed]",
      "text/plain": [
       "<Figure size 576x432 with 2 Axes>"
      ]
     },
     "metadata": {
      "needs_background": "light"
     },
     "output_type": "display_data"
    }
   ],
   "source": [
    "mushroom.score_model(KNeighborsClassifier(n_neighbors=1, metric='euclidean'))"
   ]
  },
  {
   "cell_type": "markdown",
   "id": "7e1d2c9a",
   "metadata": {},
   "source": [
    "### Analyse Learning Curve"
   ]
  },
  {
   "cell_type": "code",
   "execution_count": 17,
   "id": "11fefcaa",
   "metadata": {
    "ExecuteTime": {
     "end_time": "2022-08-28T18:00:39.611040Z",
     "start_time": "2022-08-28T18:00:10.475980Z"
    }
   },
   "outputs": [
    {
     "data": {
      "image/png": "[encoded data removed]",
      "text/plain": [
       "<Figure size 432x288 with 1 Axes>"
      ]
     },
     "metadata": {
      "needs_background": "light"
     },
     "output_type": "display_data"
    }
   ],
   "source": [
    "mushroom.learning_graph(sendmodel=KNeighborsClassifier(n_neighbors=1, metric='euclidean'))"
   ]
  },
  {
   "cell_type": "markdown",
   "id": "9920d7cf",
   "metadata": {},
   "source": [
    "## RidgeClassifierCV"
   ]
  },
  {
   "cell_type": "code",
   "execution_count": 18,
   "id": "55b34f88",
   "metadata": {
    "ExecuteTime": {
     "end_time": "2022-08-28T18:00:40.636990Z",
     "start_time": "2022-08-28T18:00:39.619140Z"
    }
   },
   "outputs": [
    {
     "name": "stdout",
     "output_type": "stream",
     "text": [
      "model : RidgeClassifierCV() => 0.973517888699717\n"
     ]
    }
   ],
   "source": [
    "a = mushroom.test_models([RidgeClassifierCV()], show=True)"
   ]
  },
  {
   "cell_type": "markdown",
   "id": "28c2c6f3",
   "metadata": {
    "ExecuteTime": {
     "end_time": "2022-07-29T11:58:32.871346Z",
     "start_time": "2022-07-29T11:58:32.864095Z"
    }
   },
   "source": [
    "### SCORE Model avec RidgeClassifierCV"
   ]
  },
  {
   "cell_type": "code",
   "execution_count": 19,
   "id": "fb62cf72",
   "metadata": {
    "ExecuteTime": {
     "end_time": "2022-08-28T18:00:41.955321Z",
     "start_time": "2022-08-28T18:00:40.644514Z"
    }
   },
   "outputs": [
    {
     "name": "stdout",
     "output_type": "stream",
     "text": [
      "accuracy : 0.9839612085042895\n",
      "precision : 0.9697396199859254\n"
     ]
    },
    {
     "data": {
      "image/png": "[encoded data removed]",
      "text/plain": [
       "<Figure size 576x432 with 2 Axes>"
      ]
     },
     "metadata": {
      "needs_background": "light"
     },
     "output_type": "display_data"
    }
   ],
   "source": [
    "mushroom.score_model(RidgeClassifierCV())"
   ]
  },
  {
   "cell_type": "markdown",
   "id": "c09d1d39",
   "metadata": {},
   "source": [
    "### GRIDSEARCH pour saisir les meilleurs hyper parametres (métrique précision)"
   ]
  },
  {
   "cell_type": "code",
   "execution_count": 20,
   "id": "a71d98ec",
   "metadata": {
    "ExecuteTime": {
     "end_time": "2022-08-28T18:00:47.772570Z",
     "start_time": "2022-08-28T18:00:41.959507Z"
    }
   },
   "outputs": [
    {
     "name": "stdout",
     "output_type": "stream",
     "text": [
      "Tuned Decision Tree Parameters: {'alphas': 0.1}\n",
      "Best score is 0.9735406571849318\n"
     ]
    },
    {
     "data": {
      "text/plain": [
       "{'alphas': 0.1}"
      ]
     },
     "execution_count": 20,
     "metadata": {},
     "output_type": "execute_result"
    }
   ],
   "source": [
    "mushroom.grid_model(RidgeClassifierCV(), {\n",
    "    'alphas' : [0.1, 0.2, 0.3, 0.4, 0.5, 0.6, 0.7, 0.8, 0.9, 1.0]\n",
    "})"
   ]
  },
  {
   "cell_type": "markdown",
   "id": "cf3e43ee",
   "metadata": {
    "ExecuteTime": {
     "end_time": "2022-07-29T11:58:32.871346Z",
     "start_time": "2022-07-29T11:58:32.864095Z"
    }
   },
   "source": [
    "### SCORE Model avec RidgeClassifierCV(meilleurs parametres)"
   ]
  },
  {
   "cell_type": "code",
   "execution_count": 21,
   "id": "01a16e9e",
   "metadata": {
    "ExecuteTime": {
     "end_time": "2022-08-28T18:00:48.639194Z",
     "start_time": "2022-08-28T18:00:47.789087Z"
    }
   },
   "outputs": [
    {
     "name": "stdout",
     "output_type": "stream",
     "text": [
      "accuracy : 0.9839612085042895\n",
      "precision : 0.9697396199859254\n"
     ]
    },
    {
     "data": {
      "image/png": "[encoded data removed]",
      "text/plain": [
       "<Figure size 576x432 with 2 Axes>"
      ]
     },
     "metadata": {
      "needs_background": "light"
     },
     "output_type": "display_data"
    }
   ],
   "source": [
    "mushroom.score_model(RidgeClassifierCV(alphas=0.1))"
   ]
  },
  {
   "cell_type": "markdown",
   "id": "23e34f17",
   "metadata": {},
   "source": [
    "### Analyse Learning Curve"
   ]
  },
  {
   "cell_type": "code",
   "execution_count": 22,
   "id": "aad29348",
   "metadata": {
    "ExecuteTime": {
     "end_time": "2022-08-28T18:00:52.659438Z",
     "start_time": "2022-08-28T18:00:48.642366Z"
    }
   },
   "outputs": [
    {
     "data": {
      "image/png": "[encoded data removed]",
      "text/plain": [
       "<Figure size 432x288 with 1 Axes>"
      ]
     },
     "metadata": {
      "needs_background": "light"
     },
     "output_type": "display_data"
    }
   ],
   "source": [
    "mushroom.learning_graph(sendmodel=RidgeClassifierCV(alphas=0.1))"
   ]
  },
  {
   "cell_type": "markdown",
   "id": "5d15a879",
   "metadata": {},
   "source": [
    "## LogisticRegression"
   ]
  },
  {
   "cell_type": "code",
   "execution_count": 23,
   "id": "da07c005",
   "metadata": {
    "ExecuteTime": {
     "end_time": "2022-08-28T18:00:53.170058Z",
     "start_time": "2022-08-28T18:00:52.665530Z"
    }
   },
   "outputs": [
    {
     "name": "stdout",
     "output_type": "stream",
     "text": [
      "model : LogisticRegression() => 0.9785492964791251\n"
     ]
    }
   ],
   "source": [
    "a = mushroom.test_models([LogisticRegression()], show=True)"
   ]
  },
  {
   "cell_type": "markdown",
   "id": "9090d2cc",
   "metadata": {
    "ExecuteTime": {
     "end_time": "2022-07-29T11:58:32.871346Z",
     "start_time": "2022-07-29T11:58:32.864095Z"
    }
   },
   "source": [
    "### SCORE Model avec LogisticRegression"
   ]
  },
  {
   "cell_type": "code",
   "execution_count": 24,
   "id": "e501a3cf",
   "metadata": {
    "ExecuteTime": {
     "end_time": "2022-08-28T18:00:53.995910Z",
     "start_time": "2022-08-28T18:00:53.177872Z"
    }
   },
   "outputs": [
    {
     "name": "stdout",
     "output_type": "stream",
     "text": [
      "accuracy : 0.9858261842596047\n",
      "precision : 0.9758522727272727\n"
     ]
    },
    {
     "data": {
      "image/png": "[encoded data removed]",
      "text/plain": [
       "<Figure size 576x432 with 2 Axes>"
      ]
     },
     "metadata": {
      "needs_background": "light"
     },
     "output_type": "display_data"
    }
   ],
   "source": [
    "mushroom.score_model(LogisticRegression())"
   ]
  },
  {
   "cell_type": "markdown",
   "id": "81369a61",
   "metadata": {},
   "source": [
    "### GRIDSEARCH pour saisir les meilleurs hyper parametres (métrique précision)"
   ]
  },
  {
   "cell_type": "code",
   "execution_count": 25,
   "id": "b7f0917d",
   "metadata": {
    "ExecuteTime": {
     "end_time": "2022-08-28T18:00:55.493622Z",
     "start_time": "2022-08-28T18:00:54.002536Z"
    },
    "scrolled": true
   },
   "outputs": [
    {
     "name": "stdout",
     "output_type": "stream",
     "text": [
      "Tuned Decision Tree Parameters: {'C': 10}\n",
      "Best score is 0.9919389319560793\n"
     ]
    },
    {
     "data": {
      "text/plain": [
       "{'C': 10}"
      ]
     },
     "execution_count": 25,
     "metadata": {},
     "output_type": "execute_result"
    }
   ],
   "source": [
    "mushroom.grid_model(LogisticRegression(), {\n",
    "    'C' : [10, 1.0, 0.1, 0.01],\n",
    "})"
   ]
  },
  {
   "cell_type": "markdown",
   "id": "b9b42de7",
   "metadata": {
    "ExecuteTime": {
     "end_time": "2022-07-29T11:58:32.871346Z",
     "start_time": "2022-07-29T11:58:32.864095Z"
    }
   },
   "source": [
    "### SCORE Model avec LogisticRegression(meilleurs parametres)\n"
   ]
  },
  {
   "cell_type": "code",
   "execution_count": 26,
   "id": "7d7871dc",
   "metadata": {
    "ExecuteTime": {
     "end_time": "2022-08-28T18:00:56.290495Z",
     "start_time": "2022-08-28T18:00:55.500828Z"
    }
   },
   "outputs": [
    {
     "name": "stdout",
     "output_type": "stream",
     "text": [
      "accuracy : 0.9962700484893696\n",
      "precision : 0.9927953890489913\n"
     ]
    },
    {
     "data": {
      "image/png": "[encoded data removed]",
      "text/plain": [
       "<Figure size 576x432 with 2 Axes>"
      ]
     },
     "metadata": {
      "needs_background": "light"
     },
     "output_type": "display_data"
    }
   ],
   "source": [
    "mushroom.score_model(LogisticRegression(C=10))"
   ]
  },
  {
   "cell_type": "markdown",
   "id": "150035e3",
   "metadata": {},
   "source": [
    "### Analyse Learning Curve"
   ]
  },
  {
   "cell_type": "code",
   "execution_count": 27,
   "id": "53d28eed",
   "metadata": {
    "ExecuteTime": {
     "end_time": "2022-08-28T18:01:00.107745Z",
     "start_time": "2022-08-28T18:00:56.296995Z"
    }
   },
   "outputs": [
    {
     "data": {
      "image/png": "[encoded data removed]",
      "text/plain": [
       "<Figure size 432x288 with 1 Axes>"
      ]
     },
     "metadata": {
      "needs_background": "light"
     },
     "output_type": "display_data"
    }
   ],
   "source": [
    "mushroom.learning_graph(sendmodel=LogisticRegression(C=10))"
   ]
  },
  {
   "cell_type": "markdown",
   "id": "47bed090",
   "metadata": {},
   "source": [
    "## DECISIONTREECLASSIFIER"
   ]
  },
  {
   "cell_type": "markdown",
   "id": "59e329ce",
   "metadata": {
    "ExecuteTime": {
     "end_time": "2022-07-29T11:58:32.871346Z",
     "start_time": "2022-07-29T11:58:32.864095Z"
    }
   },
   "source": [
    "### SCORE Model avec DecisionTreeClassifier()"
   ]
  },
  {
   "cell_type": "code",
   "execution_count": 28,
   "id": "47652dde",
   "metadata": {
    "ExecuteTime": {
     "end_time": "2022-08-28T18:01:00.717651Z",
     "start_time": "2022-08-28T18:01:00.130819Z"
    }
   },
   "outputs": [
    {
     "name": "stdout",
     "output_type": "stream",
     "text": [
      "accuracy : 0.999627004848937\n",
      "precision : 1.0\n"
     ]
    },
    {
     "data": {
      "image/png": "[encoded data removed]",
      "text/plain": [
       "<Figure size 576x432 with 2 Axes>"
      ]
     },
     "metadata": {
      "needs_background": "light"
     },
     "output_type": "display_data"
    }
   ],
   "source": [
    "mushroom.score_model()"
   ]
  },
  {
   "cell_type": "markdown",
   "id": "11e94b82",
   "metadata": {},
   "source": [
    "### GRIDSEARCH pour saisir les meilleurs hyper parametres (métrique précision)"
   ]
  },
  {
   "cell_type": "code",
   "execution_count": 29,
   "id": "f87da7e2",
   "metadata": {
    "ExecuteTime": {
     "end_time": "2022-08-28T18:01:07.100191Z",
     "start_time": "2022-08-28T18:01:00.725101Z"
    }
   },
   "outputs": [
    {
     "name": "stdout",
     "output_type": "stream",
     "text": [
      "Tuned Decision Tree Parameters: {'criterion': 'gini', 'max_depth': 9}\n",
      "Best score is 0.9982412931013144\n"
     ]
    },
    {
     "data": {
      "text/plain": [
       "{'criterion': 'gini', 'max_depth': 9}"
      ]
     },
     "execution_count": 29,
     "metadata": {},
     "output_type": "execute_result"
    }
   ],
   "source": [
    "mushroom.grid_model(DecisionTreeClassifier(), {\n",
    "    \"criterion\" : ['gini', 'entropy','log_loss'],\n",
    "    \"max_depth\" : range(4,15)\n",
    "})"
   ]
  },
  {
   "cell_type": "markdown",
   "id": "727f87c8",
   "metadata": {
    "ExecuteTime": {
     "end_time": "2022-07-29T11:58:32.871346Z",
     "start_time": "2022-07-29T11:58:32.864095Z"
    }
   },
   "source": [
    "### SCORE Model avec DecisionTreeClassifier(meilleurs parametres)"
   ]
  },
  {
   "cell_type": "code",
   "execution_count": 30,
   "id": "11db4e18",
   "metadata": {
    "ExecuteTime": {
     "end_time": "2022-08-28T18:01:07.689492Z",
     "start_time": "2022-08-28T18:01:07.105131Z"
    }
   },
   "outputs": [
    {
     "name": "stdout",
     "output_type": "stream",
     "text": [
      "accuracy : 0.999627004848937\n",
      "precision : 1.0\n"
     ]
    },
    {
     "data": {
      "image/png": "[encoded data removed]",
      "text/plain": [
       "<Figure size 576x432 with 2 Axes>"
      ]
     },
     "metadata": {
      "needs_background": "light"
     },
     "output_type": "display_data"
    }
   ],
   "source": [
    "mushroom.score_model(DecisionTreeClassifier(criterion='entropy',max_depth=9,min_samples_leaf=1,min_samples_split=2))"
   ]
  },
  {
   "cell_type": "markdown",
   "id": "8f1dd5cb",
   "metadata": {},
   "source": [
    "### Analyse Learning Curve"
   ]
  },
  {
   "cell_type": "code",
   "execution_count": 31,
   "id": "589e700a",
   "metadata": {
    "ExecuteTime": {
     "end_time": "2022-08-28T18:01:09.319705Z",
     "start_time": "2022-08-28T18:01:07.695881Z"
    }
   },
   "outputs": [
    {
     "data": {
      "image/png": "[encoded data removed]",
      "text/plain": [
       "<Figure size 432x288 with 1 Axes>"
      ]
     },
     "metadata": {
      "needs_background": "light"
     },
     "output_type": "display_data"
    }
   ],
   "source": [
    "mushroom.learning_graph(sendmodel=DecisionTreeClassifier(criterion='entropy',max_depth=9,min_samples_leaf=1,min_samples_split=2))"
   ]
  },
  {
   "cell_type": "markdown",
   "id": "286499f6",
   "metadata": {},
   "source": [
    "## OUTWORK BEST PRATICAL FEATURES"
   ]
  },
  {
   "cell_type": "code",
   "execution_count": 32,
   "id": "414a8ecf",
   "metadata": {
    "ExecuteTime": {
     "end_time": "2022-08-28T18:01:09.340583Z",
     "start_time": "2022-08-28T18:01:09.326256Z"
    }
   },
   "outputs": [],
   "source": [
    "mushroom=Mushroom_ml(\n",
    "    df[['_class',\n",
    "        '_odor',\n",
    "        '_habitat',\n",
    "        '_cap_color',\n",
    "        '_population',\n",
    "        '_bruises'\n",
    "    ]],'_class')"
   ]
  },
  {
   "cell_type": "code",
   "execution_count": 33,
   "id": "1ce33f04",
   "metadata": {
    "ExecuteTime": {
     "end_time": "2022-08-28T18:01:10.742243Z",
     "start_time": "2022-08-28T18:01:09.347972Z"
    }
   },
   "outputs": [
    {
     "name": "stdout",
     "output_type": "stream",
     "text": [
      "accuracy : 1.0\n",
      "precision : 1.0\n"
     ]
    },
    {
     "data": {
      "image/png": "[encoded data removed]",
      "text/plain": [
       "<Figure size 576x432 with 2 Axes>"
      ]
     },
     "metadata": {
      "needs_background": "light"
     },
     "output_type": "display_data"
    }
   ],
   "source": [
    "mushroom.score_model(KNeighborsClassifier(n_neighbors=1, metric='euclidean'), display=False)"
   ]
  },
  {
   "cell_type": "code",
   "execution_count": 34,
   "id": "8449b147",
   "metadata": {
    "ExecuteTime": {
     "end_time": "2022-08-28T18:01:44.406503Z",
     "start_time": "2022-08-28T18:01:10.747865Z"
    }
   },
   "outputs": [
    {
     "data": {
      "image/png": "[encoded data removed]",
      "text/plain": [
       "<Figure size 432x288 with 1 Axes>"
      ]
     },
     "metadata": {
      "needs_background": "light"
     },
     "output_type": "display_data"
    }
   ],
   "source": [
    "mushroom.learning_graph(KNeighborsClassifier(n_neighbors=1, metric='euclidean'))"
   ]
  },
  {
   "cell_type": "markdown",
   "id": "40fd21c3",
   "metadata": {},
   "source": [
    "### SCORE MODEL"
   ]
  },
  {
   "cell_type": "code",
   "execution_count": 35,
   "id": "015c8ec8",
   "metadata": {
    "ExecuteTime": {
     "end_time": "2022-08-28T18:01:45.084466Z",
     "start_time": "2022-08-28T18:01:44.410897Z"
    }
   },
   "outputs": [
    {
     "name": "stdout",
     "output_type": "stream",
     "text": [
      "accuracy : 1.0\n",
      "precision : 1.0\n"
     ]
    },
    {
     "data": {
      "image/png": "[encoded data removed]",
      "text/plain": [
       "<Figure size 576x432 with 2 Axes>"
      ]
     },
     "metadata": {
      "needs_background": "light"
     },
     "output_type": "display_data"
    }
   ],
   "source": [
    "mushroom.score_model(DecisionTreeClassifier(), display=False)"
   ]
  },
  {
   "cell_type": "markdown",
   "id": "e99d0e4a",
   "metadata": {
    "ExecuteTime": {
     "end_time": "2022-07-29T15:33:28.824406Z",
     "start_time": "2022-07-29T15:33:28.812665Z"
    }
   },
   "source": [
    "### Gridsearch"
   ]
  },
  {
   "cell_type": "code",
   "execution_count": 36,
   "id": "6c809c4b",
   "metadata": {
    "ExecuteTime": {
     "end_time": "2022-08-28T18:01:50.472524Z",
     "start_time": "2022-08-28T18:01:45.090763Z"
    }
   },
   "outputs": [
    {
     "name": "stdout",
     "output_type": "stream",
     "text": [
      "Tuned Decision Tree Parameters: {'criterion': 'gini', 'max_depth': 10}\n",
      "Best score is 1.0\n"
     ]
    },
    {
     "data": {
      "text/plain": [
       "{'criterion': 'gini', 'max_depth': 10}"
      ]
     },
     "execution_count": 36,
     "metadata": {},
     "output_type": "execute_result"
    }
   ],
   "source": [
    "mushroom.grid_model(DecisionTreeClassifier(), {\n",
    "    \"criterion\" : ['gini', 'entropy','log_loss'],\n",
    "    \"max_depth\" : range(4,15)\n",
    "})"
   ]
  },
  {
   "cell_type": "markdown",
   "id": "0571b644",
   "metadata": {},
   "source": [
    "### SCORE WITH BEST_PARAMS"
   ]
  },
  {
   "cell_type": "code",
   "execution_count": 37,
   "id": "e0aa4e7c",
   "metadata": {
    "ExecuteTime": {
     "end_time": "2022-08-28T18:01:51.175069Z",
     "start_time": "2022-08-28T18:01:50.483825Z"
    }
   },
   "outputs": [
    {
     "name": "stdout",
     "output_type": "stream",
     "text": [
      "accuracy : 1.0\n",
      "precision : 1.0\n"
     ]
    },
    {
     "data": {
      "image/png": "[encoded data removed]",
      "text/plain": [
       "<Figure size 576x432 with 2 Axes>"
      ]
     },
     "metadata": {
      "needs_background": "light"
     },
     "output_type": "display_data"
    }
   ],
   "source": [
    "mushroom.score_model(DecisionTreeClassifier(max_depth=10), display=False)"
   ]
  },
  {
   "cell_type": "markdown",
   "id": "5cbd06ab",
   "metadata": {},
   "source": [
    "### Analyse Learning Curve"
   ]
  },
  {
   "cell_type": "code",
   "execution_count": 38,
   "id": "8044a4a2",
   "metadata": {
    "ExecuteTime": {
     "end_time": "2022-08-28T18:01:52.760754Z",
     "start_time": "2022-08-28T18:01:51.183549Z"
    }
   },
   "outputs": [
    {
     "data": {
      "image/png": "[encoded data removed]",
      "text/plain": [
       "<Figure size 432x288 with 1 Axes>"
      ]
     },
     "metadata": {
      "needs_background": "light"
     },
     "output_type": "display_data"
    }
   ],
   "source": [
    "mushroom.learning_graph()"
   ]
  },
  {
   "cell_type": "markdown",
   "id": "0f553536",
   "metadata": {
    "ExecuteTime": {
     "end_time": "2022-07-28T14:41:56.570196Z",
     "start_time": "2022-07-28T14:41:56.551805Z"
    }
   },
   "source": [
    "### Plot Tree"
   ]
  },
  {
   "cell_type": "code",
   "execution_count": 39,
   "id": "842d94d6",
   "metadata": {
    "ExecuteTime": {
     "end_time": "2022-08-28T18:01:55.568081Z",
     "start_time": "2022-08-28T18:01:52.768258Z"
    }
   },
   "outputs": [
    {
     "data": {
      "image/svg+xml": [
       "<?xml version=\"1.0\" encoding=\"UTF-8\" standalone=\"no\"?>\n",
       "<!DOCTYPE svg PUBLIC \"-//W3C//DTD SVG 1.1//EN\"\n",
       " \"http://www.w3.org/Graphics/SVG/1.1/DTD/svg11.dtd\">\n",
       "<!-- Generated by graphviz version 5.0.0 (20220707.1540)\n",
       " -->\n",
       "<!-- Title: Tree Pages: 1 -->\n",
       "<svg width=\"883pt\" height=\"1266pt\"\n",
       " viewBox=\"0.00 0.00 882.50 1266.00\" xmlns=\"http://www.w3.org/2000/svg\" xmlns:xlink=\"http://www.w3.org/1999/xlink\">\n",
       "<g id=\"graph0\" class=\"graph\" transform=\"scale(1 1) rotate(0) translate(4 1262)\">\n",
       "<title>Tree</title>\n",
       "<polygon fill=\"white\" stroke=\"transparent\" points=\"-4,4 -4,-1262 878.5,-1262 878.5,4 -4,4\"/>\n",
       "<!-- 0 -->\n",
       "<g id=\"node1\" class=\"node\">\n",
       "<title>0</title>\n",
       "<path fill=\"#fdf5f0\" stroke=\"black\" d=\"M545.5,-1258C545.5,-1258 429.5,-1258 429.5,-1258 423.5,-1258 417.5,-1252 417.5,-1246 417.5,-1246 417.5,-1187 417.5,-1187 417.5,-1181 423.5,-1175 429.5,-1175 429.5,-1175 545.5,-1175 545.5,-1175 551.5,-1175 557.5,-1181 557.5,-1187 557.5,-1187 557.5,-1246 557.5,-1246 557.5,-1252 551.5,-1258 545.5,-1258\"/>\n",
       "<text text-anchor=\"start\" x=\"434.5\" y=\"-1242.8\" font-family=\"Helvetica,sans-Serif\" font-size=\"14.00\">_odor_none ≤ 0.5</text>\n",
       "<text text-anchor=\"start\" x=\"452\" y=\"-1227.8\" font-family=\"Helvetica,sans-Serif\" font-size=\"14.00\">gini = 0.499</text>\n",
       "<text text-anchor=\"start\" x=\"439\" y=\"-1212.8\" font-family=\"Helvetica,sans-Serif\" font-size=\"14.00\">samples = 5443</text>\n",
       "<text text-anchor=\"start\" x=\"425.5\" y=\"-1197.8\" font-family=\"Helvetica,sans-Serif\" font-size=\"14.00\">value = [2830, 2613]</text>\n",
       "<text text-anchor=\"start\" x=\"446\" y=\"-1182.8\" font-family=\"Helvetica,sans-Serif\" font-size=\"14.00\">class = edible</text>\n",
       "</g>\n",
       "<!-- 1 -->\n",
       "<g id=\"node2\" class=\"node\">\n",
       "<title>1</title>\n",
       "<path fill=\"#61b1ea\" stroke=\"black\" d=\"M463.5,-1139C463.5,-1139 335.5,-1139 335.5,-1139 329.5,-1139 323.5,-1133 323.5,-1127 323.5,-1127 323.5,-1068 323.5,-1068 323.5,-1062 329.5,-1056 335.5,-1056 335.5,-1056 463.5,-1056 463.5,-1056 469.5,-1056 475.5,-1062 475.5,-1068 475.5,-1068 475.5,-1127 475.5,-1127 475.5,-1133 469.5,-1139 463.5,-1139\"/>\n",
       "<text text-anchor=\"start\" x=\"331.5\" y=\"-1123.8\" font-family=\"Helvetica,sans-Serif\" font-size=\"14.00\">_bruises_bruises ≤ 0.5</text>\n",
       "<text text-anchor=\"start\" x=\"364\" y=\"-1108.8\" font-family=\"Helvetica,sans-Serif\" font-size=\"14.00\">gini = 0.281</text>\n",
       "<text text-anchor=\"start\" x=\"351\" y=\"-1093.8\" font-family=\"Helvetica,sans-Serif\" font-size=\"14.00\">samples = 3053</text>\n",
       "<text text-anchor=\"start\" x=\"341.5\" y=\"-1078.8\" font-family=\"Helvetica,sans-Serif\" font-size=\"14.00\">value = [517, 2536]</text>\n",
       "<text text-anchor=\"start\" x=\"348.5\" y=\"-1063.8\" font-family=\"Helvetica,sans-Serif\" font-size=\"14.00\">class = poisoned</text>\n",
       "</g>\n",
       "<!-- 0&#45;&gt;1 -->\n",
       "<g id=\"edge1\" class=\"edge\">\n",
       "<title>0&#45;&gt;1</title>\n",
       "<path fill=\"none\" stroke=\"black\" d=\"M456.97,-1174.91C450.21,-1165.92 442.98,-1156.32 436.02,-1147.05\"/>\n",
       "<polygon fill=\"black\" stroke=\"black\" points=\"438.79,-1144.91 429.98,-1139.02 433.19,-1149.12 438.79,-1144.91\"/>\n",
       "<text text-anchor=\"middle\" x=\"426.48\" y=\"-1160.07\" font-family=\"Helvetica,sans-Serif\" font-size=\"14.00\">True</text>\n",
       "</g>\n",
       "<!-- 8 -->\n",
       "<g id=\"node9\" class=\"node\">\n",
       "<title>8</title>\n",
       "<path fill=\"#e68540\" stroke=\"black\" d=\"M645.5,-1139C645.5,-1139 505.5,-1139 505.5,-1139 499.5,-1139 493.5,-1133 493.5,-1127 493.5,-1127 493.5,-1068 493.5,-1068 493.5,-1062 499.5,-1056 505.5,-1056 505.5,-1056 645.5,-1056 645.5,-1056 651.5,-1056 657.5,-1062 657.5,-1068 657.5,-1068 657.5,-1127 657.5,-1127 657.5,-1133 651.5,-1139 645.5,-1139\"/>\n",
       "<text text-anchor=\"start\" x=\"501.5\" y=\"-1123.8\" font-family=\"Helvetica,sans-Serif\" font-size=\"14.00\">_habitat_meadows ≤ 0.5</text>\n",
       "<text text-anchor=\"start\" x=\"540\" y=\"-1108.8\" font-family=\"Helvetica,sans-Serif\" font-size=\"14.00\">gini = 0.062</text>\n",
       "<text text-anchor=\"start\" x=\"527\" y=\"-1093.8\" font-family=\"Helvetica,sans-Serif\" font-size=\"14.00\">samples = 2390</text>\n",
       "<text text-anchor=\"start\" x=\"521\" y=\"-1078.8\" font-family=\"Helvetica,sans-Serif\" font-size=\"14.00\">value = [2313, 77]</text>\n",
       "<text text-anchor=\"start\" x=\"534\" y=\"-1063.8\" font-family=\"Helvetica,sans-Serif\" font-size=\"14.00\">class = edible</text>\n",
       "</g>\n",
       "<!-- 0&#45;&gt;8 -->\n",
       "<g id=\"edge8\" class=\"edge\">\n",
       "<title>0&#45;&gt;8</title>\n",
       "<path fill=\"none\" stroke=\"black\" d=\"M518.03,-1174.91C524.79,-1165.92 532.02,-1156.32 538.98,-1147.05\"/>\n",
       "<polygon fill=\"black\" stroke=\"black\" points=\"541.81,-1149.12 545.02,-1139.02 536.21,-1144.91 541.81,-1149.12\"/>\n",
       "<text text-anchor=\"middle\" x=\"548.52\" y=\"-1160.07\" font-family=\"Helvetica,sans-Serif\" font-size=\"14.00\">False</text>\n",
       "</g>\n",
       "<!-- 2 -->\n",
       "<g id=\"node3\" class=\"node\">\n",
       "<title>2</title>\n",
       "<path fill=\"#399de5\" stroke=\"black\" d=\"M312.5,-1012.5C312.5,-1012.5 218.5,-1012.5 218.5,-1012.5 212.5,-1012.5 206.5,-1006.5 206.5,-1000.5 206.5,-1000.5 206.5,-956.5 206.5,-956.5 206.5,-950.5 212.5,-944.5 218.5,-944.5 218.5,-944.5 312.5,-944.5 312.5,-944.5 318.5,-944.5 324.5,-950.5 324.5,-956.5 324.5,-956.5 324.5,-1000.5 324.5,-1000.5 324.5,-1006.5 318.5,-1012.5 312.5,-1012.5\"/>\n",
       "<text text-anchor=\"start\" x=\"237.5\" y=\"-997.3\" font-family=\"Helvetica,sans-Serif\" font-size=\"14.00\">gini = 0.0</text>\n",
       "<text text-anchor=\"start\" x=\"217\" y=\"-982.3\" font-family=\"Helvetica,sans-Serif\" font-size=\"14.00\">samples = 2183</text>\n",
       "<text text-anchor=\"start\" x=\"215\" y=\"-967.3\" font-family=\"Helvetica,sans-Serif\" font-size=\"14.00\">value = [0, 2183]</text>\n",
       "<text text-anchor=\"start\" x=\"214.5\" y=\"-952.3\" font-family=\"Helvetica,sans-Serif\" font-size=\"14.00\">class = poisoned</text>\n",
       "</g>\n",
       "<!-- 1&#45;&gt;2 -->\n",
       "<g id=\"edge2\" class=\"edge\">\n",
       "<title>1&#45;&gt;2</title>\n",
       "<path fill=\"none\" stroke=\"black\" d=\"M353.01,-1055.91C339.49,-1044.1 324.73,-1031.22 311.25,-1019.45\"/>\n",
       "<polygon fill=\"black\" stroke=\"black\" points=\"313.32,-1016.61 303.49,-1012.67 308.72,-1021.88 313.32,-1016.61\"/>\n",
       "</g>\n",
       "<!-- 3 -->\n",
       "<g id=\"node4\" class=\"node\">\n",
       "<title>3</title>\n",
       "<path fill=\"#f7d7c0\" stroke=\"black\" d=\"M456,-1020C456,-1020 355,-1020 355,-1020 349,-1020 343,-1014 343,-1008 343,-1008 343,-949 343,-949 343,-943 349,-937 355,-937 355,-937 456,-937 456,-937 462,-937 468,-943 468,-949 468,-949 468,-1008 468,-1008 468,-1014 462,-1020 456,-1020\"/>\n",
       "<text text-anchor=\"start\" x=\"356.5\" y=\"-1004.8\" font-family=\"Helvetica,sans-Serif\" font-size=\"14.00\">_odor_foul ≤ 0.5</text>\n",
       "<text text-anchor=\"start\" x=\"370\" y=\"-989.8\" font-family=\"Helvetica,sans-Serif\" font-size=\"14.00\">gini = 0.482</text>\n",
       "<text text-anchor=\"start\" x=\"360.5\" y=\"-974.8\" font-family=\"Helvetica,sans-Serif\" font-size=\"14.00\">samples = 870</text>\n",
       "<text text-anchor=\"start\" x=\"351\" y=\"-959.8\" font-family=\"Helvetica,sans-Serif\" font-size=\"14.00\">value = [517, 353]</text>\n",
       "<text text-anchor=\"start\" x=\"364\" y=\"-944.8\" font-family=\"Helvetica,sans-Serif\" font-size=\"14.00\">class = edible</text>\n",
       "</g>\n",
       "<!-- 1&#45;&gt;3 -->\n",
       "<g id=\"edge3\" class=\"edge\">\n",
       "<title>1&#45;&gt;3</title>\n",
       "<path fill=\"none\" stroke=\"black\" d=\"M401.58,-1055.91C402.01,-1047.56 402.47,-1038.67 402.91,-1030.02\"/>\n",
       "<polygon fill=\"black\" stroke=\"black\" points=\"406.41,-1030.19 403.42,-1020.02 399.41,-1029.83 406.41,-1030.19\"/>\n",
       "</g>\n",
       "<!-- 4 -->\n",
       "<g id=\"node5\" class=\"node\">\n",
       "<title>4</title>\n",
       "<path fill=\"#eda877\" stroke=\"black\" d=\"M318,-901C318,-901 201,-901 201,-901 195,-901 189,-895 189,-889 189,-889 189,-830 189,-830 189,-824 195,-818 201,-818 201,-818 318,-818 318,-818 324,-818 330,-824 330,-830 330,-830 330,-889 330,-889 330,-895 324,-901 318,-901\"/>\n",
       "<text text-anchor=\"start\" x=\"197\" y=\"-885.8\" font-family=\"Helvetica,sans-Serif\" font-size=\"14.00\">_odor_pungent ≤ 0.5</text>\n",
       "<text text-anchor=\"start\" x=\"224\" y=\"-870.8\" font-family=\"Helvetica,sans-Serif\" font-size=\"14.00\">gini = 0.363</text>\n",
       "<text text-anchor=\"start\" x=\"214.5\" y=\"-855.8\" font-family=\"Helvetica,sans-Serif\" font-size=\"14.00\">samples = 679</text>\n",
       "<text text-anchor=\"start\" x=\"205\" y=\"-840.8\" font-family=\"Helvetica,sans-Serif\" font-size=\"14.00\">value = [517, 162]</text>\n",
       "<text text-anchor=\"start\" x=\"218\" y=\"-825.8\" font-family=\"Helvetica,sans-Serif\" font-size=\"14.00\">class = edible</text>\n",
       "</g>\n",
       "<!-- 3&#45;&gt;4 -->\n",
       "<g id=\"edge4\" class=\"edge\">\n",
       "<title>3&#45;&gt;4</title>\n",
       "<path fill=\"none\" stroke=\"black\" d=\"M354.85,-936.91C342.96,-927.38 330.19,-917.15 317.99,-907.37\"/>\n",
       "<polygon fill=\"black\" stroke=\"black\" points=\"320.06,-904.54 310.06,-901.02 315.68,-910.01 320.06,-904.54\"/>\n",
       "</g>\n",
       "<!-- 7 -->\n",
       "<g id=\"node8\" class=\"node\">\n",
       "<title>7</title>\n",
       "<path fill=\"#399de5\" stroke=\"black\" d=\"M454.5,-893.5C454.5,-893.5 360.5,-893.5 360.5,-893.5 354.5,-893.5 348.5,-887.5 348.5,-881.5 348.5,-881.5 348.5,-837.5 348.5,-837.5 348.5,-831.5 354.5,-825.5 360.5,-825.5 360.5,-825.5 454.5,-825.5 454.5,-825.5 460.5,-825.5 466.5,-831.5 466.5,-837.5 466.5,-837.5 466.5,-881.5 466.5,-881.5 466.5,-887.5 460.5,-893.5 454.5,-893.5\"/>\n",
       "<text text-anchor=\"start\" x=\"379.5\" y=\"-878.3\" font-family=\"Helvetica,sans-Serif\" font-size=\"14.00\">gini = 0.0</text>\n",
       "<text text-anchor=\"start\" x=\"362.5\" y=\"-863.3\" font-family=\"Helvetica,sans-Serif\" font-size=\"14.00\">samples = 191</text>\n",
       "<text text-anchor=\"start\" x=\"360.5\" y=\"-848.3\" font-family=\"Helvetica,sans-Serif\" font-size=\"14.00\">value = [0, 191]</text>\n",
       "<text text-anchor=\"start\" x=\"356.5\" y=\"-833.3\" font-family=\"Helvetica,sans-Serif\" font-size=\"14.00\">class = poisoned</text>\n",
       "</g>\n",
       "<!-- 3&#45;&gt;7 -->\n",
       "<g id=\"edge7\" class=\"edge\">\n",
       "<title>3&#45;&gt;7</title>\n",
       "<path fill=\"none\" stroke=\"black\" d=\"M406.19,-936.91C406.38,-926.2 406.57,-914.62 406.76,-903.78\"/>\n",
       "<polygon fill=\"black\" stroke=\"black\" points=\"410.26,-903.73 406.93,-893.67 403.26,-903.61 410.26,-903.73\"/>\n",
       "</g>\n",
       "<!-- 5 -->\n",
       "<g id=\"node6\" class=\"node\">\n",
       "<title>5</title>\n",
       "<path fill=\"#e58139\" stroke=\"black\" d=\"M236.5,-774.5C236.5,-774.5 150.5,-774.5 150.5,-774.5 144.5,-774.5 138.5,-768.5 138.5,-762.5 138.5,-762.5 138.5,-718.5 138.5,-718.5 138.5,-712.5 144.5,-706.5 150.5,-706.5 150.5,-706.5 236.5,-706.5 236.5,-706.5 242.5,-706.5 248.5,-712.5 248.5,-718.5 248.5,-718.5 248.5,-762.5 248.5,-762.5 248.5,-768.5 242.5,-774.5 236.5,-774.5\"/>\n",
       "<text text-anchor=\"start\" x=\"165.5\" y=\"-759.3\" font-family=\"Helvetica,sans-Serif\" font-size=\"14.00\">gini = 0.0</text>\n",
       "<text text-anchor=\"start\" x=\"148.5\" y=\"-744.3\" font-family=\"Helvetica,sans-Serif\" font-size=\"14.00\">samples = 517</text>\n",
       "<text text-anchor=\"start\" x=\"146.5\" y=\"-729.3\" font-family=\"Helvetica,sans-Serif\" font-size=\"14.00\">value = [517, 0]</text>\n",
       "<text text-anchor=\"start\" x=\"152\" y=\"-714.3\" font-family=\"Helvetica,sans-Serif\" font-size=\"14.00\">class = edible</text>\n",
       "</g>\n",
       "<!-- 4&#45;&gt;5 -->\n",
       "<g id=\"edge5\" class=\"edge\">\n",
       "<title>4&#45;&gt;5</title>\n",
       "<path fill=\"none\" stroke=\"black\" d=\"M236.6,-817.91C230.31,-806.76 223.49,-794.66 217.16,-783.44\"/>\n",
       "<polygon fill=\"black\" stroke=\"black\" points=\"220.17,-781.66 212.21,-774.67 214.07,-785.1 220.17,-781.66\"/>\n",
       "</g>\n",
       "<!-- 6 -->\n",
       "<g id=\"node7\" class=\"node\">\n",
       "<title>6</title>\n",
       "<path fill=\"#399de5\" stroke=\"black\" d=\"M372.5,-774.5C372.5,-774.5 278.5,-774.5 278.5,-774.5 272.5,-774.5 266.5,-768.5 266.5,-762.5 266.5,-762.5 266.5,-718.5 266.5,-718.5 266.5,-712.5 272.5,-706.5 278.5,-706.5 278.5,-706.5 372.5,-706.5 372.5,-706.5 378.5,-706.5 384.5,-712.5 384.5,-718.5 384.5,-718.5 384.5,-762.5 384.5,-762.5 384.5,-768.5 378.5,-774.5 372.5,-774.5\"/>\n",
       "<text text-anchor=\"start\" x=\"297.5\" y=\"-759.3\" font-family=\"Helvetica,sans-Serif\" font-size=\"14.00\">gini = 0.0</text>\n",
       "<text text-anchor=\"start\" x=\"280.5\" y=\"-744.3\" font-family=\"Helvetica,sans-Serif\" font-size=\"14.00\">samples = 162</text>\n",
       "<text text-anchor=\"start\" x=\"278.5\" y=\"-729.3\" font-family=\"Helvetica,sans-Serif\" font-size=\"14.00\">value = [0, 162]</text>\n",
       "<text text-anchor=\"start\" x=\"274.5\" y=\"-714.3\" font-family=\"Helvetica,sans-Serif\" font-size=\"14.00\">class = poisoned</text>\n",
       "</g>\n",
       "<!-- 4&#45;&gt;6 -->\n",
       "<g id=\"edge6\" class=\"edge\">\n",
       "<title>4&#45;&gt;6</title>\n",
       "<path fill=\"none\" stroke=\"black\" d=\"M282.4,-817.91C288.69,-806.76 295.51,-794.66 301.84,-783.44\"/>\n",
       "<polygon fill=\"black\" stroke=\"black\" points=\"304.93,-785.1 306.79,-774.67 298.83,-781.66 304.93,-785.1\"/>\n",
       "</g>\n",
       "<!-- 9 -->\n",
       "<g id=\"node10\" class=\"node\">\n",
       "<title>9</title>\n",
       "<path fill=\"#e6843e\" stroke=\"black\" d=\"M641,-1020C641,-1020 504,-1020 504,-1020 498,-1020 492,-1014 492,-1008 492,-1008 492,-949 492,-949 492,-943 498,-937 504,-937 504,-937 641,-937 641,-937 647,-937 653,-943 653,-949 653,-949 653,-1008 653,-1008 653,-1014 647,-1020 641,-1020\"/>\n",
       "<text text-anchor=\"start\" x=\"500\" y=\"-1004.8\" font-family=\"Helvetica,sans-Serif\" font-size=\"14.00\">_cap_color_yellow ≤ 0.5</text>\n",
       "<text text-anchor=\"start\" x=\"537\" y=\"-989.8\" font-family=\"Helvetica,sans-Serif\" font-size=\"14.00\">gini = 0.044</text>\n",
       "<text text-anchor=\"start\" x=\"524\" y=\"-974.8\" font-family=\"Helvetica,sans-Serif\" font-size=\"14.00\">samples = 2366</text>\n",
       "<text text-anchor=\"start\" x=\"518\" y=\"-959.8\" font-family=\"Helvetica,sans-Serif\" font-size=\"14.00\">value = [2313, 53]</text>\n",
       "<text text-anchor=\"start\" x=\"531\" y=\"-944.8\" font-family=\"Helvetica,sans-Serif\" font-size=\"14.00\">class = edible</text>\n",
       "</g>\n",
       "<!-- 8&#45;&gt;9 -->\n",
       "<g id=\"edge9\" class=\"edge\">\n",
       "<title>8&#45;&gt;9</title>\n",
       "<path fill=\"none\" stroke=\"black\" d=\"M574.46,-1055.91C574.25,-1047.56 574.02,-1038.67 573.8,-1030.02\"/>\n",
       "<polygon fill=\"black\" stroke=\"black\" points=\"577.29,-1029.93 573.54,-1020.02 570.3,-1030.11 577.29,-1029.93\"/>\n",
       "</g>\n",
       "<!-- 32 -->\n",
       "<g id=\"node33\" class=\"node\">\n",
       "<title>32</title>\n",
       "<path fill=\"#399de5\" stroke=\"black\" d=\"M777.5,-1012.5C777.5,-1012.5 683.5,-1012.5 683.5,-1012.5 677.5,-1012.5 671.5,-1006.5 671.5,-1000.5 671.5,-1000.5 671.5,-956.5 671.5,-956.5 671.5,-950.5 677.5,-944.5 683.5,-944.5 683.5,-944.5 777.5,-944.5 777.5,-944.5 783.5,-944.5 789.5,-950.5 789.5,-956.5 789.5,-956.5 789.5,-1000.5 789.5,-1000.5 789.5,-1006.5 783.5,-1012.5 777.5,-1012.5\"/>\n",
       "<text text-anchor=\"start\" x=\"702.5\" y=\"-997.3\" font-family=\"Helvetica,sans-Serif\" font-size=\"14.00\">gini = 0.0</text>\n",
       "<text text-anchor=\"start\" x=\"689.5\" y=\"-982.3\" font-family=\"Helvetica,sans-Serif\" font-size=\"14.00\">samples = 24</text>\n",
       "<text text-anchor=\"start\" x=\"687.5\" y=\"-967.3\" font-family=\"Helvetica,sans-Serif\" font-size=\"14.00\">value = [0, 24]</text>\n",
       "<text text-anchor=\"start\" x=\"679.5\" y=\"-952.3\" font-family=\"Helvetica,sans-Serif\" font-size=\"14.00\">class = poisoned</text>\n",
       "</g>\n",
       "<!-- 8&#45;&gt;32 -->\n",
       "<g id=\"edge32\" class=\"edge\">\n",
       "<title>8&#45;&gt;32</title>\n",
       "<path fill=\"none\" stroke=\"black\" d=\"M629.28,-1055.91C645.21,-1043.88 662.63,-1030.73 678.45,-1018.79\"/>\n",
       "<polygon fill=\"black\" stroke=\"black\" points=\"680.69,-1021.49 686.56,-1012.67 676.47,-1015.9 680.69,-1021.49\"/>\n",
       "</g>\n",
       "<!-- 10 -->\n",
       "<g id=\"node11\" class=\"node\">\n",
       "<title>10</title>\n",
       "<path fill=\"#e5833c\" stroke=\"black\" d=\"M631.5,-901C631.5,-901 509.5,-901 509.5,-901 503.5,-901 497.5,-895 497.5,-889 497.5,-889 497.5,-830 497.5,-830 497.5,-824 503.5,-818 509.5,-818 509.5,-818 631.5,-818 631.5,-818 637.5,-818 643.5,-824 643.5,-830 643.5,-830 643.5,-889 643.5,-889 643.5,-895 637.5,-901 631.5,-901\"/>\n",
       "<text text-anchor=\"start\" x=\"505.5\" y=\"-885.8\" font-family=\"Helvetica,sans-Serif\" font-size=\"14.00\">_cap_color_buff ≤ 0.5</text>\n",
       "<text text-anchor=\"start\" x=\"538.5\" y=\"-870.8\" font-family=\"Helvetica,sans-Serif\" font-size=\"14.00\">gini = 0.03</text>\n",
       "<text text-anchor=\"start\" x=\"522\" y=\"-855.8\" font-family=\"Helvetica,sans-Serif\" font-size=\"14.00\">samples = 2349</text>\n",
       "<text text-anchor=\"start\" x=\"516\" y=\"-840.8\" font-family=\"Helvetica,sans-Serif\" font-size=\"14.00\">value = [2313, 36]</text>\n",
       "<text text-anchor=\"start\" x=\"529\" y=\"-825.8\" font-family=\"Helvetica,sans-Serif\" font-size=\"14.00\">class = edible</text>\n",
       "</g>\n",
       "<!-- 9&#45;&gt;10 -->\n",
       "<g id=\"edge10\" class=\"edge\">\n",
       "<title>9&#45;&gt;10</title>\n",
       "<path fill=\"none\" stroke=\"black\" d=\"M571.81,-936.91C571.66,-928.56 571.51,-919.67 571.36,-911.02\"/>\n",
       "<polygon fill=\"black\" stroke=\"black\" points=\"574.86,-910.96 571.19,-901.02 567.86,-911.08 574.86,-910.96\"/>\n",
       "</g>\n",
       "<!-- 31 -->\n",
       "<g id=\"node32\" class=\"node\">\n",
       "<title>31</title>\n",
       "<path fill=\"#399de5\" stroke=\"black\" d=\"M767.5,-893.5C767.5,-893.5 673.5,-893.5 673.5,-893.5 667.5,-893.5 661.5,-887.5 661.5,-881.5 661.5,-881.5 661.5,-837.5 661.5,-837.5 661.5,-831.5 667.5,-825.5 673.5,-825.5 673.5,-825.5 767.5,-825.5 767.5,-825.5 773.5,-825.5 779.5,-831.5 779.5,-837.5 779.5,-837.5 779.5,-881.5 779.5,-881.5 779.5,-887.5 773.5,-893.5 767.5,-893.5\"/>\n",
       "<text text-anchor=\"start\" x=\"692.5\" y=\"-878.3\" font-family=\"Helvetica,sans-Serif\" font-size=\"14.00\">gini = 0.0</text>\n",
       "<text text-anchor=\"start\" x=\"679.5\" y=\"-863.3\" font-family=\"Helvetica,sans-Serif\" font-size=\"14.00\">samples = 17</text>\n",
       "<text text-anchor=\"start\" x=\"677.5\" y=\"-848.3\" font-family=\"Helvetica,sans-Serif\" font-size=\"14.00\">value = [0, 17]</text>\n",
       "<text text-anchor=\"start\" x=\"669.5\" y=\"-833.3\" font-family=\"Helvetica,sans-Serif\" font-size=\"14.00\">class = poisoned</text>\n",
       "</g>\n",
       "<!-- 9&#45;&gt;31 -->\n",
       "<g id=\"edge31\" class=\"edge\">\n",
       "<title>9&#45;&gt;31</title>\n",
       "<path fill=\"none\" stroke=\"black\" d=\"M623.85,-936.91C638.92,-924.99 655.39,-911.98 670.38,-900.12\"/>\n",
       "<polygon fill=\"black\" stroke=\"black\" points=\"672.87,-902.61 678.55,-893.67 668.53,-897.12 672.87,-902.61\"/>\n",
       "</g>\n",
       "<!-- 11 -->\n",
       "<g id=\"node12\" class=\"node\">\n",
       "<title>11</title>\n",
       "<path fill=\"#e5833c\" stroke=\"black\" d=\"M580,-782C580,-782 455,-782 455,-782 449,-782 443,-776 443,-770 443,-770 443,-711 443,-711 443,-705 449,-699 455,-699 455,-699 580,-699 580,-699 586,-699 592,-705 592,-711 592,-711 592,-770 592,-770 592,-776 586,-782 580,-782\"/>\n",
       "<text text-anchor=\"start\" x=\"451\" y=\"-766.8\" font-family=\"Helvetica,sans-Serif\" font-size=\"14.00\">_cap_color_pink ≤ 0.5</text>\n",
       "<text text-anchor=\"start\" x=\"482\" y=\"-751.8\" font-family=\"Helvetica,sans-Serif\" font-size=\"14.00\">gini = 0.025</text>\n",
       "<text text-anchor=\"start\" x=\"469\" y=\"-736.8\" font-family=\"Helvetica,sans-Serif\" font-size=\"14.00\">samples = 2304</text>\n",
       "<text text-anchor=\"start\" x=\"463\" y=\"-721.8\" font-family=\"Helvetica,sans-Serif\" font-size=\"14.00\">value = [2275, 29]</text>\n",
       "<text text-anchor=\"start\" x=\"476\" y=\"-706.8\" font-family=\"Helvetica,sans-Serif\" font-size=\"14.00\">class = edible</text>\n",
       "</g>\n",
       "<!-- 10&#45;&gt;11 -->\n",
       "<g id=\"edge11\" class=\"edge\">\n",
       "<title>10&#45;&gt;11</title>\n",
       "<path fill=\"none\" stroke=\"black\" d=\"M552.11,-817.91C548.21,-809.29 544.04,-800.09 540,-791.17\"/>\n",
       "<polygon fill=\"black\" stroke=\"black\" points=\"543.17,-789.69 535.86,-782.02 536.79,-792.57 543.17,-789.69\"/>\n",
       "</g>\n",
       "<!-- 28 -->\n",
       "<g id=\"node29\" class=\"node\">\n",
       "<title>28</title>\n",
       "<path fill=\"#ea985d\" stroke=\"black\" d=\"M769,-782C769,-782 622,-782 622,-782 616,-782 610,-776 610,-770 610,-770 610,-711 610,-711 610,-705 616,-699 622,-699 622,-699 769,-699 769,-699 775,-699 781,-705 781,-711 781,-711 781,-770 781,-770 781,-776 775,-782 769,-782\"/>\n",
       "<text text-anchor=\"start\" x=\"618\" y=\"-766.8\" font-family=\"Helvetica,sans-Serif\" font-size=\"14.00\">_population_several ≤ 0.5</text>\n",
       "<text text-anchor=\"start\" x=\"660\" y=\"-751.8\" font-family=\"Helvetica,sans-Serif\" font-size=\"14.00\">gini = 0.263</text>\n",
       "<text text-anchor=\"start\" x=\"654.5\" y=\"-736.8\" font-family=\"Helvetica,sans-Serif\" font-size=\"14.00\">samples = 45</text>\n",
       "<text text-anchor=\"start\" x=\"652.5\" y=\"-721.8\" font-family=\"Helvetica,sans-Serif\" font-size=\"14.00\">value = [38, 7]</text>\n",
       "<text text-anchor=\"start\" x=\"654\" y=\"-706.8\" font-family=\"Helvetica,sans-Serif\" font-size=\"14.00\">class = edible</text>\n",
       "</g>\n",
       "<!-- 10&#45;&gt;28 -->\n",
       "<g id=\"edge28\" class=\"edge\">\n",
       "<title>10&#45;&gt;28</title>\n",
       "<path fill=\"none\" stroke=\"black\" d=\"M613.87,-817.91C623.85,-808.56 634.56,-798.54 644.83,-788.93\"/>\n",
       "<polygon fill=\"black\" stroke=\"black\" points=\"647.3,-791.41 652.21,-782.02 642.52,-786.3 647.3,-791.41\"/>\n",
       "</g>\n",
       "<!-- 12 -->\n",
       "<g id=\"node13\" class=\"node\">\n",
       "<title>12</title>\n",
       "<path fill=\"#e5823b\" stroke=\"black\" d=\"M419,-663C419,-663 288,-663 288,-663 282,-663 276,-657 276,-651 276,-651 276,-592 276,-592 276,-586 282,-580 288,-580 288,-580 419,-580 419,-580 425,-580 431,-586 431,-592 431,-592 431,-651 431,-651 431,-657 425,-663 419,-663\"/>\n",
       "<text text-anchor=\"start\" x=\"284\" y=\"-647.8\" font-family=\"Helvetica,sans-Serif\" font-size=\"14.00\">_cap_color_white ≤ 0.5</text>\n",
       "<text text-anchor=\"start\" x=\"321.5\" y=\"-632.8\" font-family=\"Helvetica,sans-Serif\" font-size=\"14.00\">gini = 0.02</text>\n",
       "<text text-anchor=\"start\" x=\"305\" y=\"-617.8\" font-family=\"Helvetica,sans-Serif\" font-size=\"14.00\">samples = 2256</text>\n",
       "<text text-anchor=\"start\" x=\"299\" y=\"-602.8\" font-family=\"Helvetica,sans-Serif\" font-size=\"14.00\">value = [2233, 23]</text>\n",
       "<text text-anchor=\"start\" x=\"312\" y=\"-587.8\" font-family=\"Helvetica,sans-Serif\" font-size=\"14.00\">class = edible</text>\n",
       "</g>\n",
       "<!-- 11&#45;&gt;12 -->\n",
       "<g id=\"edge12\" class=\"edge\">\n",
       "<title>11&#45;&gt;12</title>\n",
       "<path fill=\"none\" stroke=\"black\" d=\"M460.6,-698.91C447.12,-689.29 432.63,-678.95 418.81,-669.09\"/>\n",
       "<polygon fill=\"black\" stroke=\"black\" points=\"420.47,-665.98 410.3,-663.02 416.41,-671.68 420.47,-665.98\"/>\n",
       "</g>\n",
       "<!-- 25 -->\n",
       "<g id=\"node26\" class=\"node\">\n",
       "<title>25</title>\n",
       "<path fill=\"#e99355\" stroke=\"black\" d=\"M590,-663C590,-663 461,-663 461,-663 455,-663 449,-657 449,-651 449,-651 449,-592 449,-592 449,-586 455,-580 461,-580 461,-580 590,-580 590,-580 596,-580 602,-586 602,-592 602,-592 602,-651 602,-651 602,-657 596,-663 590,-663\"/>\n",
       "<text text-anchor=\"start\" x=\"457\" y=\"-647.8\" font-family=\"Helvetica,sans-Serif\" font-size=\"14.00\">_habitat_grasses ≤ 0.5</text>\n",
       "<text text-anchor=\"start\" x=\"490\" y=\"-632.8\" font-family=\"Helvetica,sans-Serif\" font-size=\"14.00\">gini = 0.219</text>\n",
       "<text text-anchor=\"start\" x=\"484.5\" y=\"-617.8\" font-family=\"Helvetica,sans-Serif\" font-size=\"14.00\">samples = 48</text>\n",
       "<text text-anchor=\"start\" x=\"482.5\" y=\"-602.8\" font-family=\"Helvetica,sans-Serif\" font-size=\"14.00\">value = [42, 6]</text>\n",
       "<text text-anchor=\"start\" x=\"484\" y=\"-587.8\" font-family=\"Helvetica,sans-Serif\" font-size=\"14.00\">class = edible</text>\n",
       "</g>\n",
       "<!-- 11&#45;&gt;25 -->\n",
       "<g id=\"edge25\" class=\"edge\">\n",
       "<title>11&#45;&gt;25</title>\n",
       "<path fill=\"none\" stroke=\"black\" d=\"M520.28,-698.91C520.85,-690.56 521.45,-681.67 522.05,-673.02\"/>\n",
       "<polygon fill=\"black\" stroke=\"black\" points=\"525.54,-673.24 522.73,-663.02 518.56,-672.76 525.54,-673.24\"/>\n",
       "</g>\n",
       "<!-- 13 -->\n",
       "<g id=\"node14\" class=\"node\">\n",
       "<title>13</title>\n",
       "<path fill=\"#e5823a\" stroke=\"black\" d=\"M254.5,-544C254.5,-544 154.5,-544 154.5,-544 148.5,-544 142.5,-538 142.5,-532 142.5,-532 142.5,-473 142.5,-473 142.5,-467 148.5,-461 154.5,-461 154.5,-461 254.5,-461 254.5,-461 260.5,-461 266.5,-467 266.5,-473 266.5,-473 266.5,-532 266.5,-532 266.5,-538 260.5,-544 254.5,-544\"/>\n",
       "<text text-anchor=\"start\" x=\"150.5\" y=\"-528.8\" font-family=\"Helvetica,sans-Serif\" font-size=\"14.00\">_bruises_no ≤ 0.5</text>\n",
       "<text text-anchor=\"start\" x=\"169\" y=\"-513.8\" font-family=\"Helvetica,sans-Serif\" font-size=\"14.00\">gini = 0.008</text>\n",
       "<text text-anchor=\"start\" x=\"156\" y=\"-498.8\" font-family=\"Helvetica,sans-Serif\" font-size=\"14.00\">samples = 1951</text>\n",
       "<text text-anchor=\"start\" x=\"154\" y=\"-483.8\" font-family=\"Helvetica,sans-Serif\" font-size=\"14.00\">value = [1943, 8]</text>\n",
       "<text text-anchor=\"start\" x=\"163\" y=\"-468.8\" font-family=\"Helvetica,sans-Serif\" font-size=\"14.00\">class = edible</text>\n",
       "</g>\n",
       "<!-- 12&#45;&gt;13 -->\n",
       "<g id=\"edge13\" class=\"edge\">\n",
       "<title>12&#45;&gt;13</title>\n",
       "<path fill=\"none\" stroke=\"black\" d=\"M301.81,-579.91C289.67,-570.38 276.64,-560.15 264.19,-550.37\"/>\n",
       "<polygon fill=\"black\" stroke=\"black\" points=\"266.13,-547.44 256.1,-544.02 261.81,-552.95 266.13,-547.44\"/>\n",
       "</g>\n",
       "<!-- 22 -->\n",
       "<g id=\"node23\" class=\"node\">\n",
       "<title>22</title>\n",
       "<path fill=\"#e68843\" stroke=\"black\" d=\"M424.5,-544C424.5,-544 296.5,-544 296.5,-544 290.5,-544 284.5,-538 284.5,-532 284.5,-532 284.5,-473 284.5,-473 284.5,-467 290.5,-461 296.5,-461 296.5,-461 424.5,-461 424.5,-461 430.5,-461 436.5,-467 436.5,-473 436.5,-473 436.5,-532 436.5,-532 436.5,-538 430.5,-544 424.5,-544\"/>\n",
       "<text text-anchor=\"start\" x=\"292.5\" y=\"-528.8\" font-family=\"Helvetica,sans-Serif\" font-size=\"14.00\">_bruises_bruises ≤ 0.5</text>\n",
       "<text text-anchor=\"start\" x=\"325\" y=\"-513.8\" font-family=\"Helvetica,sans-Serif\" font-size=\"14.00\">gini = 0.094</text>\n",
       "<text text-anchor=\"start\" x=\"315.5\" y=\"-498.8\" font-family=\"Helvetica,sans-Serif\" font-size=\"14.00\">samples = 305</text>\n",
       "<text text-anchor=\"start\" x=\"310\" y=\"-483.8\" font-family=\"Helvetica,sans-Serif\" font-size=\"14.00\">value = [290, 15]</text>\n",
       "<text text-anchor=\"start\" x=\"319\" y=\"-468.8\" font-family=\"Helvetica,sans-Serif\" font-size=\"14.00\">class = edible</text>\n",
       "</g>\n",
       "<!-- 12&#45;&gt;22 -->\n",
       "<g id=\"edge22\" class=\"edge\">\n",
       "<title>12&#45;&gt;22</title>\n",
       "<path fill=\"none\" stroke=\"black\" d=\"M355.93,-579.91C356.43,-571.56 356.96,-562.67 357.48,-554.02\"/>\n",
       "<polygon fill=\"black\" stroke=\"black\" points=\"360.97,-554.21 358.08,-544.02 353.98,-553.79 360.97,-554.21\"/>\n",
       "</g>\n",
       "<!-- 14 -->\n",
       "<g id=\"node15\" class=\"node\">\n",
       "<title>14</title>\n",
       "<path fill=\"#e58139\" stroke=\"black\" d=\"M105,-417.5C105,-417.5 12,-417.5 12,-417.5 6,-417.5 0,-411.5 0,-405.5 0,-405.5 0,-361.5 0,-361.5 0,-355.5 6,-349.5 12,-349.5 12,-349.5 105,-349.5 105,-349.5 111,-349.5 117,-355.5 117,-361.5 117,-361.5 117,-405.5 117,-405.5 117,-411.5 111,-417.5 105,-417.5\"/>\n",
       "<text text-anchor=\"start\" x=\"30.5\" y=\"-402.3\" font-family=\"Helvetica,sans-Serif\" font-size=\"14.00\">gini = 0.0</text>\n",
       "<text text-anchor=\"start\" x=\"10\" y=\"-387.3\" font-family=\"Helvetica,sans-Serif\" font-size=\"14.00\">samples = 1265</text>\n",
       "<text text-anchor=\"start\" x=\"8\" y=\"-372.3\" font-family=\"Helvetica,sans-Serif\" font-size=\"14.00\">value = [1265, 0]</text>\n",
       "<text text-anchor=\"start\" x=\"17\" y=\"-357.3\" font-family=\"Helvetica,sans-Serif\" font-size=\"14.00\">class = edible</text>\n",
       "</g>\n",
       "<!-- 13&#45;&gt;14 -->\n",
       "<g id=\"edge14\" class=\"edge\">\n",
       "<title>13&#45;&gt;14</title>\n",
       "<path fill=\"none\" stroke=\"black\" d=\"M153.85,-460.91C138.97,-448.99 122.73,-435.98 107.94,-424.12\"/>\n",
       "<polygon fill=\"black\" stroke=\"black\" points=\"109.88,-421.19 99.89,-417.67 105.5,-426.65 109.88,-421.19\"/>\n",
       "</g>\n",
       "<!-- 15 -->\n",
       "<g id=\"node16\" class=\"node\">\n",
       "<title>15</title>\n",
       "<path fill=\"#e5823b\" stroke=\"black\" d=\"M268,-425C268,-425 147,-425 147,-425 141,-425 135,-419 135,-413 135,-413 135,-354 135,-354 135,-348 141,-342 147,-342 147,-342 268,-342 268,-342 274,-342 280,-348 280,-354 280,-354 280,-413 280,-413 280,-419 274,-425 268,-425\"/>\n",
       "<text text-anchor=\"start\" x=\"143\" y=\"-409.8\" font-family=\"Helvetica,sans-Serif\" font-size=\"14.00\">_habitat_woods ≤ 0.5</text>\n",
       "<text text-anchor=\"start\" x=\"172\" y=\"-394.8\" font-family=\"Helvetica,sans-Serif\" font-size=\"14.00\">gini = 0.023</text>\n",
       "<text text-anchor=\"start\" x=\"162.5\" y=\"-379.8\" font-family=\"Helvetica,sans-Serif\" font-size=\"14.00\">samples = 686</text>\n",
       "<text text-anchor=\"start\" x=\"160.5\" y=\"-364.8\" font-family=\"Helvetica,sans-Serif\" font-size=\"14.00\">value = [678, 8]</text>\n",
       "<text text-anchor=\"start\" x=\"166\" y=\"-349.8\" font-family=\"Helvetica,sans-Serif\" font-size=\"14.00\">class = edible</text>\n",
       "</g>\n",
       "<!-- 13&#45;&gt;15 -->\n",
       "<g id=\"edge15\" class=\"edge\">\n",
       "<title>13&#45;&gt;15</title>\n",
       "<path fill=\"none\" stroke=\"black\" d=\"M205.54,-460.91C205.75,-452.56 205.98,-443.67 206.2,-435.02\"/>\n",
       "<polygon fill=\"black\" stroke=\"black\" points=\"209.7,-435.11 206.46,-425.02 202.71,-434.93 209.7,-435.11\"/>\n",
       "</g>\n",
       "<!-- 16 -->\n",
       "<g id=\"node17\" class=\"node\">\n",
       "<title>16</title>\n",
       "<path fill=\"#e58139\" stroke=\"black\" d=\"M173.5,-298.5C173.5,-298.5 87.5,-298.5 87.5,-298.5 81.5,-298.5 75.5,-292.5 75.5,-286.5 75.5,-286.5 75.5,-242.5 75.5,-242.5 75.5,-236.5 81.5,-230.5 87.5,-230.5 87.5,-230.5 173.5,-230.5 173.5,-230.5 179.5,-230.5 185.5,-236.5 185.5,-242.5 185.5,-242.5 185.5,-286.5 185.5,-286.5 185.5,-292.5 179.5,-298.5 173.5,-298.5\"/>\n",
       "<text text-anchor=\"start\" x=\"102.5\" y=\"-283.3\" font-family=\"Helvetica,sans-Serif\" font-size=\"14.00\">gini = 0.0</text>\n",
       "<text text-anchor=\"start\" x=\"85.5\" y=\"-268.3\" font-family=\"Helvetica,sans-Serif\" font-size=\"14.00\">samples = 650</text>\n",
       "<text text-anchor=\"start\" x=\"83.5\" y=\"-253.3\" font-family=\"Helvetica,sans-Serif\" font-size=\"14.00\">value = [650, 0]</text>\n",
       "<text text-anchor=\"start\" x=\"89\" y=\"-238.3\" font-family=\"Helvetica,sans-Serif\" font-size=\"14.00\">class = edible</text>\n",
       "</g>\n",
       "<!-- 15&#45;&gt;16 -->\n",
       "<g id=\"edge16\" class=\"edge\">\n",
       "<title>15&#45;&gt;16</title>\n",
       "<path fill=\"none\" stroke=\"black\" d=\"M180.79,-341.91C173.38,-330.65 165.33,-318.42 157.88,-307.11\"/>\n",
       "<polygon fill=\"black\" stroke=\"black\" points=\"160.75,-305.1 152.33,-298.67 154.9,-308.94 160.75,-305.1\"/>\n",
       "</g>\n",
       "<!-- 17 -->\n",
       "<g id=\"node18\" class=\"node\">\n",
       "<title>17</title>\n",
       "<path fill=\"#eca572\" stroke=\"black\" d=\"M353,-306C353,-306 216,-306 216,-306 210,-306 204,-300 204,-294 204,-294 204,-235 204,-235 204,-229 210,-223 216,-223 216,-223 353,-223 353,-223 359,-223 365,-229 365,-235 365,-235 365,-294 365,-294 365,-300 359,-306 353,-306\"/>\n",
       "<text text-anchor=\"start\" x=\"212\" y=\"-290.8\" font-family=\"Helvetica,sans-Serif\" font-size=\"14.00\">_cap_color_brown ≤ 0.5</text>\n",
       "<text text-anchor=\"start\" x=\"249\" y=\"-275.8\" font-family=\"Helvetica,sans-Serif\" font-size=\"14.00\">gini = 0.346</text>\n",
       "<text text-anchor=\"start\" x=\"243.5\" y=\"-260.8\" font-family=\"Helvetica,sans-Serif\" font-size=\"14.00\">samples = 36</text>\n",
       "<text text-anchor=\"start\" x=\"241.5\" y=\"-245.8\" font-family=\"Helvetica,sans-Serif\" font-size=\"14.00\">value = [28, 8]</text>\n",
       "<text text-anchor=\"start\" x=\"243\" y=\"-230.8\" font-family=\"Helvetica,sans-Serif\" font-size=\"14.00\">class = edible</text>\n",
       "</g>\n",
       "<!-- 15&#45;&gt;17 -->\n",
       "<g id=\"edge17\" class=\"edge\">\n",
       "<title>15&#45;&gt;17</title>\n",
       "<path fill=\"none\" stroke=\"black\" d=\"M234.21,-341.91C240.01,-333.1 246.2,-323.7 252.18,-314.61\"/>\n",
       "<polygon fill=\"black\" stroke=\"black\" points=\"255.26,-316.3 257.83,-306.02 249.41,-312.45 255.26,-316.3\"/>\n",
       "</g>\n",
       "<!-- 18 -->\n",
       "<g id=\"node19\" class=\"node\">\n",
       "<title>18</title>\n",
       "<path fill=\"#e58139\" stroke=\"black\" d=\"M246.5,-179.5C246.5,-179.5 168.5,-179.5 168.5,-179.5 162.5,-179.5 156.5,-173.5 156.5,-167.5 156.5,-167.5 156.5,-123.5 156.5,-123.5 156.5,-117.5 162.5,-111.5 168.5,-111.5 168.5,-111.5 246.5,-111.5 246.5,-111.5 252.5,-111.5 258.5,-117.5 258.5,-123.5 258.5,-123.5 258.5,-167.5 258.5,-167.5 258.5,-173.5 252.5,-179.5 246.5,-179.5\"/>\n",
       "<text text-anchor=\"start\" x=\"179.5\" y=\"-164.3\" font-family=\"Helvetica,sans-Serif\" font-size=\"14.00\">gini = 0.0</text>\n",
       "<text text-anchor=\"start\" x=\"166.5\" y=\"-149.3\" font-family=\"Helvetica,sans-Serif\" font-size=\"14.00\">samples = 21</text>\n",
       "<text text-anchor=\"start\" x=\"164.5\" y=\"-134.3\" font-family=\"Helvetica,sans-Serif\" font-size=\"14.00\">value = [21, 0]</text>\n",
       "<text text-anchor=\"start\" x=\"166\" y=\"-119.3\" font-family=\"Helvetica,sans-Serif\" font-size=\"14.00\">class = edible</text>\n",
       "</g>\n",
       "<!-- 17&#45;&gt;18 -->\n",
       "<g id=\"edge18\" class=\"edge\">\n",
       "<title>17&#45;&gt;18</title>\n",
       "<path fill=\"none\" stroke=\"black\" d=\"M257.79,-222.91C250.38,-211.65 242.33,-199.42 234.88,-188.11\"/>\n",
       "<polygon fill=\"black\" stroke=\"black\" points=\"237.75,-186.1 229.33,-179.67 231.9,-189.94 237.75,-186.1\"/>\n",
       "</g>\n",
       "<!-- 19 -->\n",
       "<g id=\"node20\" class=\"node\">\n",
       "<title>19</title>\n",
       "<path fill=\"#e6f3fc\" stroke=\"black\" d=\"M436,-187C436,-187 289,-187 289,-187 283,-187 277,-181 277,-175 277,-175 277,-116 277,-116 277,-110 283,-104 289,-104 289,-104 436,-104 436,-104 442,-104 448,-110 448,-116 448,-116 448,-175 448,-175 448,-181 442,-187 436,-187\"/>\n",
       "<text text-anchor=\"start\" x=\"285\" y=\"-171.8\" font-family=\"Helvetica,sans-Serif\" font-size=\"14.00\">_population_several ≤ 0.5</text>\n",
       "<text text-anchor=\"start\" x=\"327\" y=\"-156.8\" font-family=\"Helvetica,sans-Serif\" font-size=\"14.00\">gini = 0.498</text>\n",
       "<text text-anchor=\"start\" x=\"321.5\" y=\"-141.8\" font-family=\"Helvetica,sans-Serif\" font-size=\"14.00\">samples = 15</text>\n",
       "<text text-anchor=\"start\" x=\"323\" y=\"-126.8\" font-family=\"Helvetica,sans-Serif\" font-size=\"14.00\">value = [7, 8]</text>\n",
       "<text text-anchor=\"start\" x=\"311.5\" y=\"-111.8\" font-family=\"Helvetica,sans-Serif\" font-size=\"14.00\">class = poisoned</text>\n",
       "</g>\n",
       "<!-- 17&#45;&gt;19 -->\n",
       "<g id=\"edge19\" class=\"edge\">\n",
       "<title>17&#45;&gt;19</title>\n",
       "<path fill=\"none\" stroke=\"black\" d=\"M311.56,-222.91C317.43,-214.1 323.7,-204.7 329.76,-195.61\"/>\n",
       "<polygon fill=\"black\" stroke=\"black\" points=\"332.85,-197.28 335.49,-187.02 327.03,-193.4 332.85,-197.28\"/>\n",
       "</g>\n",
       "<!-- 20 -->\n",
       "<g id=\"node21\" class=\"node\">\n",
       "<title>20</title>\n",
       "<path fill=\"#e58139\" stroke=\"black\" d=\"M336,-68C336,-68 261,-68 261,-68 255,-68 249,-62 249,-56 249,-56 249,-12 249,-12 249,-6 255,0 261,0 261,0 336,0 336,0 342,0 348,-6 348,-12 348,-12 348,-56 348,-56 348,-62 342,-68 336,-68\"/>\n",
       "<text text-anchor=\"start\" x=\"270.5\" y=\"-52.8\" font-family=\"Helvetica,sans-Serif\" font-size=\"14.00\">gini = 0.0</text>\n",
       "<text text-anchor=\"start\" x=\"261\" y=\"-37.8\" font-family=\"Helvetica,sans-Serif\" font-size=\"14.00\">samples = 7</text>\n",
       "<text text-anchor=\"start\" x=\"259\" y=\"-22.8\" font-family=\"Helvetica,sans-Serif\" font-size=\"14.00\">value = [7, 0]</text>\n",
       "<text text-anchor=\"start\" x=\"257\" y=\"-7.8\" font-family=\"Helvetica,sans-Serif\" font-size=\"14.00\">class = edible</text>\n",
       "</g>\n",
       "<!-- 19&#45;&gt;20 -->\n",
       "<g id=\"edge20\" class=\"edge\">\n",
       "<title>19&#45;&gt;20</title>\n",
       "<path fill=\"none\" stroke=\"black\" d=\"M338.67,-103.73C333.6,-95.06 328.25,-85.9 323.15,-77.18\"/>\n",
       "<polygon fill=\"black\" stroke=\"black\" points=\"326.03,-75.17 317.96,-68.3 319.99,-78.7 326.03,-75.17\"/>\n",
       "</g>\n",
       "<!-- 21 -->\n",
       "<g id=\"node22\" class=\"node\">\n",
       "<title>21</title>\n",
       "<path fill=\"#399de5\" stroke=\"black\" d=\"M472.5,-68C472.5,-68 378.5,-68 378.5,-68 372.5,-68 366.5,-62 366.5,-56 366.5,-56 366.5,-12 366.5,-12 366.5,-6 372.5,0 378.5,0 378.5,0 472.5,0 472.5,0 478.5,0 484.5,-6 484.5,-12 484.5,-12 484.5,-56 484.5,-56 484.5,-62 478.5,-68 472.5,-68\"/>\n",
       "<text text-anchor=\"start\" x=\"397.5\" y=\"-52.8\" font-family=\"Helvetica,sans-Serif\" font-size=\"14.00\">gini = 0.0</text>\n",
       "<text text-anchor=\"start\" x=\"388\" y=\"-37.8\" font-family=\"Helvetica,sans-Serif\" font-size=\"14.00\">samples = 8</text>\n",
       "<text text-anchor=\"start\" x=\"386\" y=\"-22.8\" font-family=\"Helvetica,sans-Serif\" font-size=\"14.00\">value = [0, 8]</text>\n",
       "<text text-anchor=\"start\" x=\"374.5\" y=\"-7.8\" font-family=\"Helvetica,sans-Serif\" font-size=\"14.00\">class = poisoned</text>\n",
       "</g>\n",
       "<!-- 19&#45;&gt;21 -->\n",
       "<g id=\"edge21\" class=\"edge\">\n",
       "<title>19&#45;&gt;21</title>\n",
       "<path fill=\"none\" stroke=\"black\" d=\"M385.96,-103.73C390.94,-95.06 396.22,-85.9 401.23,-77.18\"/>\n",
       "<polygon fill=\"black\" stroke=\"black\" points=\"404.39,-78.71 406.34,-68.3 398.32,-75.22 404.39,-78.71\"/>\n",
       "</g>\n",
       "<!-- 23 -->\n",
       "<g id=\"node24\" class=\"node\">\n",
       "<title>23</title>\n",
       "<path fill=\"#e58139\" stroke=\"black\" d=\"M401.5,-417.5C401.5,-417.5 315.5,-417.5 315.5,-417.5 309.5,-417.5 303.5,-411.5 303.5,-405.5 303.5,-405.5 303.5,-361.5 303.5,-361.5 303.5,-355.5 309.5,-349.5 315.5,-349.5 315.5,-349.5 401.5,-349.5 401.5,-349.5 407.5,-349.5 413.5,-355.5 413.5,-361.5 413.5,-361.5 413.5,-405.5 413.5,-405.5 413.5,-411.5 407.5,-417.5 401.5,-417.5\"/>\n",
       "<text text-anchor=\"start\" x=\"330.5\" y=\"-402.3\" font-family=\"Helvetica,sans-Serif\" font-size=\"14.00\">gini = 0.0</text>\n",
       "<text text-anchor=\"start\" x=\"313.5\" y=\"-387.3\" font-family=\"Helvetica,sans-Serif\" font-size=\"14.00\">samples = 290</text>\n",
       "<text text-anchor=\"start\" x=\"311.5\" y=\"-372.3\" font-family=\"Helvetica,sans-Serif\" font-size=\"14.00\">value = [290, 0]</text>\n",
       "<text text-anchor=\"start\" x=\"317\" y=\"-357.3\" font-family=\"Helvetica,sans-Serif\" font-size=\"14.00\">class = edible</text>\n",
       "</g>\n",
       "<!-- 22&#45;&gt;23 -->\n",
       "<g id=\"edge23\" class=\"edge\">\n",
       "<title>22&#45;&gt;23</title>\n",
       "<path fill=\"none\" stroke=\"black\" d=\"M359.81,-460.91C359.62,-450.2 359.43,-438.62 359.24,-427.78\"/>\n",
       "<polygon fill=\"black\" stroke=\"black\" points=\"362.74,-427.61 359.07,-417.67 355.74,-427.73 362.74,-427.61\"/>\n",
       "</g>\n",
       "<!-- 24 -->\n",
       "<g id=\"node25\" class=\"node\">\n",
       "<title>24</title>\n",
       "<path fill=\"#399de5\" stroke=\"black\" d=\"M537.5,-417.5C537.5,-417.5 443.5,-417.5 443.5,-417.5 437.5,-417.5 431.5,-411.5 431.5,-405.5 431.5,-405.5 431.5,-361.5 431.5,-361.5 431.5,-355.5 437.5,-349.5 443.5,-349.5 443.5,-349.5 537.5,-349.5 537.5,-349.5 543.5,-349.5 549.5,-355.5 549.5,-361.5 549.5,-361.5 549.5,-405.5 549.5,-405.5 549.5,-411.5 543.5,-417.5 537.5,-417.5\"/>\n",
       "<text text-anchor=\"start\" x=\"462.5\" y=\"-402.3\" font-family=\"Helvetica,sans-Serif\" font-size=\"14.00\">gini = 0.0</text>\n",
       "<text text-anchor=\"start\" x=\"449.5\" y=\"-387.3\" font-family=\"Helvetica,sans-Serif\" font-size=\"14.00\">samples = 15</text>\n",
       "<text text-anchor=\"start\" x=\"447.5\" y=\"-372.3\" font-family=\"Helvetica,sans-Serif\" font-size=\"14.00\">value = [0, 15]</text>\n",
       "<text text-anchor=\"start\" x=\"439.5\" y=\"-357.3\" font-family=\"Helvetica,sans-Serif\" font-size=\"14.00\">class = poisoned</text>\n",
       "</g>\n",
       "<!-- 22&#45;&gt;24 -->\n",
       "<g id=\"edge24\" class=\"edge\">\n",
       "<title>22&#45;&gt;24</title>\n",
       "<path fill=\"none\" stroke=\"black\" d=\"M405.6,-460.91C418.72,-449.1 433.04,-436.22 446.11,-424.45\"/>\n",
       "<polygon fill=\"black\" stroke=\"black\" points=\"448.56,-426.96 453.65,-417.67 443.87,-421.76 448.56,-426.96\"/>\n",
       "</g>\n",
       "<!-- 26 -->\n",
       "<g id=\"node27\" class=\"node\">\n",
       "<title>26</title>\n",
       "<path fill=\"#e58139\" stroke=\"black\" d=\"M557.5,-536.5C557.5,-536.5 479.5,-536.5 479.5,-536.5 473.5,-536.5 467.5,-530.5 467.5,-524.5 467.5,-524.5 467.5,-480.5 467.5,-480.5 467.5,-474.5 473.5,-468.5 479.5,-468.5 479.5,-468.5 557.5,-468.5 557.5,-468.5 563.5,-468.5 569.5,-474.5 569.5,-480.5 569.5,-480.5 569.5,-524.5 569.5,-524.5 569.5,-530.5 563.5,-536.5 557.5,-536.5\"/>\n",
       "<text text-anchor=\"start\" x=\"490.5\" y=\"-521.3\" font-family=\"Helvetica,sans-Serif\" font-size=\"14.00\">gini = 0.0</text>\n",
       "<text text-anchor=\"start\" x=\"477.5\" y=\"-506.3\" font-family=\"Helvetica,sans-Serif\" font-size=\"14.00\">samples = 42</text>\n",
       "<text text-anchor=\"start\" x=\"475.5\" y=\"-491.3\" font-family=\"Helvetica,sans-Serif\" font-size=\"14.00\">value = [42, 0]</text>\n",
       "<text text-anchor=\"start\" x=\"477\" y=\"-476.3\" font-family=\"Helvetica,sans-Serif\" font-size=\"14.00\">class = edible</text>\n",
       "</g>\n",
       "<!-- 25&#45;&gt;26 -->\n",
       "<g id=\"edge26\" class=\"edge\">\n",
       "<title>25&#45;&gt;26</title>\n",
       "<path fill=\"none\" stroke=\"black\" d=\"M523.07,-579.91C522.43,-569.2 521.74,-557.62 521.09,-546.78\"/>\n",
       "<polygon fill=\"black\" stroke=\"black\" points=\"524.58,-546.44 520.48,-536.67 517.59,-546.86 524.58,-546.44\"/>\n",
       "</g>\n",
       "<!-- 27 -->\n",
       "<g id=\"node28\" class=\"node\">\n",
       "<title>27</title>\n",
       "<path fill=\"#399de5\" stroke=\"black\" d=\"M693.5,-536.5C693.5,-536.5 599.5,-536.5 599.5,-536.5 593.5,-536.5 587.5,-530.5 587.5,-524.5 587.5,-524.5 587.5,-480.5 587.5,-480.5 587.5,-474.5 593.5,-468.5 599.5,-468.5 599.5,-468.5 693.5,-468.5 693.5,-468.5 699.5,-468.5 705.5,-474.5 705.5,-480.5 705.5,-480.5 705.5,-524.5 705.5,-524.5 705.5,-530.5 699.5,-536.5 693.5,-536.5\"/>\n",
       "<text text-anchor=\"start\" x=\"618.5\" y=\"-521.3\" font-family=\"Helvetica,sans-Serif\" font-size=\"14.00\">gini = 0.0</text>\n",
       "<text text-anchor=\"start\" x=\"609\" y=\"-506.3\" font-family=\"Helvetica,sans-Serif\" font-size=\"14.00\">samples = 6</text>\n",
       "<text text-anchor=\"start\" x=\"607\" y=\"-491.3\" font-family=\"Helvetica,sans-Serif\" font-size=\"14.00\">value = [0, 6]</text>\n",
       "<text text-anchor=\"start\" x=\"595.5\" y=\"-476.3\" font-family=\"Helvetica,sans-Serif\" font-size=\"14.00\">class = poisoned</text>\n",
       "</g>\n",
       "<!-- 25&#45;&gt;27 -->\n",
       "<g id=\"edge27\" class=\"edge\">\n",
       "<title>25&#45;&gt;27</title>\n",
       "<path fill=\"none\" stroke=\"black\" d=\"M567.48,-579.91C579.58,-568.21 592.77,-555.46 604.84,-543.78\"/>\n",
       "<polygon fill=\"black\" stroke=\"black\" points=\"607.44,-546.13 612.2,-536.67 602.58,-541.1 607.44,-546.13\"/>\n",
       "</g>\n",
       "<!-- 29 -->\n",
       "<g id=\"node30\" class=\"node\">\n",
       "<title>29</title>\n",
       "<path fill=\"#e58139\" stroke=\"black\" d=\"M726.5,-655.5C726.5,-655.5 648.5,-655.5 648.5,-655.5 642.5,-655.5 636.5,-649.5 636.5,-643.5 636.5,-643.5 636.5,-599.5 636.5,-599.5 636.5,-593.5 642.5,-587.5 648.5,-587.5 648.5,-587.5 726.5,-587.5 726.5,-587.5 732.5,-587.5 738.5,-593.5 738.5,-599.5 738.5,-599.5 738.5,-643.5 738.5,-643.5 738.5,-649.5 732.5,-655.5 726.5,-655.5\"/>\n",
       "<text text-anchor=\"start\" x=\"659.5\" y=\"-640.3\" font-family=\"Helvetica,sans-Serif\" font-size=\"14.00\">gini = 0.0</text>\n",
       "<text text-anchor=\"start\" x=\"646.5\" y=\"-625.3\" font-family=\"Helvetica,sans-Serif\" font-size=\"14.00\">samples = 38</text>\n",
       "<text text-anchor=\"start\" x=\"644.5\" y=\"-610.3\" font-family=\"Helvetica,sans-Serif\" font-size=\"14.00\">value = [38, 0]</text>\n",
       "<text text-anchor=\"start\" x=\"646\" y=\"-595.3\" font-family=\"Helvetica,sans-Serif\" font-size=\"14.00\">class = edible</text>\n",
       "</g>\n",
       "<!-- 28&#45;&gt;29 -->\n",
       "<g id=\"edge29\" class=\"edge\">\n",
       "<title>28&#45;&gt;29</title>\n",
       "<path fill=\"none\" stroke=\"black\" d=\"M692.72,-698.91C691.99,-688.2 691.2,-676.62 690.46,-665.78\"/>\n",
       "<polygon fill=\"black\" stroke=\"black\" points=\"693.94,-665.4 689.77,-655.67 686.96,-665.88 693.94,-665.4\"/>\n",
       "</g>\n",
       "<!-- 30 -->\n",
       "<g id=\"node31\" class=\"node\">\n",
       "<title>30</title>\n",
       "<path fill=\"#399de5\" stroke=\"black\" d=\"M862.5,-655.5C862.5,-655.5 768.5,-655.5 768.5,-655.5 762.5,-655.5 756.5,-649.5 756.5,-643.5 756.5,-643.5 756.5,-599.5 756.5,-599.5 756.5,-593.5 762.5,-587.5 768.5,-587.5 768.5,-587.5 862.5,-587.5 862.5,-587.5 868.5,-587.5 874.5,-593.5 874.5,-599.5 874.5,-599.5 874.5,-643.5 874.5,-643.5 874.5,-649.5 868.5,-655.5 862.5,-655.5\"/>\n",
       "<text text-anchor=\"start\" x=\"787.5\" y=\"-640.3\" font-family=\"Helvetica,sans-Serif\" font-size=\"14.00\">gini = 0.0</text>\n",
       "<text text-anchor=\"start\" x=\"778\" y=\"-625.3\" font-family=\"Helvetica,sans-Serif\" font-size=\"14.00\">samples = 7</text>\n",
       "<text text-anchor=\"start\" x=\"776\" y=\"-610.3\" font-family=\"Helvetica,sans-Serif\" font-size=\"14.00\">value = [0, 7]</text>\n",
       "<text text-anchor=\"start\" x=\"764.5\" y=\"-595.3\" font-family=\"Helvetica,sans-Serif\" font-size=\"14.00\">class = poisoned</text>\n",
       "</g>\n",
       "<!-- 28&#45;&gt;30 -->\n",
       "<g id=\"edge30\" class=\"edge\">\n",
       "<title>28&#45;&gt;30</title>\n",
       "<path fill=\"none\" stroke=\"black\" d=\"M737.13,-698.91C749.13,-687.21 762.21,-674.46 774.19,-662.78\"/>\n",
       "<polygon fill=\"black\" stroke=\"black\" points=\"776.77,-665.15 781.48,-655.67 771.88,-660.14 776.77,-665.15\"/>\n",
       "</g>\n",
       "</g>\n",
       "</svg>\n"
      ],
      "text/plain": [
       "<graphviz.sources.Source at 0x7f916201b970>"
      ]
     },
     "execution_count": 39,
     "metadata": {},
     "output_type": "execute_result"
    }
   ],
   "source": [
    "mushroom.tree_vis()"
   ]
  }
 ],
 "metadata": {
  "hide_input": false,
  "kernelspec": {
   "display_name": "mushrooms",
   "language": "python",
   "name": "mushrooms"
  },
  "language_info": {
   "codemirror_mode": {
    "name": "ipython",
    "version": 3
   },
   "file_extension": ".py",
   "mimetype": "text/x-python",
   "name": "python",
   "nbconvert_exporter": "python",
   "pygments_lexer": "ipython3",
   "version": "3.9.4"
  },
  "toc": {
   "base_numbering": 1,
   "nav_menu": {},
   "number_sections": false,
   "sideBar": true,
   "skip_h1_title": false,
   "title_cell": "Table of Contents",
   "title_sidebar": "Contents",
   "toc_cell": false,
   "toc_position": {},
   "toc_section_display": true,
   "toc_window_display": false
  },
  "varInspector": {
   "cols": {
    "lenName": 16,
    "lenType": 16,
    "lenVar": 40
   },
   "kernels_config": {
    "python": {
     "delete_cmd_postfix": "",
     "delete_cmd_prefix": "del ",
     "library": "var_list.py",
     "varRefreshCmd": "print(var_dic_list())"
    },
    "r": {
     "delete_cmd_postfix": ") ",
     "delete_cmd_prefix": "rm(",
     "library": "var_list.r",
     "varRefreshCmd": "cat(var_dic_list()) "
    }
   },
   "types_to_exclude": [
    "module",
    "function",
    "builtin_function_or_method",
    "instance",
    "_Feature"
   ],
   "window_display": false
  },
  "vscode": {
   "interpreter": {
    "hash": "af79a4b85d7a0d41aa5392ce35f1d90aaaabd4e2285ef769936e8890313ca176"
   }
  }
 },
 "nbformat": 4,
 "nbformat_minor": 5
}
