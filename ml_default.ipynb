{
 "cells": [
  {
   "cell_type": "code",
   "execution_count": 106,
   "id": "726b0356",
   "metadata": {
    "ExecuteTime": {
     "end_time": "2022-07-20T11:04:20.387205Z",
     "start_time": "2022-07-20T11:04:20.334957Z"
    }
   },
   "outputs": [],
   "source": [
    "import pandas as pd\n",
    "import os\n",
    "import matplotlib\n",
    "#matplotlib.use('AGG')\n",
    "import matplotlib.pyplot as plt\n",
    "import numpy as np\n",
    "import seaborn as sns\n",
    "sns.set_theme(style=\"white\", rc={\n",
    "        \"axes.edgecolor\": \"black\",\n",
    "        \"ytick.color\":\"black\",\n",
    "        'axes.spines.left': False,      \n",
    "        'axes.spines.right': False,\n",
    "        'axes.spines.top': False})\n",
    "\n",
    "#ml process\n",
    "from sklearn.model_selection import train_test_split, GridSearchCV, cross_val_score\n",
    "from sklearn.pipeline import make_pipeline\n",
    "from sklearn.compose import make_column_transformer\n",
    "\n",
    "#preprocessing\n",
    "from sklearn.preprocessing import OrdinalEncoder, OneHotEncoder\n",
    "\n",
    "#models\n",
    "from sklearn.tree import DecisionTreeClassifier\n",
    "from sklearn.svm import LinearSVC\n",
    "from sklearn.neighbors import KNeighborsClassifier\n",
    "from sklearn.linear_model import SGDClassifier, LogisticRegression, RidgeClassifierCV\n",
    "from sklearn.ensemble import StackingClassifier, RandomForestClassifier, GradientBoostingClassifier, AdaBoostClassifier\n",
    "\n",
    "#metrics\n",
    "from sklearn.metrics import confusion_matrix, accuracy_score, precision_score, recall_score, f1_score, classification_report, confusion_matrix, ConfusionMatrixDisplay\n",
    "\n",
    "#save\n",
    "from joblib import dump, load"
   ]
  },
  {
   "cell_type": "code",
   "execution_count": 107,
   "id": "6539e6f8",
   "metadata": {
    "ExecuteTime": {
     "end_time": "2022-07-20T11:04:24.008135Z",
     "start_time": "2022-07-20T11:04:23.778094Z"
    }
   },
   "outputs": [],
   "source": [
    "import sqlite3\n",
    "# Read sqlite query results into a pandas DataFrame\n",
    "conn = sqlite3.connect(\"mushrooms.sqlite\")\n",
    "df = pd.read_sql_query(\"SELECT * from data\", conn)"
   ]
  },
  {
   "cell_type": "code",
   "execution_count": 126,
   "id": "d2e0080b",
   "metadata": {
    "ExecuteTime": {
     "end_time": "2022-07-20T11:17:52.467073Z",
     "start_time": "2022-07-20T11:17:52.415994Z"
    }
   },
   "outputs": [],
   "source": [
    "class Mushroom_ml():\n",
    "    \n",
    "    \n",
    "    def __init__(self,df, target):\n",
    "        \"\"\"--------------------------------------------------------\n",
    "        Initialize Object with Data\n",
    "\n",
    "            Parameters\n",
    "            df, target\n",
    "\n",
    "            Returns\n",
    "            None \n",
    "        ---------------------------------------------------------\"\"\"\n",
    "        self.df = df\n",
    "        self.X = df.drop(target, axis = 1)\n",
    "        self.y = df[target]\n",
    "        self.target = target\n",
    "        self.list_models = [\n",
    "            LogisticRegression(),\n",
    "            SGDClassifier(),\n",
    "            LinearSVC(),\n",
    "            KNeighborsClassifier(n_neighbors=10),\n",
    "            DecisionTreeClassifier(),\n",
    "            StackingClassifier([\n",
    "                    ('model_1', LogisticRegression()),('model_2', LogisticRegression())\n",
    "                ], final_estimator=LogisticRegression()),\n",
    "            AdaBoostClassifier(),\n",
    "            GradientBoostingClassifier(),\n",
    "            RandomForestClassifier(n_estimators=10)\n",
    "        ]\n",
    "#--------------------------------------------------------------------\n",
    "#--------------------------------------------------------------------\n",
    "\n",
    "    def df_to_html(self, df, df_name:str, lines:int = 5, columns:int = 5):\n",
    "        \"\"\"--------------------------------------------------------\n",
    "        Transform df to HTML string\n",
    "            Parameters\n",
    "            dataframe, sample, nb_lines displayed, nb_column displayed\n",
    "\n",
    "            Returns\n",
    "            dict with target name and string of buffer img source\n",
    "        ---------------------------------------------------------\"\"\"\n",
    "\n",
    "        return df.to_html(max_rows=lines, max_cols=columns) \n",
    "    \n",
    "#--------------------------------------------------------------------\n",
    "#--------------------------------------------------------------------\n",
    "\n",
    "    def df_drop_cols(self, df, cols):\n",
    "        \"\"\"--------------------------------------------------------\n",
    "        drop cols in df from list and update df\n",
    "            Parameters\n",
    "            dataframe, columns_names to drop\n",
    "\n",
    "            Returns\n",
    "            df updated\n",
    "        ---------------------------------------------------------\"\"\"\n",
    "\n",
    "        df=df.drop(cols, axis=1)\n",
    "\n",
    "        return df \n",
    "    \n",
    "#--------------------------------------------------------------------\n",
    "#--------------------------------------------------------------------\n",
    "\n",
    "    def train_test_split(self, X, y):\n",
    "        \"\"\"--------------------------------------------------------\n",
    "        separate dataset in training and testing sets\n",
    "\n",
    "            Parameters\n",
    "            X(features), y(target)\n",
    "\n",
    "            Returns\n",
    "            None\n",
    "        ---------------------------------------------------------\"\"\"\n",
    "        self.X_train, self.X_test, self.y_train, self.y_test = train_test_split(X, y, test_size=0.33, random_state=42)\n",
    "\n",
    "        return None\n",
    "#--------------------------------------------------------------------\n",
    "#--------------------------------------------------------------------\n",
    "\n",
    "    def test_models(self, list_models='default', transformer=OneHotEncoder()):\n",
    "        \"\"\"--------------------------------------------------------\n",
    "        Test list of models and give mean accuracy after a cross validation\n",
    "            \n",
    "            Parameters\n",
    "            Dataframe X(features), Dataframe:y (target)\n",
    "\n",
    "            Returns\n",
    "            String of\n",
    "        ---------------------------------------------------------\"\"\"\n",
    "        if list_models == 'default':\n",
    "            list_models=self.list_models\n",
    "            \n",
    "        self.train_test_split(self.X, self.y)\n",
    "            \n",
    "        final_string=\"\"\n",
    "        for model in list_models:\n",
    "            \n",
    "            final_model = make_pipeline(transformer, model)\n",
    "            string=f\"model : {model} => {cross_val_score(final_model, self.X_train, self.y_train, cv=5).mean()}\"\n",
    "            print(string)\n",
    "            final_string+= (\"\\n\" + string)\n",
    "            \n",
    "\n",
    "        return final_string\n",
    "    \n",
    "#--------------------------------------------------------------------\n",
    "#--------------------------------------------------------------------\n",
    "\n",
    "\n",
    "\n",
    "\n",
    "\n"
   ]
  },
  {
   "cell_type": "code",
   "execution_count": 4,
   "id": "2a701ebd",
   "metadata": {
    "ExecuteTime": {
     "end_time": "2022-07-20T06:55:36.090839Z",
     "start_time": "2022-07-20T06:55:36.064749Z"
    }
   },
   "outputs": [],
   "source": [
    "mushroom = Mushroom_ml(df, '_class')\n",
    "new_df = mushroom.df_drop_cols(df, '_id')"
   ]
  },
  {
   "cell_type": "code",
   "execution_count": 5,
   "id": "72378aa8",
   "metadata": {
    "ExecuteTime": {
     "end_time": "2022-07-20T06:55:39.621774Z",
     "start_time": "2022-07-20T06:55:39.585632Z"
    }
   },
   "outputs": [],
   "source": [
    "mushroom.train_test_split(mushroom.X, mushroom.y)"
   ]
  },
  {
   "cell_type": "code",
   "execution_count": 7,
   "id": "669c32fd",
   "metadata": {
    "ExecuteTime": {
     "end_time": "2022-07-19T13:42:06.883062Z",
     "start_time": "2022-07-19T13:42:06.871623Z"
    }
   },
   "outputs": [
    {
     "name": "stdout",
     "output_type": "stream",
     "text": [
      "\n",
      "model : LogisticRegression() => 0.9996323529411765\n",
      "model : SGDClassifier() => 1.0\n",
      "model : LinearSVC() => 1.0\n",
      "model : KNeighborsClassifier(n_neighbors=10) => 0.9990812199535462\n",
      "model : StackingClassifier(estimators=[('model_1', LogisticRegression()),\n",
      "                               ('model_2', LogisticRegression())],\n",
      "                   final_estimator=LogisticRegression()) => 0.9996323529411765\n",
      "model : AdaBoostClassifier() => 1.0\n",
      "model : GradientBoostingClassifier() => 0.9996323529411765\n",
      "model : RandomForestClassifier(n_estimators=10) => 1.0\n"
     ]
    }
   ],
   "source": [
    "print(a)"
   ]
  },
  {
   "cell_type": "code",
   "execution_count": 8,
   "id": "19ce09d9",
   "metadata": {
    "ExecuteTime": {
     "end_time": "2022-07-19T13:42:07.782080Z",
     "start_time": "2022-07-19T13:42:06.893453Z"
    }
   },
   "outputs": [
    {
     "ename": "NameError",
     "evalue": "name 'np' is not defined",
     "output_type": "error",
     "traceback": [
      "\u001b[0;31m---------------------------------------------------------------------------\u001b[0m",
      "\u001b[0;31mNameError\u001b[0m                                 Traceback (most recent call last)",
      "Input \u001b[0;32mIn [8]\u001b[0m, in \u001b[0;36m<cell line: 1>\u001b[0;34m()\u001b[0m\n\u001b[0;32m----> 1\u001b[0m cat \u001b[38;5;241m=\u001b[39m mushroom\u001b[38;5;241m.\u001b[39mX_train\u001b[38;5;241m.\u001b[39mselect_dtypes(exclude \u001b[38;5;241m=\u001b[39m [\u001b[43mnp\u001b[49m\u001b[38;5;241m.\u001b[39mnumber])\u001b[38;5;241m.\u001b[39mcolumns\n\u001b[1;32m      2\u001b[0m transformer \u001b[38;5;241m=\u001b[39m make_column_transformer((OneHotEncoder(handle_unknown\u001b[38;5;241m=\u001b[39m\u001b[38;5;124m'\u001b[39m\u001b[38;5;124mignore\u001b[39m\u001b[38;5;124m'\u001b[39m), cat))\n\u001b[1;32m      3\u001b[0m send_model \u001b[38;5;241m=\u001b[39m LogisticRegression()\n",
      "\u001b[0;31mNameError\u001b[0m: name 'np' is not defined"
     ]
    }
   ],
   "source": [
    "cat = mushroom.X_train.select_dtypes(exclude = [np.number]).columns\n",
    "transformer = make_column_transformer((OneHotEncoder(handle_unknown='ignore'), cat))\n",
    "send_model = LogisticRegression()\n",
    "model = make_pipeline(transformer, send_model) "
   ]
  },
  {
   "cell_type": "code",
   "execution_count": 6,
   "id": "670b1383",
   "metadata": {
    "ExecuteTime": {
     "end_time": "2022-07-20T06:56:29.493308Z",
     "start_time": "2022-07-20T06:56:29.470920Z"
    }
   },
   "outputs": [],
   "source": [
    "send_model = LogisticRegression()\n",
    "model = make_pipeline(OrdinalEncoder(), send_model)"
   ]
  },
  {
   "cell_type": "code",
   "execution_count": 7,
   "id": "434878eb",
   "metadata": {
    "ExecuteTime": {
     "end_time": "2022-07-20T06:56:32.283725Z",
     "start_time": "2022-07-20T06:56:31.905004Z"
    }
   },
   "outputs": [
    {
     "name": "stderr",
     "output_type": "stream",
     "text": [
      "/Users/baguidou/Desktop/mushrooms/mushrooms/lib/python3.9/site-packages/sklearn/linear_model/_logistic.py:444: ConvergenceWarning: lbfgs failed to converge (status=1):\n",
      "STOP: TOTAL NO. of ITERATIONS REACHED LIMIT.\n",
      "\n",
      "Increase the number of iterations (max_iter) or scale the data as shown in:\n",
      "    https://scikit-learn.org/stable/modules/preprocessing.html\n",
      "Please also refer to the documentation for alternative solver options:\n",
      "    https://scikit-learn.org/stable/modules/linear_model.html#logistic-regression\n",
      "  n_iter_i = _check_optimize_result(\n"
     ]
    },
    {
     "data": {
      "text/html": [
       "<style>#sk-container-id-1 {color: black;background-color: white;}#sk-container-id-1 pre{padding: 0;}#sk-container-id-1 div.sk-toggleable {background-color: white;}#sk-container-id-1 label.sk-toggleable__label {cursor: pointer;display: block;width: 100%;margin-bottom: 0;padding: 0.3em;box-sizing: border-box;text-align: center;}#sk-container-id-1 label.sk-toggleable__label-arrow:before {content: \"▸\";float: left;margin-right: 0.25em;color: #696969;}#sk-container-id-1 label.sk-toggleable__label-arrow:hover:before {color: black;}#sk-container-id-1 div.sk-estimator:hover label.sk-toggleable__label-arrow:before {color: black;}#sk-container-id-1 div.sk-toggleable__content {max-height: 0;max-width: 0;overflow: hidden;text-align: left;background-color: #f0f8ff;}#sk-container-id-1 div.sk-toggleable__content pre {margin: 0.2em;color: black;border-radius: 0.25em;background-color: #f0f8ff;}#sk-container-id-1 input.sk-toggleable__control:checked~div.sk-toggleable__content {max-height: 200px;max-width: 100%;overflow: auto;}#sk-container-id-1 input.sk-toggleable__control:checked~label.sk-toggleable__label-arrow:before {content: \"▾\";}#sk-container-id-1 div.sk-estimator input.sk-toggleable__control:checked~label.sk-toggleable__label {background-color: #d4ebff;}#sk-container-id-1 div.sk-label input.sk-toggleable__control:checked~label.sk-toggleable__label {background-color: #d4ebff;}#sk-container-id-1 input.sk-hidden--visually {border: 0;clip: rect(1px 1px 1px 1px);clip: rect(1px, 1px, 1px, 1px);height: 1px;margin: -1px;overflow: hidden;padding: 0;position: absolute;width: 1px;}#sk-container-id-1 div.sk-estimator {font-family: monospace;background-color: #f0f8ff;border: 1px dotted black;border-radius: 0.25em;box-sizing: border-box;margin-bottom: 0.5em;}#sk-container-id-1 div.sk-estimator:hover {background-color: #d4ebff;}#sk-container-id-1 div.sk-parallel-item::after {content: \"\";width: 100%;border-bottom: 1px solid gray;flex-grow: 1;}#sk-container-id-1 div.sk-label:hover label.sk-toggleable__label {background-color: #d4ebff;}#sk-container-id-1 div.sk-serial::before {content: \"\";position: absolute;border-left: 1px solid gray;box-sizing: border-box;top: 0;bottom: 0;left: 50%;z-index: 0;}#sk-container-id-1 div.sk-serial {display: flex;flex-direction: column;align-items: center;background-color: white;padding-right: 0.2em;padding-left: 0.2em;position: relative;}#sk-container-id-1 div.sk-item {position: relative;z-index: 1;}#sk-container-id-1 div.sk-parallel {display: flex;align-items: stretch;justify-content: center;background-color: white;position: relative;}#sk-container-id-1 div.sk-item::before, #sk-container-id-1 div.sk-parallel-item::before {content: \"\";position: absolute;border-left: 1px solid gray;box-sizing: border-box;top: 0;bottom: 0;left: 50%;z-index: -1;}#sk-container-id-1 div.sk-parallel-item {display: flex;flex-direction: column;z-index: 1;position: relative;background-color: white;}#sk-container-id-1 div.sk-parallel-item:first-child::after {align-self: flex-end;width: 50%;}#sk-container-id-1 div.sk-parallel-item:last-child::after {align-self: flex-start;width: 50%;}#sk-container-id-1 div.sk-parallel-item:only-child::after {width: 0;}#sk-container-id-1 div.sk-dashed-wrapped {border: 1px dashed gray;margin: 0 0.4em 0.5em 0.4em;box-sizing: border-box;padding-bottom: 0.4em;background-color: white;}#sk-container-id-1 div.sk-label label {font-family: monospace;font-weight: bold;display: inline-block;line-height: 1.2em;}#sk-container-id-1 div.sk-label-container {text-align: center;}#sk-container-id-1 div.sk-container {/* jupyter's `normalize.less` sets `[hidden] { display: none; }` but bootstrap.min.css set `[hidden] { display: none !important; }` so we also need the `!important` here to be able to override the default hidden behavior on the sphinx rendered scikit-learn.org. See: https://github.com/scikit-learn/scikit-learn/issues/21755 */display: inline-block !important;position: relative;}#sk-container-id-1 div.sk-text-repr-fallback {display: none;}</style><div id=\"sk-container-id-1\" class=\"sk-top-container\"><div class=\"sk-text-repr-fallback\"><pre>Pipeline(steps=[(&#x27;ordinalencoder&#x27;, OrdinalEncoder()),\n",
       "                (&#x27;logisticregression&#x27;, LogisticRegression())])</pre><b>In a Jupyter environment, please rerun this cell to show the HTML representation or trust the notebook. <br />On GitHub, the HTML representation is unable to render, please try loading this page with nbviewer.org.</b></div><div class=\"sk-container\" hidden><div class=\"sk-item sk-dashed-wrapped\"><div class=\"sk-label-container\"><div class=\"sk-label sk-toggleable\"><input class=\"sk-toggleable__control sk-hidden--visually\" id=\"sk-estimator-id-1\" type=\"checkbox\" ><label for=\"sk-estimator-id-1\" class=\"sk-toggleable__label sk-toggleable__label-arrow\">Pipeline</label><div class=\"sk-toggleable__content\"><pre>Pipeline(steps=[(&#x27;ordinalencoder&#x27;, OrdinalEncoder()),\n",
       "                (&#x27;logisticregression&#x27;, LogisticRegression())])</pre></div></div></div><div class=\"sk-serial\"><div class=\"sk-item\"><div class=\"sk-estimator sk-toggleable\"><input class=\"sk-toggleable__control sk-hidden--visually\" id=\"sk-estimator-id-2\" type=\"checkbox\" ><label for=\"sk-estimator-id-2\" class=\"sk-toggleable__label sk-toggleable__label-arrow\">OrdinalEncoder</label><div class=\"sk-toggleable__content\"><pre>OrdinalEncoder()</pre></div></div></div><div class=\"sk-item\"><div class=\"sk-estimator sk-toggleable\"><input class=\"sk-toggleable__control sk-hidden--visually\" id=\"sk-estimator-id-3\" type=\"checkbox\" ><label for=\"sk-estimator-id-3\" class=\"sk-toggleable__label sk-toggleable__label-arrow\">LogisticRegression</label><div class=\"sk-toggleable__content\"><pre>LogisticRegression()</pre></div></div></div></div></div></div></div>"
      ],
      "text/plain": [
       "Pipeline(steps=[('ordinalencoder', OrdinalEncoder()),\n",
       "                ('logisticregression', LogisticRegression())])"
      ]
     },
     "execution_count": 7,
     "metadata": {},
     "output_type": "execute_result"
    }
   ],
   "source": [
    "model.fit(mushroom.X_train, mushroom.y_train)"
   ]
  },
  {
   "cell_type": "code",
   "execution_count": 8,
   "id": "fd016c42",
   "metadata": {
    "ExecuteTime": {
     "end_time": "2022-07-20T06:56:41.580406Z",
     "start_time": "2022-07-20T06:56:41.515187Z"
    }
   },
   "outputs": [],
   "source": [
    "y_pred = model.predict(mushroom.X_test)"
   ]
  },
  {
   "cell_type": "code",
   "execution_count": 9,
   "id": "be088fde",
   "metadata": {
    "ExecuteTime": {
     "end_time": "2022-07-20T06:56:44.907448Z",
     "start_time": "2022-07-20T06:56:44.728432Z"
    }
   },
   "outputs": [],
   "source": [
    "string = [f'accuracy : {accuracy_score(mushroom.y_test, y_pred)}',\n",
    "f'precision : {precision_score(mushroom.y_test, y_pred, average = None)}',\n",
    "f'recall : {recall_score(mushroom.y_test, y_pred, average = None)}',\n",
    "f'f1 : {f1_score(mushroom.y_test, y_pred, average = None)}']"
   ]
  },
  {
   "cell_type": "code",
   "execution_count": 10,
   "id": "3bd9bc1c",
   "metadata": {
    "ExecuteTime": {
     "end_time": "2022-07-20T06:56:50.626775Z",
     "start_time": "2022-07-20T06:56:48.386129Z"
    }
   },
   "outputs": [
    {
     "data": {
      "image/png": "[encoded data removed]",
      "text/plain": [
       "<Figure size 576x432 with 2 Axes>"
      ]
     },
     "metadata": {},
     "output_type": "display_data"
    }
   ],
   "source": [
    "listing = list(mushroom.y_test.unique())\n",
    "listing.sort()\n",
    "cm = confusion_matrix(mushroom.y_test, y_pred, labels=listing)\n",
    "fig, ax = plt.subplots(figsize=(8,6))\n",
    "disp = ConfusionMatrixDisplay(confusion_matrix=cm, display_labels=listing, )\n",
    "disp.plot(cmap=plt.cm.Blues, ax=ax)\n",
    "fig.suptitle('Decision Tree Confusion matrix, without normalization', fontweight='bold', fontsize=20);\n",
    "plt.show()"
   ]
  },
  {
   "cell_type": "code",
   "execution_count": 11,
   "id": "95b0d83f",
   "metadata": {
    "ExecuteTime": {
     "end_time": "2022-07-20T06:56:59.608508Z",
     "start_time": "2022-07-20T06:56:59.410282Z"
    }
   },
   "outputs": [
    {
     "name": "stdout",
     "output_type": "stream",
     "text": [
      "              precision    recall  f1-score   support\n",
      "\n",
      "      edible       0.96      0.95      0.95      1378\n",
      "    poisoned       0.95      0.96      0.95      1303\n",
      "\n",
      "    accuracy                           0.95      2681\n",
      "   macro avg       0.95      0.95      0.95      2681\n",
      "weighted avg       0.95      0.95      0.95      2681\n",
      "\n"
     ]
    }
   ],
   "source": [
    "listing = list(mushroom.y_test.unique())\n",
    "listing.sort()\n",
    "print(classification_report(mushroom.y_test, y_pred, target_names=listing))\n"
   ]
  },
  {
   "cell_type": "code",
   "execution_count": 12,
   "id": "a7f436fd",
   "metadata": {
    "ExecuteTime": {
     "end_time": "2022-07-20T06:57:04.163184Z",
     "start_time": "2022-07-20T06:57:04.149059Z"
    }
   },
   "outputs": [],
   "source": [
    "importances = model.steps[1][1].coef_[0]"
   ]
  },
  {
   "cell_type": "code",
   "execution_count": 13,
   "id": "0a974ece",
   "metadata": {
    "ExecuteTime": {
     "end_time": "2022-07-20T06:57:07.521106Z",
     "start_time": "2022-07-20T06:57:07.504631Z"
    }
   },
   "outputs": [
    {
     "data": {
      "text/plain": [
       "array([[-0.13458394,  1.04638878,  0.09249381,  3.63921302,  0.15528499,\n",
       "         1.06473897, -9.11232112,  7.67906248, -0.11042294, -0.7530693 ,\n",
       "        -3.78657208, -0.76681103,  0.1137552 , -0.24139082,  0.37893237,\n",
       "         0.        ,  2.04887716, -1.96805216, -0.5595488 ,  0.46257037,\n",
       "        -0.65109293, -0.28939285]])"
      ]
     },
     "execution_count": 13,
     "metadata": {},
     "output_type": "execute_result"
    }
   ],
   "source": [
    "model.steps[1][1].coef_"
   ]
  },
  {
   "cell_type": "code",
   "execution_count": 14,
   "id": "13c280a9",
   "metadata": {
    "ExecuteTime": {
     "end_time": "2022-07-20T06:57:10.553796Z",
     "start_time": "2022-07-20T06:57:10.538951Z"
    }
   },
   "outputs": [
    {
     "data": {
      "text/plain": [
       "Index(['_cap_shape', '_cap_surface', '_cap_color', '_bruises', '_odor',\n",
       "       '_gill_attachment', '_gill_spacing', '_gill_size', '_gill_color',\n",
       "       '_stalk_shape', '_stalk_root', '_stalk_surface_above_ring',\n",
       "       '_stalk_surface_below_ring', '_stalk_color_above_ring',\n",
       "       '_stalk_color_below_ring', '_veil_type', '_veil_color', '_ring_number',\n",
       "       '_ring_type', '_spore_print_color', '_population', '_habitat'],\n",
       "      dtype='object')"
      ]
     },
     "execution_count": 14,
     "metadata": {},
     "output_type": "execute_result"
    }
   ],
   "source": [
    "mushroom.X_train.columns"
   ]
  },
  {
   "cell_type": "code",
   "execution_count": 15,
   "id": "cf32b18b",
   "metadata": {
    "ExecuteTime": {
     "end_time": "2022-07-20T06:57:13.376029Z",
     "start_time": "2022-07-20T06:57:13.361707Z"
    }
   },
   "outputs": [
    {
     "data": {
      "text/plain": [
       "array([ 7,  3, 16,  5,  1, 19, 14,  4, 12,  2, 15,  8,  0, 13, 21, 18, 20,\n",
       "        9, 11, 17, 10,  6])"
      ]
     },
     "execution_count": 15,
     "metadata": {},
     "output_type": "execute_result"
    }
   ],
   "source": [
    "# Sort feature importances in descending order\n",
    "indices = np.argsort(importances)[::-1]\n",
    "indices"
   ]
  },
  {
   "cell_type": "code",
   "execution_count": 51,
   "id": "7f8a0d3c",
   "metadata": {
    "ExecuteTime": {
     "end_time": "2022-07-20T07:32:37.927755Z",
     "start_time": "2022-07-20T07:32:37.474678Z"
    }
   },
   "outputs": [
    {
     "data": {
      "image/png": "[encoded data removed]",
      "text/plain": [
       "<Figure size 432x288 with 1 Axes>"
      ]
     },
     "metadata": {},
     "output_type": "display_data"
    }
   ],
   "source": [
    "\n",
    "# Rearrange feature names so they match the sorted feature importances\n",
    "names = mushroom.X_train.columns\n",
    "\n",
    "# Create plot\n",
    "plt.figure()\n",
    "\n",
    "# Create plot title\n",
    "plt.title(\"Feature Importance\")\n",
    "\n",
    "# Add bars\n",
    "plt.bar(names, abs(importances[indices]), tick_label=names)\n",
    "#sns.barplot(x=names, y=importances[indices], orient='v')\n",
    "\n",
    "# Add feature names as x-axis labels\n",
    "plt.xticks(names, names, rotation=90)\n",
    "\n",
    "# Show plot\n",
    "plt.show()\n",
    "\n",
    "\n",
    "\n"
   ]
  },
  {
   "cell_type": "code",
   "execution_count": 56,
   "id": "3bfe2ce2",
   "metadata": {
    "ExecuteTime": {
     "end_time": "2022-07-20T10:10:45.498435Z",
     "start_time": "2022-07-20T10:10:44.580359Z"
    }
   },
   "outputs": [
    {
     "data": {
      "text/plain": [
       "<AxesSubplot:xlabel='importance', ylabel='feature'>"
      ]
     },
     "execution_count": 56,
     "metadata": {},
     "output_type": "execute_result"
    },
    {
     "data": {
      "image/png": "[encoded data removed]",
      "text/plain": [
       "<Figure size 504x504 with 1 Axes>"
      ]
     },
     "metadata": {},
     "output_type": "display_data"
    }
   ],
   "source": [
    "feature_importance = pd.DataFrame(names, columns = [\"feature\"])\n",
    "feature_importance[\"importance\"] = abs(importances)\n",
    "feature_importance.sort_values(by = [\"importance\"], ascending = False, inplace=True)\n",
    "f, ax = plt.subplots(figsize=(7, 7))\n",
    "sns.barplot(x=\"importance\", y=\"feature\", data=feature_importance, color=\"r\", ax=ax)"
   ]
  },
  {
   "cell_type": "code",
   "execution_count": 66,
   "id": "1a859f74",
   "metadata": {
    "ExecuteTime": {
     "end_time": "2022-07-20T10:32:24.089965Z",
     "start_time": "2022-07-20T10:32:23.761032Z"
    }
   },
   "outputs": [
    {
     "name": "stdout",
     "output_type": "stream",
     "text": [
      "['accuracy : 0.4244684819097352', 'precision : [0.45788668 0.33379501]', 'recall : [0.6509434  0.18495779]', 'f1 : [0.53760863 0.23802469]']\n"
     ]
    }
   ],
   "source": [
    "mushroom.train_test_split(mushroom.X, mushroom.y)\n",
    "send_model = LogisticRegression()\n",
    "transformer= OrdinalEncoder()\n",
    "model = make_pipeline(transformer, send_model)\n",
    "model.fit(mushroom.X_train, mushroom.y_train)\n",
    "y_pred = model.predict(mushroom.X_test)\n",
    "print([f'accuracy : {accuracy_score(mushroom.y_test, y_pred)}',\n",
    "f'precision : {precision_score(mushroom.y_test, y_pred, average = None)}',\n",
    "f'recall : {recall_score(mushroom.y_test, y_pred, average = None)}',\n",
    "f'f1 : {f1_score(mushroom.y_test, y_pred, average = None)}'])"
   ]
  },
  {
   "cell_type": "code",
   "execution_count": 133,
   "id": "2863f059",
   "metadata": {
    "ExecuteTime": {
     "end_time": "2022-07-20T11:22:58.681454Z",
     "start_time": "2022-07-20T11:22:47.293693Z"
    }
   },
   "outputs": [
    {
     "name": "stdout",
     "output_type": "stream",
     "text": [
      "model : LogisticRegression() => 0.9898949386917302\n",
      "model : SGDClassifier() => 0.9952231202398314\n",
      "model : LinearSVC() => 0.9954069437692432\n",
      "model : KNeighborsClassifier(n_neighbors=10) => 0.9860375141792254\n",
      "model : DecisionTreeClassifier() => 0.9968765192027224\n",
      "model : StackingClassifier(estimators=[('model_1', LogisticRegression()),\n",
      "                               ('model_2', LogisticRegression())],\n",
      "                   final_estimator=LogisticRegression()) => 0.9913646829255118\n",
      "model : AdaBoostClassifier() => 0.9961419002862852\n",
      "model : GradientBoostingClassifier() => 0.9965090409442012\n",
      "model : RandomForestClassifier(n_estimators=10) => 0.9970605115324366\n"
     ]
    }
   ],
   "source": [
    "mushroom=Mushroom_ml(\n",
    "    df[[\n",
    "        '_habitat',\n",
    "        '_class', \n",
    "        '_gill_color',\n",
    "        '_cap_color',\n",
    "        '_cap_shape',\n",
    "        '_odor'\n",
    "    ]],\n",
    "    '_class').test_models()"
   ]
  },
  {
   "cell_type": "code",
   "execution_count": 213,
   "id": "5faca3f0",
   "metadata": {
    "ExecuteTime": {
     "end_time": "2022-07-20T13:54:14.768428Z",
     "start_time": "2022-07-20T13:54:14.351765Z"
    }
   },
   "outputs": [
    {
     "data": {
      "image/png": "[encoded data removed]",
      "text/plain": [
       "<Figure size 360x360 with 1 Axes>"
      ]
     },
     "metadata": {},
     "output_type": "display_data"
    }
   ],
   "source": [
    "fig, ax = plt.subplots(figsize=(5,5))\n",
    "plot = sns.countplot(x = df[\"_habitat\"], color = 'cornflowerblue', ax=ax, hue=df[\"_class\"], dodge=True)"
   ]
  },
  {
   "cell_type": "code",
   "execution_count": 157,
   "id": "0901a278",
   "metadata": {
    "ExecuteTime": {
     "end_time": "2022-07-20T12:47:46.320877Z",
     "start_time": "2022-07-20T12:47:46.218207Z"
    }
   },
   "outputs": [
    {
     "data": {
      "text/html": [
       "<div>\n",
       "<style scoped>\n",
       "    .dataframe tbody tr th:only-of-type {\n",
       "        vertical-align: middle;\n",
       "    }\n",
       "\n",
       "    .dataframe tbody tr th {\n",
       "        vertical-align: top;\n",
       "    }\n",
       "\n",
       "    .dataframe thead th {\n",
       "        text-align: right;\n",
       "    }\n",
       "</style>\n",
       "<table border=\"1\" class=\"dataframe\">\n",
       "  <thead>\n",
       "    <tr style=\"text-align: right;\">\n",
       "      <th></th>\n",
       "      <th>_class</th>\n",
       "      <th>_cap_shape</th>\n",
       "      <th>_cap_surface</th>\n",
       "      <th>_cap_color</th>\n",
       "      <th>_bruises</th>\n",
       "      <th>_odor</th>\n",
       "      <th>_gill_attachment</th>\n",
       "      <th>_gill_spacing</th>\n",
       "      <th>_gill_size</th>\n",
       "      <th>_gill_color</th>\n",
       "      <th>...</th>\n",
       "      <th>_stalk_surface_below_ring</th>\n",
       "      <th>_stalk_color_above_ring</th>\n",
       "      <th>_stalk_color_below_ring</th>\n",
       "      <th>_veil_type</th>\n",
       "      <th>_veil_color</th>\n",
       "      <th>_ring_number</th>\n",
       "      <th>_ring_type</th>\n",
       "      <th>_spore_print_color</th>\n",
       "      <th>_population</th>\n",
       "      <th>_habitat</th>\n",
       "    </tr>\n",
       "  </thead>\n",
       "  <tbody>\n",
       "    <tr>\n",
       "      <th>0</th>\n",
       "      <td>poisoned</td>\n",
       "      <td>convex</td>\n",
       "      <td>smooth</td>\n",
       "      <td>brown</td>\n",
       "      <td>bruises</td>\n",
       "      <td>pungent</td>\n",
       "      <td>free</td>\n",
       "      <td>close</td>\n",
       "      <td>narrow</td>\n",
       "      <td>black</td>\n",
       "      <td>...</td>\n",
       "      <td>smooth</td>\n",
       "      <td>white</td>\n",
       "      <td>white</td>\n",
       "      <td>partial</td>\n",
       "      <td>white</td>\n",
       "      <td>one</td>\n",
       "      <td>pendant</td>\n",
       "      <td>black</td>\n",
       "      <td>scattered</td>\n",
       "      <td>urban</td>\n",
       "    </tr>\n",
       "    <tr>\n",
       "      <th>1</th>\n",
       "      <td>edible</td>\n",
       "      <td>convex</td>\n",
       "      <td>smooth</td>\n",
       "      <td>yellow</td>\n",
       "      <td>bruises</td>\n",
       "      <td>almond</td>\n",
       "      <td>free</td>\n",
       "      <td>close</td>\n",
       "      <td>broad</td>\n",
       "      <td>black</td>\n",
       "      <td>...</td>\n",
       "      <td>smooth</td>\n",
       "      <td>white</td>\n",
       "      <td>white</td>\n",
       "      <td>partial</td>\n",
       "      <td>white</td>\n",
       "      <td>one</td>\n",
       "      <td>pendant</td>\n",
       "      <td>brown</td>\n",
       "      <td>numerous</td>\n",
       "      <td>grasses</td>\n",
       "    </tr>\n",
       "    <tr>\n",
       "      <th>2</th>\n",
       "      <td>edible</td>\n",
       "      <td>bell</td>\n",
       "      <td>smooth</td>\n",
       "      <td>white</td>\n",
       "      <td>bruises</td>\n",
       "      <td>anise</td>\n",
       "      <td>free</td>\n",
       "      <td>close</td>\n",
       "      <td>broad</td>\n",
       "      <td>brown</td>\n",
       "      <td>...</td>\n",
       "      <td>smooth</td>\n",
       "      <td>white</td>\n",
       "      <td>white</td>\n",
       "      <td>partial</td>\n",
       "      <td>white</td>\n",
       "      <td>one</td>\n",
       "      <td>pendant</td>\n",
       "      <td>brown</td>\n",
       "      <td>numerous</td>\n",
       "      <td>meadows</td>\n",
       "    </tr>\n",
       "    <tr>\n",
       "      <th>3</th>\n",
       "      <td>poisoned</td>\n",
       "      <td>convex</td>\n",
       "      <td>scaly</td>\n",
       "      <td>white</td>\n",
       "      <td>bruises</td>\n",
       "      <td>pungent</td>\n",
       "      <td>free</td>\n",
       "      <td>close</td>\n",
       "      <td>narrow</td>\n",
       "      <td>brown</td>\n",
       "      <td>...</td>\n",
       "      <td>smooth</td>\n",
       "      <td>white</td>\n",
       "      <td>white</td>\n",
       "      <td>partial</td>\n",
       "      <td>white</td>\n",
       "      <td>one</td>\n",
       "      <td>pendant</td>\n",
       "      <td>black</td>\n",
       "      <td>scattered</td>\n",
       "      <td>urban</td>\n",
       "    </tr>\n",
       "    <tr>\n",
       "      <th>4</th>\n",
       "      <td>edible</td>\n",
       "      <td>convex</td>\n",
       "      <td>smooth</td>\n",
       "      <td>gray</td>\n",
       "      <td>no</td>\n",
       "      <td>none</td>\n",
       "      <td>free</td>\n",
       "      <td>crowded</td>\n",
       "      <td>broad</td>\n",
       "      <td>black</td>\n",
       "      <td>...</td>\n",
       "      <td>smooth</td>\n",
       "      <td>white</td>\n",
       "      <td>white</td>\n",
       "      <td>partial</td>\n",
       "      <td>white</td>\n",
       "      <td>one</td>\n",
       "      <td>evanescent</td>\n",
       "      <td>brown</td>\n",
       "      <td>abundant</td>\n",
       "      <td>grasses</td>\n",
       "    </tr>\n",
       "    <tr>\n",
       "      <th>...</th>\n",
       "      <td>...</td>\n",
       "      <td>...</td>\n",
       "      <td>...</td>\n",
       "      <td>...</td>\n",
       "      <td>...</td>\n",
       "      <td>...</td>\n",
       "      <td>...</td>\n",
       "      <td>...</td>\n",
       "      <td>...</td>\n",
       "      <td>...</td>\n",
       "      <td>...</td>\n",
       "      <td>...</td>\n",
       "      <td>...</td>\n",
       "      <td>...</td>\n",
       "      <td>...</td>\n",
       "      <td>...</td>\n",
       "      <td>...</td>\n",
       "      <td>...</td>\n",
       "      <td>...</td>\n",
       "      <td>...</td>\n",
       "      <td>...</td>\n",
       "    </tr>\n",
       "    <tr>\n",
       "      <th>8119</th>\n",
       "      <td>edible</td>\n",
       "      <td>knobbed</td>\n",
       "      <td>smooth</td>\n",
       "      <td>brown</td>\n",
       "      <td>no</td>\n",
       "      <td>none</td>\n",
       "      <td>attached</td>\n",
       "      <td>close</td>\n",
       "      <td>broad</td>\n",
       "      <td>yellow</td>\n",
       "      <td>...</td>\n",
       "      <td>smooth</td>\n",
       "      <td>orange</td>\n",
       "      <td>orange</td>\n",
       "      <td>partial</td>\n",
       "      <td>orange</td>\n",
       "      <td>one</td>\n",
       "      <td>pendant</td>\n",
       "      <td>buff</td>\n",
       "      <td>clustered</td>\n",
       "      <td>leaves</td>\n",
       "    </tr>\n",
       "    <tr>\n",
       "      <th>8120</th>\n",
       "      <td>edible</td>\n",
       "      <td>convex</td>\n",
       "      <td>smooth</td>\n",
       "      <td>brown</td>\n",
       "      <td>no</td>\n",
       "      <td>none</td>\n",
       "      <td>attached</td>\n",
       "      <td>close</td>\n",
       "      <td>broad</td>\n",
       "      <td>yellow</td>\n",
       "      <td>...</td>\n",
       "      <td>smooth</td>\n",
       "      <td>orange</td>\n",
       "      <td>orange</td>\n",
       "      <td>partial</td>\n",
       "      <td>brown</td>\n",
       "      <td>one</td>\n",
       "      <td>pendant</td>\n",
       "      <td>buff</td>\n",
       "      <td>several</td>\n",
       "      <td>leaves</td>\n",
       "    </tr>\n",
       "    <tr>\n",
       "      <th>8121</th>\n",
       "      <td>edible</td>\n",
       "      <td>flat</td>\n",
       "      <td>smooth</td>\n",
       "      <td>brown</td>\n",
       "      <td>no</td>\n",
       "      <td>none</td>\n",
       "      <td>attached</td>\n",
       "      <td>close</td>\n",
       "      <td>broad</td>\n",
       "      <td>brown</td>\n",
       "      <td>...</td>\n",
       "      <td>smooth</td>\n",
       "      <td>orange</td>\n",
       "      <td>orange</td>\n",
       "      <td>partial</td>\n",
       "      <td>orange</td>\n",
       "      <td>one</td>\n",
       "      <td>pendant</td>\n",
       "      <td>buff</td>\n",
       "      <td>clustered</td>\n",
       "      <td>leaves</td>\n",
       "    </tr>\n",
       "    <tr>\n",
       "      <th>8122</th>\n",
       "      <td>poisoned</td>\n",
       "      <td>knobbed</td>\n",
       "      <td>scaly</td>\n",
       "      <td>brown</td>\n",
       "      <td>no</td>\n",
       "      <td>fishy</td>\n",
       "      <td>free</td>\n",
       "      <td>close</td>\n",
       "      <td>narrow</td>\n",
       "      <td>buff</td>\n",
       "      <td>...</td>\n",
       "      <td>silky</td>\n",
       "      <td>white</td>\n",
       "      <td>white</td>\n",
       "      <td>partial</td>\n",
       "      <td>white</td>\n",
       "      <td>one</td>\n",
       "      <td>evanescent</td>\n",
       "      <td>white</td>\n",
       "      <td>several</td>\n",
       "      <td>leaves</td>\n",
       "    </tr>\n",
       "    <tr>\n",
       "      <th>8123</th>\n",
       "      <td>edible</td>\n",
       "      <td>convex</td>\n",
       "      <td>smooth</td>\n",
       "      <td>brown</td>\n",
       "      <td>no</td>\n",
       "      <td>none</td>\n",
       "      <td>attached</td>\n",
       "      <td>close</td>\n",
       "      <td>broad</td>\n",
       "      <td>yellow</td>\n",
       "      <td>...</td>\n",
       "      <td>smooth</td>\n",
       "      <td>orange</td>\n",
       "      <td>orange</td>\n",
       "      <td>partial</td>\n",
       "      <td>orange</td>\n",
       "      <td>one</td>\n",
       "      <td>pendant</td>\n",
       "      <td>orange</td>\n",
       "      <td>clustered</td>\n",
       "      <td>leaves</td>\n",
       "    </tr>\n",
       "  </tbody>\n",
       "</table>\n",
       "<p>8124 rows × 23 columns</p>\n",
       "</div>"
      ],
      "text/plain": [
       "        _class _cap_shape _cap_surface _cap_color _bruises    _odor  \\\n",
       "0     poisoned     convex       smooth      brown  bruises  pungent   \n",
       "1       edible     convex       smooth     yellow  bruises   almond   \n",
       "2       edible       bell       smooth      white  bruises    anise   \n",
       "3     poisoned     convex        scaly      white  bruises  pungent   \n",
       "4       edible     convex       smooth       gray       no     none   \n",
       "...        ...        ...          ...        ...      ...      ...   \n",
       "8119    edible    knobbed       smooth      brown       no     none   \n",
       "8120    edible     convex       smooth      brown       no     none   \n",
       "8121    edible       flat       smooth      brown       no     none   \n",
       "8122  poisoned    knobbed        scaly      brown       no    fishy   \n",
       "8123    edible     convex       smooth      brown       no     none   \n",
       "\n",
       "     _gill_attachment _gill_spacing _gill_size _gill_color  ...  \\\n",
       "0                free         close     narrow       black  ...   \n",
       "1                free         close      broad       black  ...   \n",
       "2                free         close      broad       brown  ...   \n",
       "3                free         close     narrow       brown  ...   \n",
       "4                free       crowded      broad       black  ...   \n",
       "...               ...           ...        ...         ...  ...   \n",
       "8119         attached         close      broad      yellow  ...   \n",
       "8120         attached         close      broad      yellow  ...   \n",
       "8121         attached         close      broad       brown  ...   \n",
       "8122             free         close     narrow        buff  ...   \n",
       "8123         attached         close      broad      yellow  ...   \n",
       "\n",
       "     _stalk_surface_below_ring _stalk_color_above_ring  \\\n",
       "0                       smooth                   white   \n",
       "1                       smooth                   white   \n",
       "2                       smooth                   white   \n",
       "3                       smooth                   white   \n",
       "4                       smooth                   white   \n",
       "...                        ...                     ...   \n",
       "8119                    smooth                  orange   \n",
       "8120                    smooth                  orange   \n",
       "8121                    smooth                  orange   \n",
       "8122                     silky                   white   \n",
       "8123                    smooth                  orange   \n",
       "\n",
       "     _stalk_color_below_ring _veil_type _veil_color _ring_number  _ring_type  \\\n",
       "0                      white    partial       white          one     pendant   \n",
       "1                      white    partial       white          one     pendant   \n",
       "2                      white    partial       white          one     pendant   \n",
       "3                      white    partial       white          one     pendant   \n",
       "4                      white    partial       white          one  evanescent   \n",
       "...                      ...        ...         ...          ...         ...   \n",
       "8119                  orange    partial      orange          one     pendant   \n",
       "8120                  orange    partial       brown          one     pendant   \n",
       "8121                  orange    partial      orange          one     pendant   \n",
       "8122                   white    partial       white          one  evanescent   \n",
       "8123                  orange    partial      orange          one     pendant   \n",
       "\n",
       "     _spore_print_color _population _habitat  \n",
       "0                 black   scattered    urban  \n",
       "1                 brown    numerous  grasses  \n",
       "2                 brown    numerous  meadows  \n",
       "3                 black   scattered    urban  \n",
       "4                 brown    abundant  grasses  \n",
       "...                 ...         ...      ...  \n",
       "8119               buff   clustered   leaves  \n",
       "8120               buff     several   leaves  \n",
       "8121               buff   clustered   leaves  \n",
       "8122              white     several   leaves  \n",
       "8123             orange   clustered   leaves  \n",
       "\n",
       "[8124 rows x 23 columns]"
      ]
     },
     "execution_count": 157,
     "metadata": {},
     "output_type": "execute_result"
    }
   ],
   "source": [
    "df2=df.drop('_id', axis=1)\n",
    "df2"
   ]
  },
  {
   "cell_type": "code",
   "execution_count": 158,
   "id": "01b457ae",
   "metadata": {
    "ExecuteTime": {
     "end_time": "2022-07-20T12:48:04.023046Z",
     "start_time": "2022-07-20T12:48:03.889038Z"
    }
   },
   "outputs": [
    {
     "data": {
      "text/html": [
       "<div>\n",
       "<style scoped>\n",
       "    .dataframe tbody tr th:only-of-type {\n",
       "        vertical-align: middle;\n",
       "    }\n",
       "\n",
       "    .dataframe tbody tr th {\n",
       "        vertical-align: top;\n",
       "    }\n",
       "\n",
       "    .dataframe thead th {\n",
       "        text-align: right;\n",
       "    }\n",
       "</style>\n",
       "<table border=\"1\" class=\"dataframe\">\n",
       "  <thead>\n",
       "    <tr style=\"text-align: right;\">\n",
       "      <th></th>\n",
       "      <th>_class</th>\n",
       "      <th>_cap_shape</th>\n",
       "      <th>_cap_surface</th>\n",
       "      <th>_cap_color</th>\n",
       "      <th>_bruises</th>\n",
       "      <th>_odor</th>\n",
       "      <th>_gill_attachment</th>\n",
       "      <th>_gill_spacing</th>\n",
       "      <th>_gill_size</th>\n",
       "      <th>_gill_color</th>\n",
       "      <th>...</th>\n",
       "      <th>_stalk_surface_below_ring</th>\n",
       "      <th>_stalk_color_above_ring</th>\n",
       "      <th>_stalk_color_below_ring</th>\n",
       "      <th>_veil_type</th>\n",
       "      <th>_veil_color</th>\n",
       "      <th>_ring_number</th>\n",
       "      <th>_ring_type</th>\n",
       "      <th>_spore_print_color</th>\n",
       "      <th>_population</th>\n",
       "      <th>_habitat</th>\n",
       "    </tr>\n",
       "  </thead>\n",
       "  <tbody>\n",
       "    <tr>\n",
       "      <th>0</th>\n",
       "      <td>poisoned</td>\n",
       "      <td>convex</td>\n",
       "      <td>smooth</td>\n",
       "      <td>brown</td>\n",
       "      <td>bruises</td>\n",
       "      <td>pungent</td>\n",
       "      <td>free</td>\n",
       "      <td>close</td>\n",
       "      <td>narrow</td>\n",
       "      <td>black</td>\n",
       "      <td>...</td>\n",
       "      <td>smooth</td>\n",
       "      <td>white</td>\n",
       "      <td>white</td>\n",
       "      <td>partial</td>\n",
       "      <td>white</td>\n",
       "      <td>one</td>\n",
       "      <td>pendant</td>\n",
       "      <td>black</td>\n",
       "      <td>scattered</td>\n",
       "      <td>urban</td>\n",
       "    </tr>\n",
       "    <tr>\n",
       "      <th>1</th>\n",
       "      <td>edible</td>\n",
       "      <td>convex</td>\n",
       "      <td>smooth</td>\n",
       "      <td>yellow</td>\n",
       "      <td>bruises</td>\n",
       "      <td>almond</td>\n",
       "      <td>free</td>\n",
       "      <td>close</td>\n",
       "      <td>broad</td>\n",
       "      <td>black</td>\n",
       "      <td>...</td>\n",
       "      <td>smooth</td>\n",
       "      <td>white</td>\n",
       "      <td>white</td>\n",
       "      <td>partial</td>\n",
       "      <td>white</td>\n",
       "      <td>one</td>\n",
       "      <td>pendant</td>\n",
       "      <td>brown</td>\n",
       "      <td>numerous</td>\n",
       "      <td>grasses</td>\n",
       "    </tr>\n",
       "    <tr>\n",
       "      <th>2</th>\n",
       "      <td>edible</td>\n",
       "      <td>bell</td>\n",
       "      <td>smooth</td>\n",
       "      <td>white</td>\n",
       "      <td>bruises</td>\n",
       "      <td>anise</td>\n",
       "      <td>free</td>\n",
       "      <td>close</td>\n",
       "      <td>broad</td>\n",
       "      <td>brown</td>\n",
       "      <td>...</td>\n",
       "      <td>smooth</td>\n",
       "      <td>white</td>\n",
       "      <td>white</td>\n",
       "      <td>partial</td>\n",
       "      <td>white</td>\n",
       "      <td>one</td>\n",
       "      <td>pendant</td>\n",
       "      <td>brown</td>\n",
       "      <td>numerous</td>\n",
       "      <td>meadows</td>\n",
       "    </tr>\n",
       "    <tr>\n",
       "      <th>3</th>\n",
       "      <td>poisoned</td>\n",
       "      <td>convex</td>\n",
       "      <td>scaly</td>\n",
       "      <td>white</td>\n",
       "      <td>bruises</td>\n",
       "      <td>pungent</td>\n",
       "      <td>free</td>\n",
       "      <td>close</td>\n",
       "      <td>narrow</td>\n",
       "      <td>brown</td>\n",
       "      <td>...</td>\n",
       "      <td>smooth</td>\n",
       "      <td>white</td>\n",
       "      <td>white</td>\n",
       "      <td>partial</td>\n",
       "      <td>white</td>\n",
       "      <td>one</td>\n",
       "      <td>pendant</td>\n",
       "      <td>black</td>\n",
       "      <td>scattered</td>\n",
       "      <td>urban</td>\n",
       "    </tr>\n",
       "    <tr>\n",
       "      <th>4</th>\n",
       "      <td>edible</td>\n",
       "      <td>convex</td>\n",
       "      <td>smooth</td>\n",
       "      <td>gray</td>\n",
       "      <td>no</td>\n",
       "      <td>none</td>\n",
       "      <td>free</td>\n",
       "      <td>crowded</td>\n",
       "      <td>broad</td>\n",
       "      <td>black</td>\n",
       "      <td>...</td>\n",
       "      <td>smooth</td>\n",
       "      <td>white</td>\n",
       "      <td>white</td>\n",
       "      <td>partial</td>\n",
       "      <td>white</td>\n",
       "      <td>one</td>\n",
       "      <td>evanescent</td>\n",
       "      <td>brown</td>\n",
       "      <td>abundant</td>\n",
       "      <td>grasses</td>\n",
       "    </tr>\n",
       "    <tr>\n",
       "      <th>...</th>\n",
       "      <td>...</td>\n",
       "      <td>...</td>\n",
       "      <td>...</td>\n",
       "      <td>...</td>\n",
       "      <td>...</td>\n",
       "      <td>...</td>\n",
       "      <td>...</td>\n",
       "      <td>...</td>\n",
       "      <td>...</td>\n",
       "      <td>...</td>\n",
       "      <td>...</td>\n",
       "      <td>...</td>\n",
       "      <td>...</td>\n",
       "      <td>...</td>\n",
       "      <td>...</td>\n",
       "      <td>...</td>\n",
       "      <td>...</td>\n",
       "      <td>...</td>\n",
       "      <td>...</td>\n",
       "      <td>...</td>\n",
       "      <td>...</td>\n",
       "    </tr>\n",
       "    <tr>\n",
       "      <th>8119</th>\n",
       "      <td>edible</td>\n",
       "      <td>knobbed</td>\n",
       "      <td>smooth</td>\n",
       "      <td>brown</td>\n",
       "      <td>no</td>\n",
       "      <td>none</td>\n",
       "      <td>attached</td>\n",
       "      <td>close</td>\n",
       "      <td>broad</td>\n",
       "      <td>yellow</td>\n",
       "      <td>...</td>\n",
       "      <td>smooth</td>\n",
       "      <td>orange</td>\n",
       "      <td>orange</td>\n",
       "      <td>partial</td>\n",
       "      <td>orange</td>\n",
       "      <td>one</td>\n",
       "      <td>pendant</td>\n",
       "      <td>buff</td>\n",
       "      <td>clustered</td>\n",
       "      <td>leaves</td>\n",
       "    </tr>\n",
       "    <tr>\n",
       "      <th>8120</th>\n",
       "      <td>edible</td>\n",
       "      <td>convex</td>\n",
       "      <td>smooth</td>\n",
       "      <td>brown</td>\n",
       "      <td>no</td>\n",
       "      <td>none</td>\n",
       "      <td>attached</td>\n",
       "      <td>close</td>\n",
       "      <td>broad</td>\n",
       "      <td>yellow</td>\n",
       "      <td>...</td>\n",
       "      <td>smooth</td>\n",
       "      <td>orange</td>\n",
       "      <td>orange</td>\n",
       "      <td>partial</td>\n",
       "      <td>brown</td>\n",
       "      <td>one</td>\n",
       "      <td>pendant</td>\n",
       "      <td>buff</td>\n",
       "      <td>several</td>\n",
       "      <td>leaves</td>\n",
       "    </tr>\n",
       "    <tr>\n",
       "      <th>8121</th>\n",
       "      <td>edible</td>\n",
       "      <td>flat</td>\n",
       "      <td>smooth</td>\n",
       "      <td>brown</td>\n",
       "      <td>no</td>\n",
       "      <td>none</td>\n",
       "      <td>attached</td>\n",
       "      <td>close</td>\n",
       "      <td>broad</td>\n",
       "      <td>brown</td>\n",
       "      <td>...</td>\n",
       "      <td>smooth</td>\n",
       "      <td>orange</td>\n",
       "      <td>orange</td>\n",
       "      <td>partial</td>\n",
       "      <td>orange</td>\n",
       "      <td>one</td>\n",
       "      <td>pendant</td>\n",
       "      <td>buff</td>\n",
       "      <td>clustered</td>\n",
       "      <td>leaves</td>\n",
       "    </tr>\n",
       "    <tr>\n",
       "      <th>8122</th>\n",
       "      <td>poisoned</td>\n",
       "      <td>knobbed</td>\n",
       "      <td>scaly</td>\n",
       "      <td>brown</td>\n",
       "      <td>no</td>\n",
       "      <td>fishy</td>\n",
       "      <td>free</td>\n",
       "      <td>close</td>\n",
       "      <td>narrow</td>\n",
       "      <td>buff</td>\n",
       "      <td>...</td>\n",
       "      <td>silky</td>\n",
       "      <td>white</td>\n",
       "      <td>white</td>\n",
       "      <td>partial</td>\n",
       "      <td>white</td>\n",
       "      <td>one</td>\n",
       "      <td>evanescent</td>\n",
       "      <td>white</td>\n",
       "      <td>several</td>\n",
       "      <td>leaves</td>\n",
       "    </tr>\n",
       "    <tr>\n",
       "      <th>8123</th>\n",
       "      <td>edible</td>\n",
       "      <td>convex</td>\n",
       "      <td>smooth</td>\n",
       "      <td>brown</td>\n",
       "      <td>no</td>\n",
       "      <td>none</td>\n",
       "      <td>attached</td>\n",
       "      <td>close</td>\n",
       "      <td>broad</td>\n",
       "      <td>yellow</td>\n",
       "      <td>...</td>\n",
       "      <td>smooth</td>\n",
       "      <td>orange</td>\n",
       "      <td>orange</td>\n",
       "      <td>partial</td>\n",
       "      <td>orange</td>\n",
       "      <td>one</td>\n",
       "      <td>pendant</td>\n",
       "      <td>orange</td>\n",
       "      <td>clustered</td>\n",
       "      <td>leaves</td>\n",
       "    </tr>\n",
       "  </tbody>\n",
       "</table>\n",
       "<p>8124 rows × 23 columns</p>\n",
       "</div>"
      ],
      "text/plain": [
       "        _class _cap_shape _cap_surface _cap_color _bruises    _odor  \\\n",
       "0     poisoned     convex       smooth      brown  bruises  pungent   \n",
       "1       edible     convex       smooth     yellow  bruises   almond   \n",
       "2       edible       bell       smooth      white  bruises    anise   \n",
       "3     poisoned     convex        scaly      white  bruises  pungent   \n",
       "4       edible     convex       smooth       gray       no     none   \n",
       "...        ...        ...          ...        ...      ...      ...   \n",
       "8119    edible    knobbed       smooth      brown       no     none   \n",
       "8120    edible     convex       smooth      brown       no     none   \n",
       "8121    edible       flat       smooth      brown       no     none   \n",
       "8122  poisoned    knobbed        scaly      brown       no    fishy   \n",
       "8123    edible     convex       smooth      brown       no     none   \n",
       "\n",
       "     _gill_attachment _gill_spacing _gill_size _gill_color  ...  \\\n",
       "0                free         close     narrow       black  ...   \n",
       "1                free         close      broad       black  ...   \n",
       "2                free         close      broad       brown  ...   \n",
       "3                free         close     narrow       brown  ...   \n",
       "4                free       crowded      broad       black  ...   \n",
       "...               ...           ...        ...         ...  ...   \n",
       "8119         attached         close      broad      yellow  ...   \n",
       "8120         attached         close      broad      yellow  ...   \n",
       "8121         attached         close      broad       brown  ...   \n",
       "8122             free         close     narrow        buff  ...   \n",
       "8123         attached         close      broad      yellow  ...   \n",
       "\n",
       "     _stalk_surface_below_ring _stalk_color_above_ring  \\\n",
       "0                       smooth                   white   \n",
       "1                       smooth                   white   \n",
       "2                       smooth                   white   \n",
       "3                       smooth                   white   \n",
       "4                       smooth                   white   \n",
       "...                        ...                     ...   \n",
       "8119                    smooth                  orange   \n",
       "8120                    smooth                  orange   \n",
       "8121                    smooth                  orange   \n",
       "8122                     silky                   white   \n",
       "8123                    smooth                  orange   \n",
       "\n",
       "     _stalk_color_below_ring _veil_type _veil_color _ring_number  _ring_type  \\\n",
       "0                      white    partial       white          one     pendant   \n",
       "1                      white    partial       white          one     pendant   \n",
       "2                      white    partial       white          one     pendant   \n",
       "3                      white    partial       white          one     pendant   \n",
       "4                      white    partial       white          one  evanescent   \n",
       "...                      ...        ...         ...          ...         ...   \n",
       "8119                  orange    partial      orange          one     pendant   \n",
       "8120                  orange    partial       brown          one     pendant   \n",
       "8121                  orange    partial      orange          one     pendant   \n",
       "8122                   white    partial       white          one  evanescent   \n",
       "8123                  orange    partial      orange          one     pendant   \n",
       "\n",
       "     _spore_print_color _population _habitat  \n",
       "0                 black   scattered    urban  \n",
       "1                 brown    numerous  grasses  \n",
       "2                 brown    numerous  meadows  \n",
       "3                 black   scattered    urban  \n",
       "4                 brown    abundant  grasses  \n",
       "...                 ...         ...      ...  \n",
       "8119               buff   clustered   leaves  \n",
       "8120               buff     several   leaves  \n",
       "8121               buff   clustered   leaves  \n",
       "8122              white     several   leaves  \n",
       "8123             orange   clustered   leaves  \n",
       "\n",
       "[8124 rows x 23 columns]"
      ]
     },
     "execution_count": 158,
     "metadata": {},
     "output_type": "execute_result"
    }
   ],
   "source": [
    "df2.drop_duplicates()"
   ]
  },
  {
   "cell_type": "code",
   "execution_count": 177,
   "id": "8e2a72c5",
   "metadata": {
    "ExecuteTime": {
     "end_time": "2022-07-20T12:55:40.800098Z",
     "start_time": "2022-07-20T12:55:40.545351Z"
    }
   },
   "outputs": [
    {
     "data": {
      "text/plain": [
       "_class                        2\n",
       "_cap_shape                    6\n",
       "_cap_surface                  4\n",
       "_cap_color                   10\n",
       "_bruises                      2\n",
       "_odor                         9\n",
       "_gill_attachment              2\n",
       "_gill_spacing                 2\n",
       "_gill_size                    2\n",
       "_gill_color                  12\n",
       "_stalk_shape                  2\n",
       "_stalk_root                   5\n",
       "_stalk_surface_above_ring     4\n",
       "_stalk_surface_below_ring     4\n",
       "_stalk_color_above_ring       9\n",
       "_stalk_color_below_ring       9\n",
       "_veil_type                    1\n",
       "_veil_color                   4\n",
       "_ring_number                  3\n",
       "_ring_type                    5\n",
       "_spore_print_color            9\n",
       "_population                   6\n",
       "_habitat                      7\n",
       "dtype: int64"
      ]
     },
     "execution_count": 177,
     "metadata": {},
     "output_type": "execute_result"
    }
   ],
   "source": [
    "df2.nunique()\n"
   ]
  },
  {
   "cell_type": "code",
   "execution_count": 181,
   "id": "8c628b71",
   "metadata": {
    "ExecuteTime": {
     "end_time": "2022-07-20T13:11:28.848104Z",
     "start_time": "2022-07-20T13:11:28.648204Z"
    }
   },
   "outputs": [
    {
     "data": {
      "text/plain": [
       "0"
      ]
     },
     "execution_count": 181,
     "metadata": {},
     "output_type": "execute_result"
    }
   ],
   "source": [
    "df2.duplicated().sum()\n"
   ]
  },
  {
   "cell_type": "code",
   "execution_count": 220,
   "id": "da3bc1c0",
   "metadata": {
    "ExecuteTime": {
     "end_time": "2022-07-20T14:19:38.293487Z",
     "start_time": "2022-07-20T14:19:38.270560Z"
    }
   },
   "outputs": [],
   "source": [
    "df2=df.drop('_id', axis=1)\n",
    "display_list = list(df2.columns)"
   ]
  },
  {
   "cell_type": "code",
   "execution_count": 214,
   "id": "e2d77c8a",
   "metadata": {
    "ExecuteTime": {
     "end_time": "2022-07-20T14:17:36.881194Z",
     "start_time": "2022-07-20T14:17:36.624317Z"
    }
   },
   "outputs": [
    {
     "ename": "AttributeError",
     "evalue": "'str' object has no attribute 'X'",
     "output_type": "error",
     "traceback": [
      "\u001b[0;31m---------------------------------------------------------------------------\u001b[0m",
      "\u001b[0;31mAttributeError\u001b[0m                            Traceback (most recent call last)",
      "Input \u001b[0;32mIn [214]\u001b[0m, in \u001b[0;36m<cell line: 1>\u001b[0;34m()\u001b[0m\n\u001b[0;32m----> 1\u001b[0m \u001b[43mmushroom\u001b[49m\u001b[38;5;241;43m.\u001b[39;49m\u001b[43mX\u001b[49m\u001b[38;5;241m.\u001b[39mcolumns\n",
      "\u001b[0;31mAttributeError\u001b[0m: 'str' object has no attribute 'X'"
     ]
    }
   ],
   "source": [
    "mushroom.X.columns"
   ]
  },
  {
   "cell_type": "code",
   "execution_count": 221,
   "id": "35c3e4dc",
   "metadata": {
    "ExecuteTime": {
     "end_time": "2022-07-20T14:19:51.000234Z",
     "start_time": "2022-07-20T14:19:50.967372Z"
    }
   },
   "outputs": [],
   "source": [
    "\n",
    "for supp_cols in [\n",
    "    \"_gill_attachment\",\n",
    "    \"_gill_spacing\",\n",
    "    \"_veil_color\",\n",
    "    \"_veil_type\",\n",
    "    \"_ring_number\"\n",
    "    ]:\n",
    "    display_list.remove(supp_cols)"
   ]
  },
  {
   "cell_type": "code",
   "execution_count": 222,
   "id": "84e48bb3",
   "metadata": {
    "ExecuteTime": {
     "end_time": "2022-07-20T14:19:58.536250Z",
     "start_time": "2022-07-20T14:19:58.524985Z"
    }
   },
   "outputs": [
    {
     "data": {
      "text/plain": [
       "['_class',\n",
       " '_cap_shape',\n",
       " '_cap_surface',\n",
       " '_cap_color',\n",
       " '_bruises',\n",
       " '_odor',\n",
       " '_gill_size',\n",
       " '_gill_color',\n",
       " '_stalk_shape',\n",
       " '_stalk_root',\n",
       " '_stalk_surface_above_ring',\n",
       " '_stalk_surface_below_ring',\n",
       " '_stalk_color_above_ring',\n",
       " '_stalk_color_below_ring',\n",
       " '_ring_type',\n",
       " '_spore_print_color',\n",
       " '_population',\n",
       " '_habitat']"
      ]
     },
     "execution_count": 222,
     "metadata": {},
     "output_type": "execute_result"
    }
   ],
   "source": [
    "display_list"
   ]
  },
  {
   "cell_type": "code",
   "execution_count": null,
   "id": "bab112e8",
   "metadata": {},
   "outputs": [],
   "source": []
  }
 ],
 "metadata": {
  "hide_input": false,
  "kernelspec": {
   "display_name": "mushrooms",
   "language": "python",
   "name": "mushrooms"
  },
  "language_info": {
   "codemirror_mode": {
    "name": "ipython",
    "version": 3
   },
   "file_extension": ".py",
   "mimetype": "text/x-python",
   "name": "python",
   "nbconvert_exporter": "python",
   "pygments_lexer": "ipython3",
   "version": "3.9.4"
  },
  "toc": {
   "base_numbering": 1,
   "nav_menu": {},
   "number_sections": false,
   "sideBar": true,
   "skip_h1_title": false,
   "title_cell": "Table of Contents",
   "title_sidebar": "Contents",
   "toc_cell": false,
   "toc_position": {},
   "toc_section_display": true,
   "toc_window_display": false
  },
  "varInspector": {
   "cols": {
    "lenName": 16,
    "lenType": 16,
    "lenVar": 40
   },
   "kernels_config": {
    "python": {
     "delete_cmd_postfix": "",
     "delete_cmd_prefix": "del ",
     "library": "var_list.py",
     "varRefreshCmd": "print(var_dic_list())"
    },
    "r": {
     "delete_cmd_postfix": ") ",
     "delete_cmd_prefix": "rm(",
     "library": "var_list.r",
     "varRefreshCmd": "cat(var_dic_list()) "
    }
   },
   "types_to_exclude": [
    "module",
    "function",
    "builtin_function_or_method",
    "instance",
    "_Feature"
   ],
   "window_display": false
  },
  "vscode": {
   "interpreter": {
    "hash": "af79a4b85d7a0d41aa5392ce35f1d90aaaabd4e2285ef769936e8890313ca176"
   }
  }
 },
 "nbformat": 4,
 "nbformat_minor": 5
}
